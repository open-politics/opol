{
 "cells": [
  {
   "cell_type": "code",
   "execution_count": null,
   "metadata": {},
   "outputs": [],
   "source": []
  },
  {
   "cell_type": "code",
   "execution_count": null,
   "metadata": {},
   "outputs": [],
   "source": [
    "import sys\n",
    "sys.path.append(\"../../python-client\")\n",
    "from opol.main import OPOL\n",
    "\n",
    "opol = OPOL(mode=\"local\")\n",
    "articles = opol.search.engine(\"Articles about german Politics\")\n",
    "texts = [article.content for article in articles[:10]]\n",
    "# list of article dicts\n",
    "\n",
    "query = \"This article talks about finance and the german elections.\"\n",
    "ranked_titles = opol.embeddings.rerank(query, texts, lean=True)\n",
    "# [8, 2, 1, 9, 4, 5, 6, 3, 0, 7]\n",
    "# index of the article in the list\n",
    "\n",
    "[articles[i][\"title\"] for i in ranked_titles]\n"
   ]
  },
  {
   "cell_type": "code",
   "execution_count": null,
   "metadata": {},
   "outputs": [],
   "source": [
    "opol = OPOL(mode=\"local\")\n",
    "\n",
    "# set up embedding class\n",
    "from opol.api.embeddings import Embeddings\n",
    "from opol.api.embeddings import EmbeddingTypes\n",
    "embedder = Embeddings(mode=\"local\", use_api=True, api_provider=\"jina\", api_provider_key=\"\")\n",
    "        \n",
    "query_embeddings = embedder.generate(\"German Election Politics\", \"query\")\n",
    "print(query_embeddings)\n"
   ]
  },
  {
   "cell_type": "code",
   "execution_count": null,
   "metadata": {},
   "outputs": [],
   "source": [
    "import sys\n",
    "sys.path.append(\"../../python-client\")\n",
    "from opol.main import OPOL\n",
    "from opol.api.embeddings import Embeddings\n",
    "\n",
    "def main():\n",
    "    try:\n",
    "        # Initialize OPOL\n",
    "        opol = OPOL(mode=\"local\")\n",
    "        \n",
    "        # Set up embedding class\n",
    "        embedder = Embeddings(\n",
    "            mode=\"local\",\n",
    "            use_api=True,\n",
    "            api_provider=\"jina\",\n",
    "            api_provider_key=\"\"\n",
    "        )\n",
    "        \n",
    "        # Search for articles about German Politics\n",
    "        articles = opol.articles(\"German Election Politics\", limit=30)\n",
    "        print(articles)\n",
    "        print(len(articles))\n",
    "        \n",
    "        # Define the query\n",
    "        query_coarse = \"This article talks about finance and the german elections.\"\n",
    "        \n",
    "        # Rerank based on titles\n",
    "        titles = [article[\"title\"] for article in articles]\n",
    "        ranked_indices_titles = embedder.rerank(query_coarse, titles)\n",
    "        print(ranked_indices_titles)\n",
    "        ranked_article_list = [articles[i] for i in ranked_indices_titles]\n",
    "        print(ranked_article_list)\n",
    "\n",
    "        fine_query = \"This article talks about finance and the german elections.\"\n",
    "        # Rerank based on content\n",
    "        texts = [article[\"text_content\"][:300] for article in ranked_article_list[:30]]\n",
    "        ranked_indices_content = embedder.rerank(fine_query, texts, lean=True)\n",
    "        \n",
    "        # Output results\n",
    "        print(\"Reranked indices based on titles:\", ranked_indices_titles)\n",
    "        print(\"Reranked indices based on content:\", ranked_indices_content)\n",
    "\n",
    "        print(\"*\" * 20)\n",
    "        print(f\"Top Articles on coarse reranking: {[articles[i]['title'] for i in ranked_indices_titles]}\")\n",
    "        for i in ranked_indices_titles:\n",
    "            print(articles[i]['title'])\n",
    "        print(\"*\" * 20)\n",
    "        print(\"Top Articles on fine reranking:\")\n",
    "        for i in ranked_indices_content:\n",
    "            print(articles[i]['title'])\n",
    "    \n",
    "    except Exception as e:\n",
    "        print(f\"An error occurred: {e}\")\n",
    "\n",
    "if __name__ == \"__main__\":\n",
    "    main()"
   ]
  },
  {
   "cell_type": "code",
   "execution_count": null,
   "metadata": {},
   "outputs": [],
   "source": [
    "import sys\n",
    "sys.path.append(\"../../python-client\")\n",
    "from opol.main import OPOL\n",
    "from opol.api.embeddings import Embeddings\n",
    "\n",
    "# Initialize Embeddings with correct parameters\n",
    "embedder = Embeddings(\n",
    "    mode=\"local\",\n",
    "    use_api=True,\n",
    "    api_provider=\"jina\",\n",
    "    api_provider_key=\"\"\n",
    ")\n",
    "\n",
    "# Use a valid embedding_type\n",
    "embeddings = embedder.generate(\"German Election Politics\", \"retrieval.query\")\n",
    "print(embeddings)"
   ]
  },
  {
   "cell_type": "code",
   "execution_count": null,
   "metadata": {},
   "outputs": [],
   "source": []
  },
  {
   "cell_type": "code",
   "execution_count": null,
   "metadata": {},
   "outputs": [],
   "source": []
  }
 ],
 "metadata": {
  "kernelspec": {
   "display_name": "Python 3",
   "language": "python",
   "name": "python3"
  },
  "language_info": {
   "codemirror_mode": {
    "name": "ipython",
    "version": 3
   },
   "file_extension": ".py",
   "mimetype": "text/x-python",
   "name": "python",
   "nbconvert_exporter": "python",
   "pygments_lexer": "ipython3",
   "version": "3.10.12"
  }
 },
 "nbformat": 4,
 "nbformat_minor": 2
}
