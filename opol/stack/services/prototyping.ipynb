{
 "cells": [
  {
   "cell_type": "code",
   "execution_count": null,
   "metadata": {},
   "outputs": [],
   "source": []
  },
  {
   "cell_type": "code",
   "execution_count": 2,
   "metadata": {},
   "outputs": [
    {
     "name": "stdout",
     "output_type": "stream",
     "text": [
      "http://localhost:420/embeddings\n",
      "{'embedding_type': 'separation', 'texts': ['This article talks about finance and the german elections.']}\n",
      "{}\n",
      "http://localhost:420/embeddings\n",
      "{'embedding_type': 'separation', 'texts': [\"SPD support still strong in Germany's industrial Ruhr region Unlike at national level, the center-left Social Democrats are still polling well in the western German city of Bochum. Politics 01/11 ...\", \"Economic challenges. Germany's economy has been shrinking for the past two years in the wake of the coronavirus pandemic, war in Ukraine and competition from China. Scholz's fractious coalition failed to find a way forward on some key issues.. Lindner's Free Democrats had rejected tax increases or changes to Germany's strict self-imposed limits on running up debt.\", 'Information about German politics. Select the subjects you want to know more about on euronews.com', 'Tech billionaire Elon Musk also ... to blast German Chancellor Olaf Scholz as an “incompetent fool.” ... With voters going to the polls in February, the tragedy ramps up concerns about security. ... Für SPD, Grüne und die FDP war 2024 kein gutes Jahr, für die deutsche Politik insgesamt ...', 'Olaf Scholz is under pressure to allow a vote of confidence as early as next week While the world has been watching Washington, Germany is quietly going into political meltdown. This is a very ...', 'Get the latest news, analysis and opinion on German politics', 'German Politics and Society is a peer-reviewed journal published and distributed by Berghahn Journals. It is the only American publication that explores issues in modern Germany from the combined perspectives of the social sciences, history, and cultural studies.', 'German Politics and Society is a peer-reviewed journal published and distributed by Berghahn Journals. It is the only American publication that explores issues in modern Germany from the combined perspectives of the social sciences, history, and cultural studies.', 'Publishes research on the challenges to Germany of globalisation and changing international relations, including comparative politics and public policy.', 'The political crisis was triggered just hours after it was announced former US President Donald Trump will get a second term – an election outcome that could bring further woes to Germany’s ...']}\n",
      "{}\n"
     ]
    },
    {
     "ename": "TypeError",
     "evalue": "'SearXngResults' object is not subscriptable",
     "output_type": "error",
     "traceback": [
      "\u001b[0;31m---------------------------------------------------------------------------\u001b[0m",
      "\u001b[0;31mTypeError\u001b[0m                                 Traceback (most recent call last)",
      "Cell \u001b[0;32mIn[2], line 15\u001b[0m\n\u001b[1;32m     11\u001b[0m ranked_titles \u001b[38;5;241m=\u001b[39m opol\u001b[38;5;241m.\u001b[39membeddings\u001b[38;5;241m.\u001b[39mrerank(query, texts, lean\u001b[38;5;241m=\u001b[39m\u001b[38;5;28;01mTrue\u001b[39;00m)\n\u001b[1;32m     12\u001b[0m \u001b[38;5;66;03m# [8, 2, 1, 9, 4, 5, 6, 3, 0, 7]\u001b[39;00m\n\u001b[1;32m     13\u001b[0m \u001b[38;5;66;03m# index of the article in the list\u001b[39;00m\n\u001b[0;32m---> 15\u001b[0m [articles[i][\u001b[38;5;124m\"\u001b[39m\u001b[38;5;124mtitle\u001b[39m\u001b[38;5;124m\"\u001b[39m] \u001b[38;5;28;01mfor\u001b[39;00m i \u001b[38;5;129;01min\u001b[39;00m ranked_titles]\n",
      "Cell \u001b[0;32mIn[2], line 15\u001b[0m, in \u001b[0;36m<listcomp>\u001b[0;34m(.0)\u001b[0m\n\u001b[1;32m     11\u001b[0m ranked_titles \u001b[38;5;241m=\u001b[39m opol\u001b[38;5;241m.\u001b[39membeddings\u001b[38;5;241m.\u001b[39mrerank(query, texts, lean\u001b[38;5;241m=\u001b[39m\u001b[38;5;28;01mTrue\u001b[39;00m)\n\u001b[1;32m     12\u001b[0m \u001b[38;5;66;03m# [8, 2, 1, 9, 4, 5, 6, 3, 0, 7]\u001b[39;00m\n\u001b[1;32m     13\u001b[0m \u001b[38;5;66;03m# index of the article in the list\u001b[39;00m\n\u001b[0;32m---> 15\u001b[0m [\u001b[43marticles\u001b[49m\u001b[43m[\u001b[49m\u001b[43mi\u001b[49m\u001b[43m]\u001b[49m\u001b[43m[\u001b[49m\u001b[38;5;124;43m\"\u001b[39;49m\u001b[38;5;124;43mtitle\u001b[39;49m\u001b[38;5;124;43m\"\u001b[39;49m\u001b[43m]\u001b[49m \u001b[38;5;28;01mfor\u001b[39;00m i \u001b[38;5;129;01min\u001b[39;00m ranked_titles]\n",
      "\u001b[0;31mTypeError\u001b[0m: 'SearXngResults' object is not subscriptable"
     ]
    }
   ],
   "source": [
    "import sys\n",
    "sys.path.append(\"../../python-client\")\n",
    "from opol.main import OPOL\n",
    "\n",
    "opol = OPOL(mode=\"local\")\n",
    "articles = opol.search.engine(\"Articles about german Politics\")\n",
    "texts = [article.content for article in articles[:10]]\n",
    "# list of article dicts\n",
    "\n",
    "query = \"This article talks about finance and the german elections.\"\n",
    "ranked_titles = opol.embeddings.rerank(query, texts, lean=True)\n",
    "# [8, 2, 1, 9, 4, 5, 6, 3, 0, 7]\n",
    "# index of the article in the list\n",
    "\n",
    "[articles[i][\"title\"] for i in ranked_titles]\n"
   ]
  },
  {
   "cell_type": "code",
   "execution_count": null,
   "metadata": {},
   "outputs": [],
   "source": [
    "opol = OPOL(mode=\"local\")\n",
    "\n",
    "# set up embedding class\n",
    "from opol.api.embeddings import Embeddings\n",
    "from opol.api.embeddings import EmbeddingTypes\n",
    "embedder = Embeddings(mode=\"local\", use_api=True, api_provider=\"jina\", api_provider_key=\"\")\n",
    "        \n",
    "query_embeddings = embedder.generate(\"German Election Politics\", \"query\")\n",
    "print(query_embeddings)\n"
   ]
  },
  {
   "cell_type": "code",
   "execution_count": null,
   "metadata": {},
   "outputs": [],
   "source": [
    "import sys\n",
    "sys.path.append(\"../../python-client\")\n",
    "from opol.main import OPOL\n",
    "from opol.api.embeddings import Embeddings\n",
    "\n",
    "def main():\n",
    "    try:\n",
    "        # Initialize OPOL\n",
    "        opol = OPOL(mode=\"local\")\n",
    "        \n",
    "        # Set up embedding class\n",
    "        embedder = Embeddings(\n",
    "            mode=\"local\",\n",
    "            use_api=True,\n",
    "            api_provider=\"jina\",\n",
    "            api_provider_key=\"\"\n",
    "        )\n",
    "        \n",
    "        # Search for articles about German Politics\n",
    "        articles = opol.articles(\"German Election Politics\", limit=30)\n",
    "        print(articles)\n",
    "        print(len(articles))\n",
    "        \n",
    "        # Define the query\n",
    "        query_coarse = \"This article talks about finance and the german elections.\"\n",
    "        \n",
    "        # Rerank based on titles\n",
    "        titles = [article[\"title\"] for article in articles]\n",
    "        ranked_indices_titles = embedder.rerank(query_coarse, titles)\n",
    "        print(ranked_indices_titles)\n",
    "        ranked_article_list = [articles[i] for i in ranked_indices_titles]\n",
    "        print(ranked_article_list)\n",
    "\n",
    "        fine_query = \"This article talks about finance and the german elections.\"\n",
    "        # Rerank based on content\n",
    "        texts = [article[\"text_content\"][:300] for article in ranked_article_list[:30]]\n",
    "        ranked_indices_content = embedder.rerank(fine_query, texts, lean=True)\n",
    "        \n",
    "        # Output results\n",
    "        print(\"Reranked indices based on titles:\", ranked_indices_titles)\n",
    "        print(\"Reranked indices based on content:\", ranked_indices_content)\n",
    "\n",
    "        print(\"*\" * 20)\n",
    "        print(f\"Top Articles on coarse reranking: {[articles[i]['title'] for i in ranked_indices_titles]}\")\n",
    "        for i in ranked_indices_titles:\n",
    "            print(articles[i]['title'])\n",
    "        print(\"*\" * 20)\n",
    "        print(\"Top Articles on fine reranking:\")\n",
    "        for i in ranked_indices_content:\n",
    "            print(articles[i]['title'])\n",
    "    \n",
    "    except Exception as e:\n",
    "        print(f\"An error occurred: {e}\")\n",
    "\n",
    "if __name__ == \"__main__\":\n",
    "    main()"
   ]
  },
  {
   "cell_type": "code",
   "execution_count": null,
   "metadata": {},
   "outputs": [],
   "source": [
    "import sys\n",
    "sys.path.append(\"../../python-client\")\n",
    "from opol.main import OPOL\n",
    "from opol.api.embeddings import Embeddings\n",
    "\n",
    "# Initialize Embeddings with correct parameters\n",
    "embedder = Embeddings(\n",
    "    mode=\"local\",\n",
    "    use_api=True,\n",
    "    api_provider=\"jina\",\n",
    "    api_provider_key=\"\"\n",
    ")\n",
    "\n",
    "# Use a valid embedding_type\n",
    "embeddings = embedder.generate(\"German Election Politics\", \"retrieval.query\")\n",
    "print(embeddings)"
   ]
  },
  {
   "cell_type": "code",
   "execution_count": null,
   "metadata": {},
   "outputs": [],
   "source": []
  },
  {
   "cell_type": "code",
   "execution_count": null,
   "metadata": {},
   "outputs": [],
   "source": []
  }
 ],
 "metadata": {
  "kernelspec": {
   "display_name": "Python 3",
   "language": "python",
   "name": "python3"
  },
  "language_info": {
   "codemirror_mode": {
    "name": "ipython",
    "version": 3
   },
   "file_extension": ".py",
   "mimetype": "text/x-python",
   "name": "python",
   "nbconvert_exporter": "python",
   "pygments_lexer": "ipython3",
   "version": "3.10.12"
  }
 },
 "nbformat": 4,
 "nbformat_minor": 2
}
