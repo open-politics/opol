{
 "cells": [
  {
   "cell_type": "markdown",
   "metadata": {},
   "source": [
    "# OPOL Python Client"
   ]
  },
  {
   "cell_type": "markdown",
   "metadata": {},
   "source": [
    "### Initialization"
   ]
  },
  {
   "cell_type": "markdown",
   "metadata": {},
   "source": [
    "#### Setup Client"
   ]
  },
  {
   "cell_type": "code",
   "execution_count": 22,
   "metadata": {},
   "outputs": [],
   "source": [
    "from opol.main import OPOL\n",
    "import os\n",
    "from pprint import pprint\n",
    "\n",
    "# 1. Setup client (using opol.io)\n",
    "# opol = OPOL(api_key=\"\")\n",
    "\n",
    "# Alternatively - if you have booted the opol stack on your machine (no api key needed)\n",
    "# Read opol/opol/stack/Readme.md for more information\n",
    "opol = OPOL(mode=\"local\")\n",
    "\n",
    "\n"
   ]
  },
  {
   "cell_type": "markdown",
   "metadata": {},
   "source": [
    "#### Articles"
   ]
  },
  {
   "cell_type": "code",
   "execution_count": null,
   "metadata": {},
   "outputs": [],
   "source": [
    "from opol.main import OPOL\n",
    "import os\n",
    "from pprint import pprint\n",
    "\n",
    "opol = OPOL(mode=\"local\", api_key=\"\")\n",
    "\n",
    "# Class submethods default to search\n",
    "print(opol.articles.get_articles(query=\"apple\"))\n",
    "print(opol.articles(\"New York\", pretty=True))    \n",
    "\n",
    "# Use date\n",
    "articles = opol.articles.get_articles(\"Berlin\", limit=100)\n",
    "\n",
    "entities = [article['title'] for article in articles[:3]]\n",
    "entity_ids = [article['id'] for article in articles]\n",
    "print(entities)\n",
    "print(entity_ids)\n",
    "\n",
    "geojson = opol.geo.by_id(entity_ids)\n",
    "print(geojson[0]['features'])\n"
   ]
  },
  {
   "cell_type": "code",
   "execution_count": null,
   "metadata": {},
   "outputs": [],
   "source": [
    "from opol.main import OPOL\n",
    "import os\n",
    "from pprint import pprint\n",
    "\n",
    "opol = OPOL(mode=\"local\", api_key=\"\")\n",
    "\n",
    "articles = opol.articles.by_entity(\"Trump\", limit=100)\n",
    "\n",
    "for article in articles:\n",
    "    print(article.keys())\n",
    "    print(f\"{article['title']}:\" + article['insertion_date'] + \"\\n\")"
   ]
  },
  {
   "cell_type": "markdown",
   "metadata": {},
   "source": [
    "#### Geojson & Geocoding"
   ]
  },
  {
   "cell_type": "code",
   "execution_count": null,
   "metadata": {},
   "outputs": [],
   "source": [
    "from opol.main import OPOL\n",
    "import os\n",
    "\n",
    "# set env variable\n",
    "os.environ['OPOL_MODE'] = \"remote\"\n",
    "\n",
    "opol = OPOL(api_key=\"\")\n",
    "\n",
    "geojson = opol.geo.json_by_event(\"War\", limit=5)\n",
    "print(geojson)\n",
    "\n",
    "berlin_coords = opol.geo.code(\"Berlin\")[\"coordinates\"]\n",
    "print(berlin_coords)\n",
    "\n",
    "\n"
   ]
  },
  {
   "cell_type": "markdown",
   "metadata": {},
   "source": [
    "#### Polls"
   ]
  },
  {
   "cell_type": "code",
   "execution_count": null,
   "metadata": {},
   "outputs": [],
   "source": [
    "from opol.main import OPOL\n",
    "from pprint import pprint\n",
    "\n",
    "opol = OPOL(mode=\"local\", api_key=\"\")\n",
    "\n",
    "# polls = opol.scraping.polls(\"Germany\")\n",
    "\n",
    "# for pol in polls:\n",
    "#     if pol['party'] == \"GRÜNE\" or pol['party'] == \"CDU/CSU\":\n",
    "#         print(pol)\n",
    "\n",
    "\n",
    "# Latest Polls for each Insittute\n",
    "# polls = opol.scraping.polls(\"Germany\", latest=True)\n",
    "\n",
    "# for poll in polls:\n",
    "#     print(poll)\n",
    "\n",
    "ranked_polls = opol.scraping.polls(\"Germany\", summarised=True)\n",
    "\n",
    "for poll in ranked_polls:\n",
    "    print(poll['party'] + \": \" + str(poll['percentage']) + f\" ({poll['change_since_election']})\") \n",
    "\n"
   ]
  },
  {
   "cell_type": "markdown",
   "metadata": {},
   "source": [
    "### Legislation"
   ]
  },
  {
   "cell_type": "code",
   "execution_count": null,
   "metadata": {},
   "outputs": [],
   "source": [
    "from opol.main import OPOL\n",
    "\n",
    "opol = OPOL(api_key=\"\")\n",
    "\n",
    "events = opol.scraping.legislation(\"Germany\")\n",
    "\n",
    "\n",
    "for event in events[:1]:\n",
    "    print(event)\n",
    "        "
   ]
  },
  {
   "cell_type": "markdown",
   "metadata": {},
   "source": [
    "### Economics"
   ]
  },
  {
   "cell_type": "code",
   "execution_count": null,
   "metadata": {},
   "outputs": [],
   "source": [
    "from opol.main import OPOL\n",
    "\n",
    "opol = OPOL(mode=\"local\")\n",
    "\n",
    "all_events = opol.scraping.economic(\"Germany\")\n",
    "\n",
    "gdp_events = opol.scraping.economic(\"Germany\", indicators=[\"GDP\"])\n",
    "\n",
    "\n",
    "for event in all_events[:3]:\n",
    "    print(event)\n",
    "\n",
    "print(\"*\"*20)\n",
    "\n",
    "for event in gdp_events[:3]:\n",
    "    print(event)"
   ]
  },
  {
   "cell_type": "markdown",
   "metadata": {},
   "source": [
    "### LLM Classifications (custom llm wrapper)"
   ]
  },
  {
   "cell_type": "code",
   "execution_count": null,
   "metadata": {},
   "outputs": [],
   "source": [
    "from opol.api.classification import Classification\n",
    "from opol.main import OPOL\n",
    "import os\n",
    "\n",
    "# Initialize the OPOL client in local mode\n",
    "opol = OPOL(mode=\"local\")\n",
    "\n",
    "# Set the API key for accessing the Google Generative AI service\n",
    "# api_key = \"\"\n",
    "api_key = os.environ[\"GOOGLE_API_KEY\"]\n",
    "\n",
    "\n",
    "# Initialize the classification service with the specified provider, model, and API key\n",
    "xclass = opol.classification(provider=\"Google\", model_name=\"models/gemini-1.5-flash-latest\", llm_api_key=api_key)\n",
    "\n",
    "# Example 1: Classify user preference for frozen dairy products on a scale of 1 to 10\n",
    "user_input = \"I love ice cream\"\n",
    "prompt = \"On a 1-10 scale how much the user likes frozen dairy products\"\n",
    "int_value = xclass.classify(\"int\", prompt, user_input)\n",
    "print(\"User preference rating:\", int_value)\n",
    "\n",
    "# Example 2: Extract keywords from a given text\n",
    "text = \"In the madagascan wilds the biggest wild animal is the elephant in the globe finance trade is offshore jusrisdiction diffusion\"\n",
    "instruction = \"The topics relevant to this text. Only semantically relevant to a content system\"\n",
    "keywords = xclass.classify(\"List[str]\", instruction, text)\n",
    "print(\"Extracted keywords:\", keywords)\n",
    "\n",
    "# Example 3: Use a Pydantic model to classify request types with keywords and relevance level\n",
    "from pydantic import BaseModel, Field\n",
    "from typing import List\n",
    "\n",
    "class RequestType(BaseModel):\n",
    "    \"\"\"\n",
    "    This is the main classification for incoming request types.\n",
    "    \"\"\"\n",
    "    keywords: List[str] = Field(description=\"The keywords relevant to this text. Only semantically relevant to a content system\")\n",
    "    relevance_level: int = Field(description=\"On a 1-10 scale how much the content is relevant\")\n",
    "\n",
    "# Classify the request using the Pydantic model\n",
    "request = xclass.classify(RequestType, instruction, text)\n",
    "print(\"Classified request:\", request)\n",
    "\n",
    "## Results\n",
    "# User preference rating: 10\n",
    "# Extracted keywords: ['madagascan', 'wilds', 'biggest', 'animal', 'elephant']\n",
    "# Classified request: keywords=['madagascar', 'wildlife', 'elephant'] relevance_level=8\n"
   ]
  },
  {
   "cell_type": "code",
   "execution_count": null,
   "metadata": {},
   "outputs": [],
   "source": [
    "from opol.main import OPOL\n",
    "import os\n",
    "from pprint import pprint\n",
    "\n",
    "# 1. Setup client (using opol.io)\n",
    "# opol = OPOL(api_key=\"\")\n",
    "\n",
    "# Alternatively - if you have booted the opol stack on your machine (no api key needed)\n",
    "# Read opol/opol/stack/Readme.md for more information\n",
    "opol = OPOL(mode=\"local\")\n",
    "\n",
    "\n",
    "for poll in opol.scraping.polls(\"Germany\", latest=True):\n",
    "    print(poll)\n",
    "\n"
   ]
  },
  {
   "cell_type": "markdown",
   "metadata": {},
   "source": [
    "### Search Engine (Google, Bing, Wikipedia, Axiv)"
   ]
  },
  {
   "cell_type": "code",
   "execution_count": null,
   "metadata": {},
   "outputs": [],
   "source": [
    "from opol.main import OPOL\n",
    "from pydantic import BaseModel\n",
    "from typing import List, Optional\n",
    "\n",
    "opol = OPOL(mode=\"local\")\n",
    "\n",
    "articles = opol.search.engine(\"Latest news from Gaza\", engine=\"wikipedia\")\n",
    "\n",
    "\n",
    "for article in articles[:2]:\n",
    "    print(article)\n",
    "\n",
    "print(\"*\"*20)\n",
    "images = opol.search.image(\"Latest news from Gaza\")\n",
    "\n",
    "for image in images[:6]:\n",
    "    print(image)\n",
    "\n"
   ]
  },
  {
   "cell_type": "markdown",
   "metadata": {},
   "source": [
    "### Embeddings"
   ]
  },
  {
   "cell_type": "code",
   "execution_count": null,
   "metadata": {},
   "outputs": [],
   "source": [
    "from opol.main import OPOL\n",
    "\n",
    "opol = OPOL(mode=\"local\")\n",
    "\n",
    "embeddings = opol.embeddings(\"What is the capital of Germany?\")\n",
    "\n",
    "print(embeddings)\n",
    "print(len(embeddings))\n"
   ]
  },
  {
   "cell_type": "code",
   "execution_count": null,
   "metadata": {},
   "outputs": [],
   "source": []
  },
  {
   "cell_type": "markdown",
   "metadata": {},
   "source": [
    "## Full Flow"
   ]
  },
  {
   "cell_type": "code",
   "execution_count": null,
   "metadata": {},
   "outputs": [],
   "source": []
  },
  {
   "cell_type": "code",
   "execution_count": null,
   "metadata": {},
   "outputs": [],
   "source": [
    "from opol.main import OPOL\n",
    "from pydantic import BaseModel, Field\n",
    "from typing import List\n",
    "import os\n",
    "import numpy as np\n",
    "\n",
    "opol = OPOL(mode=\"local\")\n",
    "api_key = \"\"\n",
    "fastclass = opol.classification(provider=\"Google\", model_name=\"models/gemini-1.5-flash-latest\", llm_api_key=api_key)\n",
    "\n",
    "\n",
    "class ExpandedQuery(BaseModel):\n",
    "    \"\"\"\n",
    "    As a political intelligence analyst, your task is to generate a set of three queries that delve deeper into geopolitical dynamics, building upon the initial query and the insights gathered from its search results.\n",
    "\n",
    "    For instance, if the original query was \"Middle East\", your output should follow this format:\n",
    "\n",
    "    [\n",
    "        \"Current political situation in the Middle East\",\n",
    "        \"Recent military & conflict developments in the Middle East\",\n",
    "        \"Economic assessments of the Middle East\"\n",
    "    ]\n",
    "\n",
    "\n",
    "    Aim to create queries that progressively explore more specific geopolitical factors, implications, or related topics concerning the initial query. The goal is to anticipate the analyst's potential information needs and guide them towards a more comprehensive understanding of the geopolitical landscape.\n",
    "    Please match the language of the response to the analyst's language.\n",
    "    Also return the timeframe you want to search in, depending on the generality of the issue.\n",
    "    Very detailed and specified queries are likely to inquire more recent content.  \n",
    "    \n",
    "    Return three queries.\n",
    "    Return one timeframe, which is a literal of: [ day, month, year ]\n",
    "\n",
    "    \"\"\"\n",
    "    similar: List[str] = None\n",
    "    time_range: str = None\n",
    "\n",
    "query = \"Current developments in Gaza?\"\n",
    "instruction = \"\"\n",
    "expanded_query = fastclass.classify(ExpandedQuery, instruction, query)\n",
    "\n",
    "all_articles = []\n",
    "\n",
    "# Collect articles (max 50)\n",
    "counter = 0\n",
    "for query in expanded_query.similar:\n",
    "    articles = opol.search.engine(query, time_range=expanded_query.time_range)\n",
    "    for article in articles:\n",
    "        if counter > 70:\n",
    "            break\n",
    "        all_articles.append(article)\n",
    "        counter += 1\n",
    "\n",
    "# Rerank articles based on similarity to the query\n",
    "query_embedding = opol.embeddings(query)\n",
    "ranked_articles = opol.embeddings.rerank_articles(query_embedding, all_articles, text_field=\"title\")\n",
    "\n",
    "# Print top 2 ranked articles\n",
    "for article in ranked_articles[:15]:\n",
    "    for field in article[0]:\n",
    "        print(field)"
   ]
  },
  {
   "cell_type": "markdown",
   "metadata": {},
   "source": [
    "## Scrape a url\n"
   ]
  },
  {
   "cell_type": "code",
   "execution_count": null,
   "metadata": {},
   "outputs": [],
   "source": [
    "from opol.main import OPOL\n",
    "\n",
    "opol = OPOL(mode=\"local\")\n",
    "\n",
    "url = \"https://www.dw.com/en//en/pakistans-punjab-imposes-activity-bans-amid-intense-smog/a-70755328\"\n",
    "scraped_url = opol.scraping.url(url)\n",
    "\n",
    "print(scraped_url)"
   ]
  },
  {
   "cell_type": "code",
   "execution_count": null,
   "metadata": {},
   "outputs": [],
   "source": []
  },
  {
   "cell_type": "code",
   "execution_count": null,
   "metadata": {},
   "outputs": [],
   "source": [
    "from opol.main import OPOL\n",
    "\n",
    "opol = OPOL(mode=\"remote\", api_key=\"\")\n",
    "\n",
    "geocode = opol.geo.code(\"Berlin\")\n",
    "\n",
    "print(geocode)\n",
    "articles = opol.search.engine(\"Latest news from Gaza\", engine=\"wikipedia\")\n",
    "\n",
    "for article in articles:\n",
    "    print(article)\n",
    "    "
   ]
  },
  {
   "cell_type": "code",
   "execution_count": null,
   "metadata": {},
   "outputs": [],
   "source": []
  },
  {
   "cell_type": "code",
   "execution_count": null,
   "metadata": {},
   "outputs": [],
   "source": []
  },
  {
   "cell_type": "code",
   "execution_count": null,
   "metadata": {},
   "outputs": [],
   "source": [
    "import requests\n",
    "import regex as r\n",
    "from bs4 import BeautifulSoup\n",
    "\n",
    "def fetch_party_and_percentage():\n",
    "    # Define the Wikipedia API URL for the opensearch endpoint\n",
    "    search_url = \"https://en.wikipedia.org/w/api.php\"\n",
    "    search_params = {\n",
    "        \"action\": \"opensearch\",\n",
    "        \"search\": \"2021 German federal election\",\n",
    "        \"limit\": 1,\n",
    "        \"namespace\": 0,\n",
    "        \"format\": \"json\"\n",
    "    }\n",
    "    \n",
    "    # Perform the search\n",
    "    response = requests.get(search_url, params=search_params)\n",
    "    search_results = response.json()\n",
    "    \n",
    "    # Extract the page URL from the search results\n",
    "    if search_results and len(search_results) > 3 and search_results[3]:\n",
    "        page_url = search_results[3][0]\n",
    "    else:\n",
    "        raise Exception(\"Wikipedia page not found.\")\n",
    "    \n",
    "    # Fetch the page content\n",
    "    page_response = requests.get(page_url)\n",
    "    soup = BeautifulSoup(page_response.content, 'html.parser')\n",
    "    \n",
    "    # Find the election results table\n",
    "    table = soup.find('table', {'class': 'infobox'})\n",
    "    if not table:\n",
    "        raise Exception(\"Election results table not found.\")\n",
    "    \n",
    "    # Initialize a dictionary to hold data\n",
    "    data = {\n",
    "        'Party': [],\n",
    "        'Percentage': []\n",
    "    }\n",
    "    \n",
    "    # Iterate over table rows to extract data\n",
    "    rows = table.find_all('tr')\n",
    "    for row in rows:\n",
    "        header = row.find('th')\n",
    "        data_cells = row.find_all('td')\n",
    "        if header and data_cells:\n",
    "            key = header.get_text(strip=True)\n",
    "            if key in data:\n",
    "                for cell in data_cells:\n",
    "                    text = cell.get_text(strip=True)\n",
    "                    if text:\n",
    "                        if key == 'Percentage':\n",
    "                            text = r.search(r'\\d{1,2}\\.\\d{1,2}', text).group(0)\n",
    "                        data[key].append(text)\n",
    "    \n",
    "    # Print the extracted data\n",
    "    for party, percentage in zip(data['Party'], data['Percentage']):\n",
    "        print(f\"Party: {party}, Percentage: {percentage}\")\n",
    "\n",
    "fetch_party_and_percentage()\n",
    "\n",
    "from opol.main import OPOL\n",
    "from pprint import pprint\n",
    "\n",
    "opol = OPOL(mode=\"local\", api_key=\"\")\n",
    "\n",
    "# polls = opol.scraping.polls(\"Germany\")\n",
    "\n",
    "# for pol in polls:\n",
    "#     if pol['party'] == \"GRÜNE\" or pol['party'] == \"CDU/CSU\":\n",
    "#         print(pol)\n",
    "\n",
    "\n",
    "# Latest Polls for each Insittute\n",
    "# polls = opol.scraping.polls(\"Germany\", latest=True)\n",
    "\n",
    "# for poll in polls:\n",
    "#     print(poll)\n",
    "\n",
    "ranked_polls = opol.scraping.polls(\"Germany\", summarised=True)\n",
    "\n",
    "for poll in ranked_polls:\n",
    "    print(poll['party'] + \": \" + str(poll['percentage']) + f\" ({poll['change_since_election']})\") \n",
    "\n"
   ]
  },
  {
   "cell_type": "code",
   "execution_count": 4,
   "metadata": {},
   "outputs": [
    {
     "name": "stdout",
     "output_type": "stream",
     "text": [
      "Ingesting single document...\n",
      "Response: message='Documents ingested successfully.' content_ids=['fccef182-f0df-4dbd-95a6-cebf74a5b20a'] contents=None\n",
      "\n",
      "Ingesting multiple documents...\n",
      "Response: message='Documents ingested successfully.' content_ids=['fb8e3f1c-8e03-4e0a-aafc-58b9eb713c0c', 'f98fecb2-82ba-41f1-aec4-799c1229a307'] contents=None\n",
      "[Document(id='fb8e3f1c-8e03-4e0a-aafc-58b9eb713c0c', url='https://example.com/article2', title='Example Article 2', content_type='article', source=None, text_content='Test content 2', insertion_date='2025-01-10T17:30:51.052560+00:00', summary='Test summary 2', meta_summary=None, media_details=None), Document(id='f98fecb2-82ba-41f1-aec4-799c1229a307', url='https://example.com/article3', title='Example Article 3', content_type='article', source=None, text_content='Test content 3', insertion_date='2025-01-10T17:30:51.056195+00:00', summary='Test summary 3', meta_summary=None, media_details=None)]\n",
      "********************\n",
      "id='fb8e3f1c-8e03-4e0a-aafc-58b9eb713c0c' url='https://example.com/article2' title='Example Article 2' content_type='article' source=None text_content='Test content 2' insertion_date='2025-01-10T17:30:51.052560+00:00' summary='Test summary 2' meta_summary=None media_details=None\n",
      "id='f98fecb2-82ba-41f1-aec4-799c1229a307' url='https://example.com/article3' title='Example Article 3' content_type='article' source=None text_content='Test content 3' insertion_date='2025-01-10T17:30:51.056195+00:00' summary='Test summary 3' meta_summary=None media_details=None\n",
      "{'message': 'Document deleted successfully.', 'id': 'fb8e3f1c-8e03-4e0a-aafc-58b9eb713c0c'}\n",
      "{'message': 'Document deleted successfully.', 'id': 'f98fecb2-82ba-41f1-aec4-799c1229a307'}\n"
     ]
    }
   ],
   "source": [
    "from opol.main import OPOL\n",
    "from opol.api.documents import Document\n",
    "\n",
    "def test_documents():\n",
    "    opol = OPOL(mode=\"local\")\n",
    "    docs = opol.documents\n",
    "\n",
    "    # Test single document ingestion\n",
    "    doc = Document(\n",
    "        url=\"https://example.com/article1\",\n",
    "        title=\"Example Article 1\",\n",
    "        text_content=\"Test content 1\",\n",
    "        summary=\"Test summary 1\"\n",
    "    )\n",
    "    print(\"Ingesting single document...\")\n",
    "    response = docs.ingest(doc, overwrite=True)\n",
    "    print(f\"Response: {response}\\n\")\n",
    "\n",
    "    # Test multiple document ingestion\n",
    "    multi_docs = [\n",
    "        Document(\n",
    "            url=\"https://example.com/article2\",\n",
    "            title=\"Example Article 2\", \n",
    "            text_content=\"Test content 2\",\n",
    "            summary=\"Test summary 2\"\n",
    "        ),\n",
    "        Document(\n",
    "            url=\"https://example.com/article3\",\n",
    "            title=\"Example Article 3\",\n",
    "            text_content=\"Test content 3\", \n",
    "            summary=\"Test summary 3\"\n",
    "        )\n",
    "    ]\n",
    "    print(\"Ingesting multiple documents...\")\n",
    "    response = docs.ingest(multi_docs, overwrite=True)\n",
    "    print(f\"Response: {response}\")\n",
    "\n",
    "    read_articles = docs.read(ids=response.content_ids)\n",
    "    print(read_articles)\n",
    "    print(\"*\"*20)\n",
    "    for article in read_articles:\n",
    "        print(article)\n",
    "\n",
    "    for article in read_articles:\n",
    "        delete_response = docs.delete(id=article.id)\n",
    "        print(delete_response)\n",
    "\n",
    "if __name__ == \"__main__\":\n",
    "    test_documents()"
   ]
  },
  {
   "cell_type": "code",
   "execution_count": 2,
   "metadata": {},
   "outputs": [
    {
     "name": "stdout",
     "output_type": "stream",
     "text": [
      "{'source': 'CNN', 'version': 1, 'is_active': True, 'id': '5a1aae26-13c0-4252-ab7f-7b6a2f7db91c', 'summary': '', 'title': 'Matthew Alan Livelsberger: What we know about the suspect in the Las Vegas Cybertruck explosion', 'text_content': 'Despite the symbolism that might be associated with exploding a Tesla Cybertruck outside the Trump International Hotel in Las Vegas, law enforcement officials said Thursday they were still trying to piece together why a five-time Bronze Star recipient and new father would orchestrate the New Year’s Day blast.\\n\\nZeroing in on a motive seemed complicated by the early portrait emerging of the Tesla’s driver, Matthew Alan Livelsberger, 37, of Colorado, who died in the incident that injured seven others.\\n\\nA family member and former Army colleague described him as a highly-decorated combat veteran whose background in special forces and explosives seemed at odds with a blast which relied, in part, on fireworks.\\n\\nAnd, they said, Livelsberger had a strong love of country – particularly the president-elect.\\n\\n“When President Trump was in office (Livelsberger) would comment on his Facebook page about the things President Trump had said or done or how he’s helping the military,” the relative, who asked not to be named, told CNN. “Matt had a lot of respect for Mr. Trump – he just loved the guy.”\\n\\nLivelsberger was not affiliated with a political party, according to the Colorado Secretary of State voter registration database.\\n\\nAn active-duty US Army Green Beret, Livelsberger was on leave from his base in Germany at the time of the blast – a combination of fireworks, gas tanks and camping fuel in the bed of the vehicle detonated by a device controlled by the driver, sources told CNN. According to law enforcement, he died of a self-inflicted gunshot wound in the driver’s seat shortly before the explosive in the trunk of the Tesla detonated.\\n\\nLivelsberger’s body was so badly burned authorities identified him through charred identification cards and partial tattoos visible on his body. They said they are awaiting DNA and medical findings to make a final confirmation.\\n\\nInvestigators fanned out this week interviewing his family and friends and digging into phones and computers for clues. Livelsberger’s social media presence was sparse and, at the time of the explosion, made few if any references to politics.\\n\\n“It’s not lost on us that it’s in front of … the Trump building, that it’s a Tesla vehicle,” Spencer Evans, Special Agent in Charge of the FBI Las Vegas division, said at a news conference Thursday. “But we don’t have information at this point that definitively tells us, or suggests, it was because of this particular ideology.”\\n\\nThe Las Vegas explosion bore some striking similarities to a deadly attack in New Orleans earlier the same morning, when a driver with a US military background plowed a rented pickup truck into a crowd celebrating New Year’s on Bourbon Street, killing 14 people. Both perpetrators used the company called Turo to rent their vehicles.\\n\\n“Both of the subjects served at Fort Bragg North Carolina,” said Kevin McMahill, sheriff of the Las Vegas Metropolitan Police Department, at a Thursday news conference, in reference to the military base now known as Fort Liberty. “What we do know about that is it’s a very large military base, and we have no record that they served in the same unit or even at the same years at Fort Bragg.”\\n\\nMcMahill added both men served in Afghanistan in 2009, though there are no indications they served in the same unit or province.\\n\\nA fellow member of the Green Berets who served with Livelsberger in Afghanistan said a key focus of their mission was to dismantle a network of Taliban-aligned forces who had been detonating car bombs in and around Kabul in an effort to destabilize the government.\\n\\nThe former colleague, who asked not to be identified, said their unit was often tasked with keeping a crucial highway clear of improvised explosive devices.\\n\\n“They would just be set up all along that highway and it seemed like – especially towards the tail end of the deployment – a lot of guys were getting struck,” he said. “Luckily, our unit was never struck, but other units that colocated with us got struck by IEDs.”\\n\\nThe fellow soldier, who had kept in touch with Livelsberger since their deployment, said he didn’t know whether the explosion of the Cybertruck was in any way inspired by the kind of attacks so common a feature of the unit’s mission.\\n\\nThe military colleague said he was shocked by the incident in Las Vegas, especially given Livelsberger’s impressive credentials: a Green Beret with a background in communications, IT and tactical unmanned aerial vehicles. Livelsberger also steadily advanced his rank in the military to team sergeant, the second-in-command to the captain in the special-forces detachment – a position he held until recently, the fellow soldier said.\\n\\n“You don’t have to be a genius to say, this guy’s going to have his pick of options for career field when he gets out,” the soldier said.\\n\\nLivelsberger was an Army Special Forces operations master sergeant, a senior enlisted rank, according to four US officials. He was on active duty in Germany with the 10th Special Forces Group but was on leave at the time of the incident, three officials said.\\n\\nLivelsberger’s relative, who said he hadn’t spoken with him in at least a decade but saw updates of his life through Facebook posts, remembered Livelsberger as an intelligent and popular student in high school.\\n\\n“He played most of the usual sports and was often the captain of the team,” he said.\\n\\nThe relative said Livelsberger wanted to be in the special forces from a young age and was very successful in his career, which included several tours in Afghanistan.\\n\\n“If he really wanted to hurt people, he could have hurt a lot of people,” he said. “But that is not in his nature, it was never in his nature.”\\n\\nLivelsberger’s military colleague described him as a “bighearted” member of the unit who procured toys for Afghan kids and helped build a doghouse for a stray dog adopted as a pet on the base.\\n\\n“Even in a place like Afghanistan, where one’s heart can be hardened by the nature of the mission, he never seemed to go down that path and always seemed to have his humanity very much in place,” the fellow soldier said.\\n\\nHis former military colleague told CNN he’d stayed in occasional touch with Livelsberger since the end of their deployment and even sent a gift when he became a father in April last year. Livelsberger’s second wife, who he married in 2022, sent the colleague a thank-you letter, he said.\\n\\nShe did not respond to requests for comment from CNN.\\n\\nThe fellow soldier said his friend had never indicated he was struggling – either during their deployment to Afghanistan, where they experienced combat, or afterward.\\n\\n“It just makes me really sad to know that maybe something was going on with Matt and none of us knew,” he said, after briefly choking up. “We all would have obviously reached out and done anything we could to help him.”', 'url': 'https://www.cnn.com/2025/01/02/us/matthew-alan-livelsberger-vegas-cybertruck-explosion/index.html', 'insertion_date': '2025-01-03T02:01:21.772214+00:00', 'content_language': None, 'meta_summary': 'Despite the symbolism that might be associated with exploding a Tesla Cybertruck outside the Trump International Hotel in Las Vegas, law enforcement officials said Thursday they were still trying to piece together why a five-time Bronze Star recipient and new father would orchestrate the New Year’s Day blast.', 'content_type': 'fragment', 'author': None, 'embeddings': None, 'publication_date': '2025-01-02T00:00:00'}\n",
      "{'source': 'BBC News', 'version': 1, 'is_active': True, 'id': '79fb21b9-f8e6-4d99-b5f8-d76176d65258', 'summary': '', 'title': 'Person in exploded Cybertruck outside Trump hotel in Las Vegas believed to be elite soldier', 'text_content': 'The man who rented a Tesla Cybertruck that exploded outside of President-elect Donald Trump\\'s Las Vegas hotel is an active-duty US special forces soldier, officials have confirmed.\\n\\nLas Vegas police identified Matthew Alan Livelsberger, 37, of Colorado, as the renter of the vehicle who drove the Cybertruck from Colorado to Las Vegas.\\n\\nThey said they were fairly certain he was the same person found dead in the vehicle after the explosion but were waiting for DNA evidence to confirm this.\\n\\nThe body was burnt beyond recognition and found with a gunshot wound to the head believed to be self-inflicted, according to Las Vegas Sheriff Kevin McMahill.\\n\\nThe explosion injured seven people after the vehicle - filled with fuel canisters and firework mortars - exploded. Officials said all injuries were minor.\\n\\nAuthorities said they were yet to determine any motive.\\n\\n\"I\\'m comfortable calling it a suicide with a bombing that occurred immediately after,\" Las Vegas Sheriff Kevin McMahill said during a Thursday afternoon press conference.\\n\\nLivelsberger rented the Cybertruck on 28 December in Denver, Colorado. He has decades of experience with the US military, having served in the Army and National Guard.\\n\\nHe entered the active duty Army in December 2012, serving as a special operations soldier.\\n\\nThe US Army said he was on approved leave at the time of his death.\\n\\nLivelsberger\\'s father spoke to the BBC\\'s news partner CBS and said his son was currently serving in Germany and on leave to visit Colorado and see his wife and eight-month-old daughter.\\n\\nLivelsberger\\'s father said he last spoke to his son at Christmas and that everything seemed normal.', 'url': 'https://www.bbc.com/news/articles/c86wnx174q8o', 'insertion_date': '2025-01-02T20:01:18.062153+00:00', 'content_language': None, 'meta_summary': 'Las Vegas police said the the person found in the vehicle with a gunshot wound to the head was Green Beret Matthew Livelsberger.', 'content_type': 'fragment', 'author': None, 'embeddings': None, 'publication_date': None}\n",
      "{'source': 'BBC News', 'version': 1, 'is_active': True, 'id': 'bc8c9610-b25e-4419-8420-9d839820e08b', 'summary': '', 'title': 'China EV maker BYD closes in on Tesla as sales jump', 'text_content': \"Chinese car maker BYD saw sales jump at the end of last year, leaving it closer to claiming the title of the world's best-selling electric vehicle (EV) maker of 2024.\\n\\nThe company says it sold 207,734 EVs in December, taking its annual total to 1.76 million, as subsidies and discounts helped attract customers.\\n\\nIt comes as Tesla is scheduled to announce its own quarterly sales figures later on Thursday.\\n\\nThe US electric car maker maintained a slim lead in EV sales over BYD in the previous quarter but the Shenzhen-based firm has been narrowing the gap.\\n\\nBYD's total vehicle sales jumped more than 41% in 2024, year-on-year. The surge was powered mainly by sales of its hybrid cars.\\n\\nThe company has benefited from a rise in car sales in its home market, as intense competition drove down prices and government subsidies encouraged consumers to replace their old cars with EVs or other more fuel efficient options.\\n\\nBYD sells 90% of its cars in China, where its been extending its lead over foreign brands like Volkswagen and Toyota.\\n\\nThe rise of BYD and other Chinese EV makers contrasts with the challenges faced by some legacy car makers, which have been struggling in major Western markets.\\n\\nLast month, Honda and Nissan confirmed that they were holding merger talks, as the two Japanese firms seek to fight back against competition from the Chinese car industry.\\n\\nAlso in December, Volkswagen announced it had reached a deal with the IG Metall trade union which will avert plant closures in Germany and avoid immediate compulsory redundancies.\\n\\nThe German motor industry giant had previously warned it might have to shutter plants in the country for the first time in a bid to cut costs.\\n\\nEarlier in the month, the boss of car making giant Stellantis, Carlos Tavares, quit with immediate effect following a boardroom clash.\\n\\nHis abrupt exit from the company - which owns brands including Vauxhall, Jeep, Fiat, Peugeot and Chrysler - came two months after Stellantis issued a profit warning.\\n\\nIn the third quarter of 2024, BYD saw its revenues soar, beating Tesla's for the first time.\\n\\nIt posted more than 200bn yuan ($28.2bn, £21.8bn) in revenues between July and September - a 24% jump from the same period last year, and more than Elon Musk's company whose quarterly revenue was $25.2bn.\\n\\nHowever, Tesla still sold more electric vehicle (EVs) than BYD.\", 'url': 'https://www.bbc.com/news/articles/c36edjp1l9ko', 'insertion_date': '2025-01-02T02:31:05.803887+00:00', 'content_language': None, 'meta_summary': 'Chinese firm got a boost from subsidies encouraging consumers to replace old cars with greener ones.', 'content_type': 'fragment', 'author': None, 'embeddings': None, 'publication_date': None}\n"
     ]
    }
   ],
   "source": [
    "from opol.main import OPOL\n",
    "\n",
    "opol = OPOL(mode=\"local\")\n",
    "\n",
    "articles = opol.articles.by_entity(\"Germany\")\n",
    "for article in articles:\n",
    "    print(article) "
   ]
  },
  {
   "cell_type": "code",
   "execution_count": null,
   "metadata": {},
   "outputs": [],
   "source": []
  },
  {
   "cell_type": "code",
   "execution_count": null,
   "metadata": {},
   "outputs": [],
   "source": []
  }
 ],
 "metadata": {
  "kernelspec": {
   "display_name": "Python 3",
   "language": "python",
   "name": "python3"
  },
  "language_info": {
   "codemirror_mode": {
    "name": "ipython",
    "version": 3
   },
   "file_extension": ".py",
   "mimetype": "text/x-python",
   "name": "python",
   "nbconvert_exporter": "python",
   "pygments_lexer": "ipython3",
   "version": "3.10.12"
  }
 },
 "nbformat": 4,
 "nbformat_minor": 2
}
