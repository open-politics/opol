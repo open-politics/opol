{
 "cells": [
  {
   "cell_type": "markdown",
   "metadata": {},
   "source": [
    "# OPOL Python Client"
   ]
  },
  {
   "cell_type": "markdown",
   "metadata": {},
   "source": [
    "We are running all in local mode because the jupyter client will want to connect to the compose stack on localhost.\n",
    "If you are using opol in scripts or services insides of containers please set it to \"container\"."
   ]
  },
  {
   "cell_type": "markdown",
   "metadata": {},
   "source": [
    "### Initialization"
   ]
  },
  {
   "cell_type": "markdown",
   "metadata": {},
   "source": [
    "#### Setup Client"
   ]
  },
  {
   "cell_type": "code",
   "execution_count": 22,
   "metadata": {},
   "outputs": [],
   "source": [
    "from opol.main import OPOL\n",
    "import os\n",
    "from pprint import pprint\n",
    "\n",
    "# 1. Setup client (using opol.io)\n",
    "# opol = OPOL(api_key=\"\")\n",
    "\n",
    "# Alternatively - if you have booted the opol stack on your machine (no api key needed)\n",
    "# Read opol/opol/stack/Readme.md for more information\n",
    "opol = OPOL(mode=\"local\")\n",
    "\n",
    "\n"
   ]
  },
  {
   "cell_type": "markdown",
   "metadata": {},
   "source": [
    "#### Articles"
   ]
  },
  {
   "cell_type": "code",
   "execution_count": null,
   "metadata": {},
   "outputs": [],
   "source": [
    "from opol.main import OPOL\n",
    "import os\n",
    "from pprint import pprint\n",
    "\n",
    "opol = OPOL(mode=\"local\", api_key=\"\")\n",
    "\n",
    "# Class submethods default to search\n",
    "print(opol.articles.get_articles(query=\"apple\"))\n",
    "print(opol.articles(\"New York\", pretty=True))    \n",
    "\n",
    "# Use date\n",
    "articles = opol.articles.get_articles(\"Berlin\", limit=100)\n",
    "\n",
    "entities = [article['title'] for article in articles[:3]]\n",
    "entity_ids = [article['id'] for article in articles]\n",
    "print(entities)\n",
    "print(entity_ids)\n",
    "\n",
    "geojson = opol.geo.by_id(entity_ids)\n",
    "print(geojson[0]['features'])\n"
   ]
  },
  {
   "cell_type": "code",
   "execution_count": null,
   "metadata": {},
   "outputs": [],
   "source": [
    "from opol.main import OPOL\n",
    "import os\n",
    "from pprint import pprint\n",
    "\n",
    "opol = OPOL(mode=\"local\", api_key=\"\")\n",
    "\n",
    "articles = opol.articles.by_entity(\"Trump\", limit=100)\n",
    "\n",
    "for article in articles:\n",
    "    print(article.keys())\n",
    "    print(f\"{article['title']}:\" + article['insertion_date'] + \"\\n\")"
   ]
  },
  {
   "cell_type": "markdown",
   "metadata": {},
   "source": [
    "#### Geojson & Geocoding"
   ]
  },
  {
   "cell_type": "code",
   "execution_count": 1,
   "metadata": {},
   "outputs": [
    {
     "name": "stderr",
     "output_type": "stream",
     "text": [
      "/home/jimvincentwagner/.local/lib/python3.10/site-packages/tqdm/auto.py:21: TqdmWarning: IProgress not found. Please update jupyter and ipywidgets. See https://ipywidgets.readthedocs.io/en/stable/user_install.html\n",
      "  from .autonotebook import tqdm as notebook_tqdm\n"
     ]
    },
    {
     "name": "stdout",
     "output_type": "stream",
     "text": [
      "{'type': 'FeatureCollection', 'features': [{'type': 'Feature', 'geometry': {'type': 'Point', 'coordinates': [77.294121, 28.625319]}, 'properties': {'location_id': '936e38e6-077c-4ce5-bb96-c42cc0161555', 'location_name': 'Middle East', 'location_type': 'unknown', 'content_count': 36, 'contents': [{'content_id': '8ee229d4-db51-42fe-b4a3-1f7a8e49cc4e', 'title': 'Here are the top 5 global economic challenges for 2025 – DW – 12', 'url': 'https://www.dw.com/en/here-are-the-top-5-global-economic-challenges-for-2025/a-71020698', 'source': 'DW', 'insertion_date': '2024-12-31T08:01:16.062791+00:00', 'classification': {'event_type': 'Politics', 'event_subtype': 'Elections', 'sociocultural_interest': 7, 'global_political_impact': 8, 'regional_political_impact': 7, 'global_economic_impact': 9, 'regional_economic_impact': 8}, 'top_entities': []}, {'content_id': '57281d39-3144-4e83-8f9c-3f1b0a5f1f3c', 'title': 'How will UK prepare for Trump? Keir Starmer, David Lammy and others draw up plans', 'url': 'https://www.bbc.com/news/articles/clyeej4ex5wo', 'source': 'BBC News', 'insertion_date': '2025-01-18T12:31:23.146836+00:00', 'classification': {'event_type': 'Politics', 'event_subtype': 'Political planning', 'sociocultural_interest': 7, 'global_political_impact': 6, 'regional_political_impact': 8, 'global_economic_impact': 5, 'regional_economic_impact': 7}, 'top_entities': []}, {'content_id': 'a4ecd6cb-bd74-4811-82bf-dd00dc2df179', 'title': 'Biden Leaves Office Nostalgic About Five-Decade Career, and Frustrated by How It Ended', 'url': 'https://www.cnn.com/2025/01/18/politics/president-joe-biden-legacy-kamala-harris/index.html', 'source': 'bbc_news', 'insertion_date': '2025-01-18T12:31:23.129016+00:00', 'classification': {'event_type': 'Politics', 'event_subtype': 'End of Presidential Term', 'sociocultural_interest': 7, 'global_political_impact': 3, 'regional_political_impact': 5, 'global_economic_impact': 2, 'regional_economic_impact': 3}, 'top_entities': []}, {'content_id': '93a8af2d-3359-4c81-961f-8c7d2b14ec84', 'title': 'sized elephant at WEF – DW – 01/18/2025', 'url': 'https://www.dw.com/en/davos-2025-donald-trump-the-us-sized-elephant-at-wef/a-71301027', 'source': 'DW', 'insertion_date': '2025-01-18T12:01:25.031160+00:00', 'classification': {'event_type': 'Politics', 'event_subtype': 'International Relations', 'sociocultural_interest': 2, 'global_political_impact': 3, 'regional_political_impact': 2, 'global_economic_impact': 4, 'regional_economic_impact': 3}, 'top_entities': []}, {'content_id': '55c30101-855e-4f21-95ca-23639536aaa0', 'title': 'Russian influence in Africa is growing. What might Moscow want?', 'url': 'https://www.cnn.com/2025/01/18/africa/russia-expanding-influence-in-africa-intl-cmd/index.html', 'source': 'bbc_news', 'insertion_date': '2025-01-18T11:31:23.153019+00:00', 'classification': {'event_type': 'Politics', 'event_subtype': 'Geopolitical influence', 'sociocultural_interest': 7, 'global_political_impact': 6, 'regional_political_impact': 8, 'global_economic_impact': 4, 'regional_economic_impact': 6}, 'top_entities': []}, {'content_id': '8073f2ad-f98a-4db8-8a07-5690b0c22342', 'title': \"How realistic is Trump's 'Gaza takeover' plan? – DW – 02\", 'url': 'https://www.dw.com/en/how-realistic-are-donald-trumps-ambitions-to-control-gaza/a-71508712', 'source': 'DW', 'insertion_date': '2025-02-05T16:05:13.949631+00:00', 'classification': {'event_type': 'Politics', 'event_subtype': 'International Relations', 'sociocultural_interest': 7, 'global_political_impact': 6, 'regional_political_impact': 9, 'global_economic_impact': 4, 'regional_economic_impact': 7}, 'top_entities': []}, {'content_id': '4712a117-e4fd-4b6b-a400-3b5375688bbb', 'title': 'Why does Donald Trump want to take over Gaza and could he do it?', 'url': 'https://www.bbc.com/news/articles/cn4z32y12jpo', 'source': 'BBC News', 'insertion_date': '2025-02-05T17:05:17.519695+00:00', 'classification': {'event_type': 'Politics', 'event_subtype': 'International Relations', 'sociocultural_interest': 8, 'global_political_impact': 7, 'regional_political_impact': 9, 'global_economic_impact': 5, 'regional_economic_impact': 6}, 'top_entities': []}, {'content_id': 'f998ca5b-f689-4e97-aac2-cd5ec367048a', 'title': \"Palestinians and Arab states reject Trump's Gaza takeover plan\", 'url': 'https://www.bbc.com/news/articles/c4gw89x8x11o', 'source': 'BBC News', 'insertion_date': '2025-02-05T15:05:17.962788+00:00', 'classification': {'event_type': 'Politics', 'event_subtype': 'International Relations', 'sociocultural_interest': 8, 'global_political_impact': 7, 'regional_political_impact': 9, 'global_economic_impact': 3, 'regional_economic_impact': 5}, 'top_entities': []}, {'content_id': 'a47c5d0c-46d5-4512-8d6b-f40808d38f07', 'title': \"Power moves: The women changing Africa's leadership – DW – 02\", 'url': 'https://www.dw.com/en/power-moves-the-women-changing-africas-leadership/a-71416501', 'source': 'DW', 'insertion_date': '2025-02-05T19:35:08.271552+00:00', 'classification': {'event_type': 'Politics', 'event_subtype': 'Increased female political representation', 'sociocultural_interest': 8, 'global_political_impact': 3, 'regional_political_impact': 7, 'global_economic_impact': 2, 'regional_economic_impact': 4}, 'top_entities': []}, {'content_id': '04892fe1-1721-429c-8689-4872e370eeb5', 'title': 'How Trump arrived at his stunning idea to ‘take over’ the Gaza Strip', 'url': 'https://www.cnn.com/2025/02/05/politics/how-trump-decided-gaza-strip-take-over/index.html', 'source': 'CNN', 'insertion_date': '2025-02-05T19:35:08.021300+00:00', 'classification': {'event_type': 'Politics', 'event_subtype': 'International Relations', 'sociocultural_interest': 5, 'global_political_impact': 7, 'regional_political_impact': 9, 'global_economic_impact': 3, 'regional_economic_impact': 6}, 'top_entities': []}, {'content_id': '461ca84e-fef1-4256-8aac-29a720484a63', 'title': 'Why Trump’s Gaza plan spells trouble for his Arab allies', 'url': 'https://www.cnn.com/2025/02/05/middleeast/analysis-trump-gaza-arab-allies-intl-latam/index.html', 'source': 'CNN', 'insertion_date': '2025-02-05T19:35:07.900737+00:00', 'classification': {'event_type': 'Politics', 'event_subtype': 'International Relations', 'sociocultural_interest': 7, 'global_political_impact': 6, 'regional_political_impact': 9, 'global_economic_impact': 4, 'regional_economic_impact': 5}, 'top_entities': []}, {'content_id': '0a695a99-f9ff-4f3e-b499-c52aa3817f40', 'title': \"Jeremy Bowen: Trump's Gaza plan won't happen, but it will have consequences\", 'url': 'https://www.bbc.com/news/articles/cx2pwjgp59do', 'source': 'BBC News', 'insertion_date': '2025-02-05T18:35:05.419024+00:00', 'classification': {'event_type': 'Politics', 'event_subtype': 'International Relations', 'sociocultural_interest': 5, 'global_political_impact': 7, 'regional_political_impact': 9, 'global_economic_impact': 4, 'regional_economic_impact': 6}, 'top_entities': []}, {'content_id': '0d07942e-9ca3-48ce-b8d1-74b24e0dd17d', 'title': \"'We won't go out of Gaza': Palestinians defiant over Trump plan\", 'url': 'https://www.bbc.com/news/articles/c78xre2ynd4o', 'source': 'BBC News', 'insertion_date': '2025-02-05T18:35:05.442238+00:00', 'classification': {'event_type': 'Politics', 'event_subtype': 'International Relations', 'sociocultural_interest': 8, 'global_political_impact': 7, 'regional_political_impact': 9, 'global_economic_impact': 5, 'regional_economic_impact': 7}, 'top_entities': []}, {'content_id': 'fc78ac98-6db0-4a46-97c3-594ecbb539eb', 'title': \"German election 2025: What's in the party programs? – DW – 02\", 'url': 'https://www.dw.com/en/german-election-2025-whats-in-the-party-programs/a-71083928', 'source': 'DW', 'insertion_date': '2025-02-07T23:42:05.911924+00:00', 'classification': {}, 'top_entities': []}, {'content_id': '2e632b4b-33c2-4a23-b63b-286b888e1243', 'title': 'Trump has put America’s allies in an impossible position. That might be where he likes them', 'url': 'https://www.cnn.com/2025/02/08/europe/trump-gaza-allies-reaction-cmd-intl/index.html', 'source': 'CNN', 'insertion_date': '2025-02-08T05:35:14.300831+00:00', 'classification': {}, 'top_entities': []}, {'content_id': '3eb517cd-74e8-4b6d-90a9-d667f1e5e570', 'title': 'Lebanon’s prime minister forms new government after unusual US intervention', 'url': 'https://www.cnn.com/2025/02/08/middleeast/lebanon-prime-minister-new-government-intl/index.html', 'source': 'CNN', 'insertion_date': '2025-02-08T16:05:13.411555+00:00', 'classification': {}, 'top_entities': []}, {'content_id': '355ce923-9cc2-4b91-8df2-c379886b2f14', 'title': 'Middle East: Hamas, Israel set for 5th release of hostages – DW – 02', 'url': 'https://www.dw.com/en/middle-east-hamas-israel-set-for-5th-release-of-hostages/live-71545293', 'source': 'DW', 'insertion_date': '2025-02-08T07:05:09.339693+00:00', 'classification': {}, 'top_entities': []}, {'content_id': 'ea65861e-4849-40e4-9c28-d7374f386bb9', 'title': 'Middle East: Hamas hands 3 Israeli hostages to Red Cross – DW – 02', 'url': 'https://www.dw.com/en/middle-east-hamas-hands-3-israeli-hostages-to-red-cross/live-71545293', 'source': 'DW', 'insertion_date': '2025-02-08T09:35:06.555274+00:00', 'classification': {}, 'top_entities': []}, {'content_id': '1ab1b467-5a12-4315-a78a-83d4a5aa78f7', 'title': \"Trump's real-estate instincts clash with his America First worldview\", 'url': 'https://www.bbc.com/news/articles/ce9nmm3nvdno', 'source': 'BBC News', 'insertion_date': '2025-02-05T20:05:11.605255+00:00', 'classification': {'event_type': 'Politics', 'event_subtype': 'Foreign Policy', 'sociocultural_interest': 5, 'global_political_impact': 7, 'regional_political_impact': 8, 'global_economic_impact': 6, 'regional_economic_impact': 7}, 'top_entities': []}, {'content_id': '7e8ae79d-693b-4750-8eba-32a8a0537953', 'title': \"Could Trump's 'Riviera of the Middle East' plan bring peace? – DW – 02\", 'url': 'https://www.dw.com/en/could-trumps-riviera-of-the-middle-east-plan-bring-peace/a-71514943', 'source': 'DW', 'insertion_date': '2025-02-05T20:35:17.459407+00:00', 'classification': {'event_type': 'Politics', 'event_subtype': 'Peace proposal', 'sociocultural_interest': 2, 'global_political_impact': 3, 'regional_political_impact': 7, 'global_economic_impact': 2, 'regional_economic_impact': 4}, 'top_entities': []}, {'content_id': '5f4a214b-1077-4e50-8e16-0905e9107a0e', 'title': \"Who are Germany's top candidates in the 2025 election? – DW – 02\", 'url': 'https://www.dw.com/en/who-are-germanys-top-candidates-in-the-2025-election/g-70812286', 'source': 'DW', 'insertion_date': '2025-02-07T23:42:06.094081+00:00', 'classification': {}, 'top_entities': []}, {'content_id': 'b3106798-80b9-423f-88e1-d13dfef95f70', 'title': '15 things Trump and team did this week', 'url': 'https://www.bbc.com/news/articles/cjdep9j31l8o', 'source': 'BBC News', 'insertion_date': '2025-02-07T23:42:06.247979+00:00', 'classification': {}, 'top_entities': []}, {'content_id': '2aac0070-99ce-49ac-a68e-6d6f6461a514', 'title': 'Middle East: Hamas names Israeli hostages to be released – DW – 02', 'url': 'https://www.dw.com/en/middle-east-hamas-names-israeli-hostages-to-be-released/live-71535436', 'source': 'DW', 'insertion_date': '2025-02-07T23:42:05.982053+00:00', 'classification': {}, 'top_entities': []}, {'content_id': '8d0aaf55-c14d-4eb1-bda1-9661769e1257', 'title': 'Gold withdrawal slots booked up at Bank of England over Trump’s tariff threats', 'url': 'https://www.cnn.com/2025/02/07/business/gold-bank-of-england-trump-tariffs-intl/index.html', 'source': 'CNN', 'insertion_date': '2025-02-07T23:42:05.681377+00:00', 'classification': {}, 'top_entities': []}, {'content_id': '6c537969-d99b-4507-adf6-2d66af8b3174', 'title': \"Worst mass shooting in Sweden's history leaves immigrant community on edge\", 'url': 'https://www.bbc.com/news/articles/c5yer500qw3o', 'source': 'BBC News', 'insertion_date': '2025-02-07T23:42:06.338641+00:00', 'classification': {}, 'top_entities': []}, {'content_id': 'cf999b67-e042-4ddf-82bb-f2ab60cf2571', 'title': 'Middle East: Israeli hostages, Palestinian prisoners freed – DW – 02', 'url': 'https://www.dw.com/en/middle-east-israeli-hostages-palestinian-prisoners-freed/live-71545293', 'source': 'DW', 'insertion_date': '2025-02-08T12:35:15.466748+00:00', 'classification': {}, 'top_entities': []}, {'content_id': '324cd869-495a-4347-8370-b041114b2b57', 'title': \"Libya's cultural crackdown silences popular rap music – DW – 02\", 'url': 'https://www.dw.com/en/libyas-cultural-crackdown-silences-popular-rap-music/a-71539798', 'source': 'DW', 'insertion_date': '2025-02-08T17:05:10.188671+00:00', 'classification': {}, 'top_entities': []}, {'content_id': 'd16285ed-8828-47fd-82a3-4cb2ec4ab1c1', 'title': 'Why Donald Trump is on the warpath against Islamic State in Somalia', 'url': 'https://www.bbc.com/news/articles/cyv4270gljpo', 'source': 'BBC News', 'insertion_date': '2025-02-07T23:42:06.350483+00:00', 'classification': {}, 'top_entities': []}, {'content_id': 'b3e05b10-1481-424f-a11e-63e8c4f1fdc8', 'title': 'Freed Israeli hostages did not know their loved ones had died', 'url': 'https://www.cnn.com/2025/02/08/middleeast/israeli-hostages-did-not-know-loved-ones-died-intl-latam/index.html', 'source': 'CNN', 'insertion_date': '2025-02-09T03:05:06.753751+00:00', 'classification': {}, 'top_entities': []}, {'content_id': '19b48b85-172d-4da5-8054-2bfc90e65ded', 'title': 'day ceasefire with Russia proposed by US', 'url': 'https://www.bbc.com/news/articles/cx2x5l8nv3mo', 'source': 'BBC News', 'insertion_date': '2025-03-11T23:50:05.036826+00:00', 'classification': {}, 'top_entities': []}, {'content_id': '6ccae9d5-8b8f-4911-99e9-62411d7337f2', 'title': \"China says it is ready for 'any type of war' with US\", 'url': 'https://www.bbc.com/news/articles/c4gmd3g2nzqo', 'source': 'BBC News', 'insertion_date': '2025-03-06T14:31:17.632861+00:00', 'classification': {}, 'top_entities': []}, {'content_id': 'b047a48d-5bf1-4516-a2a4-cdd42495b879', 'title': 'Trump issues ‘last warning’ to Hamas to release all hostages in Gaza, as US holds direct talks with Hamas', 'url': 'https://www.cnn.com/2025/03/05/middleeast/trump-hamas-gaza-hostages-negotiation-israel-intl-latam/index.html', 'source': 'CNN', 'insertion_date': '2025-03-06T14:31:17.272026+00:00', 'classification': {}, 'top_entities': []}, {'content_id': '795cfc3b-7b95-441c-9124-048b5c02f9eb', 'title': \"Mo Amer: Palestinian star 'proud and hurt' after Netflix hit\", 'url': 'https://www.bbc.com/news/articles/cyvemz7gmgzo', 'source': 'BBC News', 'insertion_date': '2025-03-12T00:45:07.204336+00:00', 'classification': {}, 'top_entities': []}, {'content_id': '342b71fb-fd03-438a-87ef-04f84e6ad99a', 'title': 'Palestinians, Israel eye Arab League plan for postwar Gaza – DW – 03', 'url': 'https://www.dw.com/en/palestinians-israel-eye-arab-league-plan-for-postwar-gaza/a-71833142', 'source': 'DW', 'insertion_date': '2025-03-06T14:31:17.374408+00:00', 'classification': {}, 'top_entities': []}, {'content_id': 'f30ebca2-f0a8-4bf2-80d3-ca6485e72e57', 'title': 'caused floods and drought – DW – 03/12/2025', 'url': 'https://www.dw.com/en/how-cities-cope-with-climate-caused-floods-and-drought/a-71889585', 'source': 'DW', 'insertion_date': '2025-03-12T02:02:37.349694+00:00', 'classification': {}, 'top_entities': []}, {'content_id': '39ebea98-c09f-47f0-8d89-05bba9d125d0', 'title': 'Indian town Sidphur’s abandoned European-style mansions are a throwback to its opulent past', 'url': 'https://www.cnn.com/2025/03/11/style/india-sidhpur-mansions-havelis/index.html', 'source': 'CNN', 'insertion_date': '2025-03-11T23:50:04.551954+00:00', 'classification': {}, 'top_entities': []}]}}, {'type': 'Feature', 'geometry': {'type': 'Point', 'coordinates': [34.306545, 31.323538]}, 'properties': {'location_id': '9b926f90-c78c-451d-b994-b86387f53151', 'location_name': 'Gaza', 'location_type': 'unknown', 'content_count': 68, 'contents': [{'content_id': 'ea49d266-34ca-4e18-93bf-3122688d16a1', 'title': 'Former CIA analyst pleads guilty to leaking classified documents on Israel’s plans to attack Iran', 'url': 'https://www.cnn.com/2025/01/17/politics/former-cia-analyst-pleads-guilty-leaking-classified-documents-israel-iran/index.html', 'source': 'bbc_news', 'insertion_date': '2025-01-18T01:01:58.460551+00:00', 'classification': {'event_type': 'Politics', 'event_subtype': 'Espionage', 'sociocultural_interest': 7, 'global_political_impact': 8, 'regional_political_impact': 9, 'global_economic_impact': 6, 'regional_economic_impact': 7}, 'top_entities': []}, {'content_id': '8ee229d4-db51-42fe-b4a3-1f7a8e49cc4e', 'title': 'Here are the top 5 global economic challenges for 2025 – DW – 12', 'url': 'https://www.dw.com/en/here-are-the-top-5-global-economic-challenges-for-2025/a-71020698', 'source': 'DW', 'insertion_date': '2024-12-31T08:01:16.062791+00:00', 'classification': {'event_type': 'Politics', 'event_subtype': 'Elections', 'sociocultural_interest': 7, 'global_political_impact': 8, 'regional_political_impact': 7, 'global_economic_impact': 9, 'regional_economic_impact': 8}, 'top_entities': []}, {'content_id': '3b130e38-66cd-4195-82c1-0abaa95764a2', 'title': 'What lies ahead for the EU in 2025? – DW – 12', 'url': 'https://www.dw.com/en/what-lies-ahead-for-the-eu-in-2025/a-71163445', 'source': 'DW', 'insertion_date': '2024-12-31T06:31:10.710917+00:00', 'classification': {'event_type': 'Politics', 'event_subtype': 'Political outlook', 'sociocultural_interest': 7, 'global_political_impact': 8, 'regional_political_impact': 9, 'global_economic_impact': 7, 'regional_economic_impact': 8}, 'top_entities': []}, {'content_id': '57281d39-3144-4e83-8f9c-3f1b0a5f1f3c', 'title': 'How will UK prepare for Trump? Keir Starmer, David Lammy and others draw up plans', 'url': 'https://www.bbc.com/news/articles/clyeej4ex5wo', 'source': 'BBC News', 'insertion_date': '2025-01-18T12:31:23.146836+00:00', 'classification': {'event_type': 'Politics', 'event_subtype': 'Political planning', 'sociocultural_interest': 7, 'global_political_impact': 6, 'regional_political_impact': 8, 'global_economic_impact': 5, 'regional_economic_impact': 7}, 'top_entities': []}, {'content_id': 'a4ecd6cb-bd74-4811-82bf-dd00dc2df179', 'title': 'Biden Leaves Office Nostalgic About Five-Decade Career, and Frustrated by How It Ended', 'url': 'https://www.cnn.com/2025/01/18/politics/president-joe-biden-legacy-kamala-harris/index.html', 'source': 'bbc_news', 'insertion_date': '2025-01-18T12:31:23.129016+00:00', 'classification': {'event_type': 'Politics', 'event_subtype': 'End of Presidential Term', 'sociocultural_interest': 7, 'global_political_impact': 3, 'regional_political_impact': 5, 'global_economic_impact': 2, 'regional_economic_impact': 3}, 'top_entities': []}, {'content_id': '93a8af2d-3359-4c81-961f-8c7d2b14ec84', 'title': 'sized elephant at WEF – DW – 01/18/2025', 'url': 'https://www.dw.com/en/davos-2025-donald-trump-the-us-sized-elephant-at-wef/a-71301027', 'source': 'DW', 'insertion_date': '2025-01-18T12:01:25.031160+00:00', 'classification': {'event_type': 'Politics', 'event_subtype': 'International Relations', 'sociocultural_interest': 2, 'global_political_impact': 3, 'regional_political_impact': 2, 'global_economic_impact': 4, 'regional_economic_impact': 3}, 'top_entities': []}, {'content_id': 'd34b2595-1731-4876-8f20-5c3747fcc42e', 'title': 'Palestinian Authority freezes Al Jazeera operations in the West Bank', 'url': 'https://www.cnn.com/2025/01/01/middleeast/palestinian-authority-freezes-al-jazeera-west-bank-intl-latam/index.html', 'source': 'bbc_news', 'insertion_date': '2025-01-02T00:31:05.334015+00:00', 'classification': {'event_type': 'Politics', 'event_subtype': 'Media Censorship', 'sociocultural_interest': 7, 'global_political_impact': 3, 'regional_political_impact': 7, 'global_economic_impact': 2, 'regional_economic_impact': 4}, 'top_entities': []}, {'content_id': '94fe6969-672c-4d79-9778-d25f49034bcd', 'title': 'Fact check: $50 million for ‘condoms in Gaza’? Five big reasons to be skeptical that Trump press secretary’s story is true', 'url': 'https://www.cnn.com/2025/01/29/politics/gaza-condoms-fact-check/index.html', 'source': 'CNN', 'insertion_date': '2025-01-29T18:52:57.716647+00:00', 'classification': {'event_type': 'Politics', 'event_subtype': 'Fact-check of political claim', 'sociocultural_interest': 2, 'global_political_impact': 1, 'regional_political_impact': 3, 'global_economic_impact': 1, 'regional_economic_impact': 2}, 'top_entities': []}, {'content_id': '8073f2ad-f98a-4db8-8a07-5690b0c22342', 'title': \"How realistic is Trump's 'Gaza takeover' plan? – DW – 02\", 'url': 'https://www.dw.com/en/how-realistic-are-donald-trumps-ambitions-to-control-gaza/a-71508712', 'source': 'DW', 'insertion_date': '2025-02-05T16:05:13.949631+00:00', 'classification': {'event_type': 'Politics', 'event_subtype': 'International Relations', 'sociocultural_interest': 7, 'global_political_impact': 6, 'regional_political_impact': 9, 'global_economic_impact': 4, 'regional_economic_impact': 7}, 'top_entities': []}, {'content_id': '4712a117-e4fd-4b6b-a400-3b5375688bbb', 'title': 'Why does Donald Trump want to take over Gaza and could he do it?', 'url': 'https://www.bbc.com/news/articles/cn4z32y12jpo', 'source': 'BBC News', 'insertion_date': '2025-02-05T17:05:17.519695+00:00', 'classification': {'event_type': 'Politics', 'event_subtype': 'International Relations', 'sociocultural_interest': 8, 'global_political_impact': 7, 'regional_political_impact': 9, 'global_economic_impact': 5, 'regional_economic_impact': 6}, 'top_entities': []}, {'content_id': 'f998ca5b-f689-4e97-aac2-cd5ec367048a', 'title': \"Palestinians and Arab states reject Trump's Gaza takeover plan\", 'url': 'https://www.bbc.com/news/articles/c4gw89x8x11o', 'source': 'BBC News', 'insertion_date': '2025-02-05T15:05:17.962788+00:00', 'classification': {'event_type': 'Politics', 'event_subtype': 'International Relations', 'sociocultural_interest': 8, 'global_political_impact': 7, 'regional_political_impact': 9, 'global_economic_impact': 3, 'regional_economic_impact': 5}, 'top_entities': []}, {'content_id': '4a4f2312-cdaa-4c62-a523-f9dc8a47f715', 'title': 'Watch: What President Trump has said about Gaza', 'url': 'https://www.bbc.com/news/videos/c2d38jn4p02o', 'source': 'BBC News', 'insertion_date': '2025-02-05T15:35:06.894815+00:00', 'classification': {'event_type': 'Politics', 'event_subtype': 'International Relations', 'sociocultural_interest': 5, 'global_political_impact': 6, 'regional_political_impact': 8, 'global_economic_impact': 4, 'regional_economic_impact': 7}, 'top_entities': []}, {'content_id': '04892fe1-1721-429c-8689-4872e370eeb5', 'title': 'How Trump arrived at his stunning idea to ‘take over’ the Gaza Strip', 'url': 'https://www.cnn.com/2025/02/05/politics/how-trump-decided-gaza-strip-take-over/index.html', 'source': 'CNN', 'insertion_date': '2025-02-05T19:35:08.021300+00:00', 'classification': {'event_type': 'Politics', 'event_subtype': 'International Relations', 'sociocultural_interest': 5, 'global_political_impact': 7, 'regional_political_impact': 9, 'global_economic_impact': 3, 'regional_economic_impact': 6}, 'top_entities': []}, {'content_id': '461ca84e-fef1-4256-8aac-29a720484a63', 'title': 'Why Trump’s Gaza plan spells trouble for his Arab allies', 'url': 'https://www.cnn.com/2025/02/05/middleeast/analysis-trump-gaza-arab-allies-intl-latam/index.html', 'source': 'CNN', 'insertion_date': '2025-02-05T19:35:07.900737+00:00', 'classification': {'event_type': 'Politics', 'event_subtype': 'International Relations', 'sociocultural_interest': 7, 'global_political_impact': 6, 'regional_political_impact': 9, 'global_economic_impact': 4, 'regional_economic_impact': 5}, 'top_entities': []}, {'content_id': '0a695a99-f9ff-4f3e-b499-c52aa3817f40', 'title': \"Jeremy Bowen: Trump's Gaza plan won't happen, but it will have consequences\", 'url': 'https://www.bbc.com/news/articles/cx2pwjgp59do', 'source': 'BBC News', 'insertion_date': '2025-02-05T18:35:05.419024+00:00', 'classification': {'event_type': 'Politics', 'event_subtype': 'International Relations', 'sociocultural_interest': 5, 'global_political_impact': 7, 'regional_political_impact': 9, 'global_economic_impact': 4, 'regional_economic_impact': 6}, 'top_entities': []}, {'content_id': 'eaf01fce-f9c7-4664-b0e9-1363c9c6723c', 'title': \"Palestinians react to Trump's Gaza comments\", 'url': 'https://www.bbc.com/news/videos/cvgme81j1yxo', 'source': 'BBC News', 'insertion_date': '2025-02-05T18:05:15.297015+00:00', 'classification': {'event_type': 'Politics', 'event_subtype': 'International Relations', 'sociocultural_interest': 7, 'global_political_impact': 6, 'regional_political_impact': 8, 'global_economic_impact': 5, 'regional_economic_impact': 7}, 'top_entities': []}, {'content_id': '1907e9f2-d1fc-4ee7-8c6a-2d802224a0b5', 'title': 'Palestinians react to Trump saying US will ‘take over’ Gaza', 'url': 'https://www.cnn.com/2025/02/05/world/video/palestinians-reaction-trump-gaza-ldn-digvid', 'source': 'CNN', 'insertion_date': '2025-02-05T17:05:17.205867+00:00', 'classification': {'event_type': 'Politics', 'event_subtype': 'International Relations', 'sociocultural_interest': 8, 'global_political_impact': 7, 'regional_political_impact': 9, 'global_economic_impact': 4, 'regional_economic_impact': 6}, 'top_entities': []}, {'content_id': 'b22c127b-4964-4bf9-b19f-d5befc846bb3', 'title': \"Gaza residents say they will 'hold onto their land' – DW – 02\", 'url': 'https://www.dw.com/en/gaza-residents-say-they-will-hold-onto-their-land/video-71516908', 'source': 'DW', 'insertion_date': '2025-02-05T17:05:17.367434+00:00', 'classification': {'event_type': 'Politics', 'event_subtype': 'International Relations', 'sociocultural_interest': 8, 'global_political_impact': 7, 'regional_political_impact': 9, 'global_economic_impact': 3, 'regional_economic_impact': 5}, 'top_entities': []}, {'content_id': '2e632b4b-33c2-4a23-b63b-286b888e1243', 'title': 'Trump has put America’s allies in an impossible position. That might be where he likes them', 'url': 'https://www.cnn.com/2025/02/08/europe/trump-gaza-allies-reaction-cmd-intl/index.html', 'source': 'CNN', 'insertion_date': '2025-02-08T05:35:14.300831+00:00', 'classification': {}, 'top_entities': []}, {'content_id': '0b8957ed-154b-4645-9b1f-124b2f3df9b7', 'title': \"Swinney says Trump's Gaza plan 'amounts to ethnic cleansing'\", 'url': 'https://www.bbc.com/news/videos/cpwxj00qdnxo', 'source': 'BBC News', 'insertion_date': '2025-02-05T18:35:05.516012+00:00', 'classification': {'event_type': 'Politics', 'event_subtype': 'International Relations', 'sociocultural_interest': 7, 'global_political_impact': 3, 'regional_political_impact': 6, 'global_economic_impact': 2, 'regional_economic_impact': 4}, 'top_entities': []}, {'content_id': '0d07942e-9ca3-48ce-b8d1-74b24e0dd17d', 'title': \"'We won't go out of Gaza': Palestinians defiant over Trump plan\", 'url': 'https://www.bbc.com/news/articles/c78xre2ynd4o', 'source': 'BBC News', 'insertion_date': '2025-02-05T18:35:05.442238+00:00', 'classification': {'event_type': 'Politics', 'event_subtype': 'International Relations', 'sociocultural_interest': 8, 'global_political_impact': 7, 'regional_political_impact': 9, 'global_economic_impact': 5, 'regional_economic_impact': 7}, 'top_entities': []}, {'content_id': '81e48fc5-e3bc-4b90-837c-965444258094', 'title': \"MEP: Trump statement on Gaza 'deeply, deeply concerning' – DW – 02\", 'url': 'https://www.dw.com/en/mep-trump-statement-on-gaza-deeply-deeply-concerning/video-71517893', 'source': 'DW', 'insertion_date': '2025-02-05T18:35:05.381791+00:00', 'classification': {'event_type': 'Politics', 'event_subtype': 'International Relations', 'sociocultural_interest': 8, 'global_political_impact': 9, 'regional_political_impact': 10, 'global_economic_impact': 7, 'regional_economic_impact': 8}, 'top_entities': []}, {'content_id': 'aa307d43-2b98-4d44-a3c0-0dbe6b51ad63', 'title': 'Freed Israeli hostage Eli Sharabi looks gaunt, British family says', 'url': 'https://www.bbc.com/news/articles/c2l0yjnnd4go', 'source': 'BBC News', 'insertion_date': '2025-02-08T14:05:18.741883+00:00', 'classification': {}, 'top_entities': []}, {'content_id': '3c5652b5-f180-493b-937c-aa9c2934ddde', 'title': 'What will anger at sight of gaunt hostages mean for a fragile ceasefire?', 'url': 'https://www.bbc.com/news/articles/clyz7124dppo', 'source': 'BBC News', 'insertion_date': '2025-02-08T23:05:11.000509+00:00', 'classification': {}, 'top_entities': []}, {'content_id': '40428759-0565-4d4e-b075-2d8f67de1fa4', 'title': 'Rebuilding my home in Gaza as Trump wants me to leave', 'url': 'https://www.bbc.co.uk/news/resources/idt-97c21e2d-3d57-40bb-b9f6-bd56d901c130', 'source': 'BBC News', 'insertion_date': '2025-02-09T03:05:07.325271+00:00', 'classification': {}, 'top_entities': []}, {'content_id': 'bbd9fa2d-061d-4a4b-9685-1541ad206933', 'title': \"Japan PM Ishiba's Donald Trump study sessions pay off at talks\", 'url': 'https://www.bbc.com/news/articles/cy8pwd0p46wo', 'source': 'BBC News', 'insertion_date': '2025-02-09T03:35:10.363020+00:00', 'classification': {}, 'top_entities': []}, {'content_id': '146aca8f-4ad9-4f7d-82fa-21f16c0a5fd8', 'title': 'Released Thai hostages return to Bangkok after being held for over a year in Gaza', 'url': 'https://www.cnn.com/2025/02/08/asia/israel-gaza-thailand-hostages-released-intl-hnk/index.html', 'source': 'CNN', 'insertion_date': '2025-02-09T04:05:06.919676+00:00', 'classification': {}, 'top_entities': []}, {'content_id': '355ce923-9cc2-4b91-8df2-c379886b2f14', 'title': 'Middle East: Hamas, Israel set for 5th release of hostages – DW – 02', 'url': 'https://www.dw.com/en/middle-east-hamas-israel-set-for-5th-release-of-hostages/live-71545293', 'source': 'DW', 'insertion_date': '2025-02-08T07:05:09.339693+00:00', 'classification': {}, 'top_entities': []}, {'content_id': 'ea65861e-4849-40e4-9c28-d7374f386bb9', 'title': 'Middle East: Hamas hands 3 Israeli hostages to Red Cross – DW – 02', 'url': 'https://www.dw.com/en/middle-east-hamas-hands-3-israeli-hostages-to-red-cross/live-71545293', 'source': 'DW', 'insertion_date': '2025-02-08T09:35:06.555274+00:00', 'classification': {}, 'top_entities': []}, {'content_id': 'a6f67f1c-f7b4-49d2-bbea-8b9b4d285859', 'title': 'Three more hostages handed to Red Cross in fifth round of Israel-Hamas ceasefire releases', 'url': 'https://www.cnn.com/2025/02/08/middleeast/hostages-release-fifth-round-israel-hamas-ceasefire-intl-hnk/index.html', 'source': 'CNN', 'insertion_date': '2025-02-08T09:35:06.431997+00:00', 'classification': {}, 'top_entities': []}, {'content_id': '1ab1b467-5a12-4315-a78a-83d4a5aa78f7', 'title': \"Trump's real-estate instincts clash with his America First worldview\", 'url': 'https://www.bbc.com/news/articles/ce9nmm3nvdno', 'source': 'BBC News', 'insertion_date': '2025-02-05T20:05:11.605255+00:00', 'classification': {'event_type': 'Politics', 'event_subtype': 'Foreign Policy', 'sociocultural_interest': 5, 'global_political_impact': 7, 'regional_political_impact': 8, 'global_economic_impact': 6, 'regional_economic_impact': 7}, 'top_entities': []}, {'content_id': '84cda83a-361f-496d-9547-33ac9ab81363', 'title': \"Where does Trump's sanction order leave the ICC? – DW – 02\", 'url': 'https://www.dw.com/en/where-does-trumps-sanction-order-leave-the-icc/a-71543944', 'source': 'DW', 'insertion_date': '2025-02-07T23:42:05.927666+00:00', 'classification': {}, 'top_entities': []}, {'content_id': '7a9274c5-7d35-4613-a844-ebdc777d59df', 'title': 'ICC: Dozens of member states back top criminal court after Trump sanctions', 'url': 'https://www.bbc.com/news/articles/cx2p19l24g2o', 'source': 'BBC News', 'insertion_date': '2025-02-07T23:42:06.226438+00:00', 'classification': {}, 'top_entities': []}, {'content_id': 'b3106798-80b9-423f-88e1-d13dfef95f70', 'title': '15 things Trump and team did this week', 'url': 'https://www.bbc.com/news/articles/cjdep9j31l8o', 'source': 'BBC News', 'insertion_date': '2025-02-07T23:42:06.247979+00:00', 'classification': {}, 'top_entities': []}, {'content_id': '2aac0070-99ce-49ac-a68e-6d6f6461a514', 'title': 'Middle East: Hamas names Israeli hostages to be released – DW – 02', 'url': 'https://www.dw.com/en/middle-east-hamas-names-israeli-hostages-to-be-released/live-71535436', 'source': 'DW', 'insertion_date': '2025-02-07T23:42:05.982053+00:00', 'classification': {}, 'top_entities': []}, {'content_id': '2f95fa2c-128b-43e7-8692-aa183c80064e', 'title': 'Hamas to release three Israeli men Saturday in latest round of exchanges under ceasefire deal', 'url': 'https://www.cnn.com/2025/02/07/middleeast/hamas-hostage-release-israel-intl/index.html', 'source': 'CNN', 'insertion_date': '2025-02-07T23:42:05.691771+00:00', 'classification': {}, 'top_entities': []}, {'content_id': '6a1f9671-5561-4080-adff-180f82c87b93', 'title': \"Trump says Nippon Steel will 'invest heavily' in US Steel\", 'url': 'https://www.bbc.com/news/articles/cvglzzqdwd2o', 'source': 'BBC News', 'insertion_date': '2025-02-07T23:42:06.313678+00:00', 'classification': {}, 'top_entities': []}, {'content_id': '8dfc9bc6-6e08-41a4-9604-66180bb2c91c', 'title': 'US updates: ICC says it is undeterred by Trump sanctions – DW – 02', 'url': 'https://www.dw.com/en/us-updates-icc-says-it-is-undeterred-by-trump-sanctions/live-71534014', 'source': 'DW', 'insertion_date': '2025-02-07T23:42:05.891562+00:00', 'classification': {}, 'top_entities': []}, {'content_id': '9b10659e-391a-4133-aa1b-dacc09353d9c', 'title': 'Hamas names next hostages to be released', 'url': 'https://www.bbc.com/news/articles/c4g9vyz747eo', 'source': 'BBC News', 'insertion_date': '2025-02-07T23:42:06.156005+00:00', 'classification': {}, 'top_entities': []}, {'content_id': '0f215dd0-f5f5-4d3e-8454-3fdf3d2d7981', 'title': \"Fact check: Trump's team targets USAID with false claims – DW – 02\", 'url': 'https://www.dw.com/en/fact-check-trumps-team-targets-usaid-with-false-claims/a-71535712', 'source': 'DW', 'insertion_date': '2025-02-07T23:42:05.939936+00:00', 'classification': {}, 'top_entities': []}, {'content_id': 'cf999b67-e042-4ddf-82bb-f2ab60cf2571', 'title': 'Middle East: Israeli hostages, Palestinian prisoners freed – DW – 02', 'url': 'https://www.dw.com/en/middle-east-israeli-hostages-palestinian-prisoners-freed/live-71545293', 'source': 'DW', 'insertion_date': '2025-02-08T12:35:15.466748+00:00', 'classification': {}, 'top_entities': []}, {'content_id': '18db5f19-6a50-433c-a86b-c1a0d65d99c5', 'title': 'Watch: How triple Israeli hostage release unfolded', 'url': 'https://www.bbc.com/news/videos/c2k5yvj9z4yo', 'source': 'BBC News', 'insertion_date': '2025-02-08T13:05:17.500583+00:00', 'classification': {}, 'top_entities': []}, {'content_id': '726cc9e8-cc51-4e2c-9c33-ffff668ddeef', 'title': 'Trump freezes aid to South Africa over controversial land law, claiming discrimination against White farmers', 'url': 'https://www.cnn.com/2025/02/08/africa/trump-executive-order-freeze-aid-south-africa-intl/index.html', 'source': 'CNN', 'insertion_date': '2025-02-08T16:35:13.627027+00:00', 'classification': {}, 'top_entities': []}, {'content_id': '73a49323-05e7-4e18-b5dc-e5d7b6b9b754', 'title': 'Video: Condition of hostages released by Hamas sparks concerns in Israel', 'url': 'https://www.cnn.com/2025/02/08/world/video/hamas-hostages-concern-israel-diamond-cnntm-digvid', 'source': 'CNN', 'insertion_date': '2025-02-08T17:05:10.056433+00:00', 'classification': {}, 'top_entities': []}, {'content_id': 'fe780e44-05df-43d1-b465-f00b37811407', 'title': 'Hamas hostages: Stories of the people taken from Israel', 'url': 'https://www.bbc.com/news/world-middle-east-67053011', 'source': 'BBC News', 'insertion_date': '2025-02-08T10:35:08.631810+00:00', 'classification': {}, 'top_entities': []}, {'content_id': '1c6af633-a717-493d-9375-73869c94ded3', 'title': 'Moment three Israeli hostages handed to Red Cross in Gaza', 'url': 'https://www.bbc.com/news/videos/c20gygjjxlko', 'source': 'BBC News', 'insertion_date': '2025-02-08T11:05:11.329896+00:00', 'classification': {}, 'top_entities': []}, {'content_id': 'be6d003f-1c4c-4275-99f7-3c2f70e644e5', 'title': 'Debra Messing says she will never stop fighting against antisemitism: ‘I don’t think I’ve ever felt as proud of being a Jew’', 'url': 'https://www.cnn.com/2025/02/07/entertainment/debra-messing-october-8-documentary/index.html', 'source': 'CNN', 'insertion_date': '2025-02-07T23:42:05.676770+00:00', 'classification': {}, 'top_entities': []}, {'content_id': '42197633-bb28-4e19-9543-de271c3281ff', 'title': 'What is the ICC and why has Trump sanctioned it?', 'url': 'https://www.cnn.com/2025/02/07/world/icc-trump-sanctions-israel-gaza-explained-intl/index.html', 'source': 'CNN', 'insertion_date': '2025-02-07T23:42:05.576467+00:00', 'classification': {'event_type': 'Politics', 'event_subtype': 'International Relations', 'sociocultural_interest': 5, 'global_political_impact': 7, 'regional_political_impact': 8, 'global_economic_impact': 3, 'regional_economic_impact': 4}, 'top_entities': []}, {'content_id': '6f213051-6790-45ad-a38a-9cad351800b0', 'title': 'Israel and Hamas complete fifth hostage', 'url': 'https://www.dw.com/en/israel-and-hamas-complete-fifth-hostage-prisoner-swap/video-71550095', 'source': 'DW', 'insertion_date': '2025-02-08T19:05:10.348787+00:00', 'classification': {}, 'top_entities': []}, {'content_id': '1d6d203a-866e-4f9e-979c-c94200e09d05', 'title': 'From Gaza to DEI: See NewsNights’ most heated discussions of the week', 'url': 'https://www.cnn.com/2025/02/08/politics/video/best-moments-abby-phillip-nn-digvid', 'source': 'CNN', 'insertion_date': '2025-02-08T19:35:08.324852+00:00', 'classification': {}, 'top_entities': []}, {'content_id': '6a606a35-bff9-4416-b6b6-7061c4d20e65', 'title': 'The US State Department says humanitarian assistance can continue. Foreign aid workers say that’s not happening', 'url': 'https://www.cnn.com/2025/02/08/world/usaid-humanitarian-assistance-aid-freeze-intl-latam/index.html', 'source': 'CNN', 'insertion_date': '2025-02-08T20:05:06.830950+00:00', 'classification': {}, 'top_entities': []}, {'content_id': 'b3e05b10-1481-424f-a11e-63e8c4f1fdc8', 'title': 'Freed Israeli hostages did not know their loved ones had died', 'url': 'https://www.cnn.com/2025/02/08/middleeast/israeli-hostages-did-not-know-loved-ones-died-intl-latam/index.html', 'source': 'CNN', 'insertion_date': '2025-02-09T03:05:06.753751+00:00', 'classification': {}, 'top_entities': []}, {'content_id': '503a0c55-ccfe-4c2c-881d-8eb12f1db8d5', 'title': 'Thai Gaza hostages: Freed men arrive home to tears of joy in Bangkok', 'url': 'https://www.bbc.com/news/articles/c1jgykjy6k8o', 'source': 'BBC News', 'insertion_date': '2025-02-09T06:05:13.481638+00:00', 'classification': {}, 'top_entities': []}, {'content_id': '64602fce-c86d-444f-a852-d369287311a5', 'title': 'Muslims all over the world celebrate Ramadan – DW – 03', 'url': 'https://www.dw.com/en/muslims-all-over-the-world-celebrate-ramadan/g-71814526', 'source': 'DW', 'insertion_date': '2025-03-06T14:31:17.536127+00:00', 'classification': {}, 'top_entities': []}, {'content_id': 'cb9ad647-0aab-42be-8e31-4ae838007369', 'title': 'Trump talks tough but Congress is beset by divisions – DW – 03', 'url': 'https://www.dw.com/en/trump-talks-tough-but-congress-is-beset-by-divisions/a-71837624', 'source': 'DW', 'insertion_date': '2025-03-06T14:31:17.493056+00:00', 'classification': {}, 'top_entities': []}, {'content_id': '47ed10fb-ae67-48dd-ae95-346b5c47c64d', 'title': \"Trump's deals means a fast pace with few concerns about risks\", 'url': 'https://www.bbc.com/news/articles/cwyd5xn98yno', 'source': 'BBC News', 'insertion_date': '2025-03-06T14:31:17.772622+00:00', 'classification': {}, 'top_entities': []}, {'content_id': '69f4e24f-934d-42a5-b0f4-e4b89c29bd73', 'title': 'Middle East updates: Israel targets Syria air defenses – DW – 03', 'url': 'https://www.dw.com/en/middle-east-updates-israel-targets-syria-air-defenses/live-71887816', 'source': 'DW', 'insertion_date': '2025-03-11T23:50:04.732667+00:00', 'classification': {}, 'top_entities': []}, {'content_id': '9a32097a-5e51-4f72-a364-9179ee5b2f1c', 'title': 'Israeli raids on occupied West Bank displace thousands – DW – 03', 'url': 'https://www.dw.com/en/israeli-raids-on-occupied-west-bank-displace-thousands/video-71879395', 'source': 'DW', 'insertion_date': '2025-03-11T23:50:04.738362+00:00', 'classification': {}, 'top_entities': []}, {'content_id': 'd5a906fc-d24b-45bb-beae-2de8ec8571fa', 'title': \"Fact-checking Trump'...\", 'url': 'https://www.bbc.com/news/bbcverify', 'source': 'BBC News', 'insertion_date': '2025-03-06T14:31:17.797413+00:00', 'classification': {}, 'top_entities': []}, {'content_id': '1d22b57b-6f53-4375-a764-95c73e14c594', 'title': 'Donald Trump: Indian Americans worried over US ties under new administration, survey shows', 'url': 'https://www.bbc.com/news/articles/cx2g4g9qp2no', 'source': 'BBC News', 'insertion_date': '2025-03-12T00:35:46.947483+00:00', 'classification': {}, 'top_entities': []}, {'content_id': '967b0124-d919-43e6-b5c3-b2d15183c4eb', 'title': 'Israel’s justice minister moves to oust attorney general amid allegations of political bias, opposition decries move', 'url': 'https://www.cnn.com/2025/03/05/middleeast/israel-move-to-oust-attorney-general-gali-intl-latam/index.html', 'source': 'CNN', 'insertion_date': '2025-03-06T14:31:17.170511+00:00', 'classification': {}, 'top_entities': []}, {'content_id': 'b047a48d-5bf1-4516-a2a4-cdd42495b879', 'title': 'Trump issues ‘last warning’ to Hamas to release all hostages in Gaza, as US holds direct talks with Hamas', 'url': 'https://www.cnn.com/2025/03/05/middleeast/trump-hamas-gaza-hostages-negotiation-israel-intl-latam/index.html', 'source': 'CNN', 'insertion_date': '2025-03-06T14:31:17.272026+00:00', 'classification': {}, 'top_entities': []}, {'content_id': '795cfc3b-7b95-441c-9124-048b5c02f9eb', 'title': \"Mo Amer: Palestinian star 'proud and hurt' after Netflix hit\", 'url': 'https://www.bbc.com/news/articles/cyvemz7gmgzo', 'source': 'BBC News', 'insertion_date': '2025-03-12T00:45:07.204336+00:00', 'classification': {}, 'top_entities': []}, {'content_id': '342b71fb-fd03-438a-87ef-04f84e6ad99a', 'title': 'Palestinians, Israel eye Arab League plan for postwar Gaza – DW – 03', 'url': 'https://www.dw.com/en/palestinians-israel-eye-arab-league-plan-for-postwar-gaza/a-71833142', 'source': 'DW', 'insertion_date': '2025-03-06T14:31:17.374408+00:00', 'classification': {}, 'top_entities': []}, {'content_id': '1bcb1689-fef5-4a4e-b48d-25224a877e84', 'title': 'Greenlanders head to the polls under watchful eye of Trump – DW – 03', 'url': 'https://www.dw.com/en/greenland-election-donald-trump-plans-v3/a-71864584', 'source': 'DW', 'insertion_date': '2025-03-11T23:50:04.882309+00:00', 'classification': {}, 'top_entities': []}, {'content_id': '7a9782c6-f2db-49ab-91f3-ac5f44d63a82', 'title': 'Who is Mahmoud Khalil? A look at the Columbia University protestor detained by ICE', 'url': 'https://www.cnn.com/2025/03/11/us/mahmoud-khalil-columbia-ice-green-card-hnk/index.html', 'source': 'CNN', 'insertion_date': '2025-03-11T23:50:04.674849+00:00', 'classification': {}, 'top_entities': []}, {'content_id': '3992a356-565d-44a3-b97f-e4c93163703e', 'title': 'Department of Education investigating 60 colleges and universities over antisemitism claims', 'url': 'https://www.cnn.com/2025/03/10/us/department-of-education-warning-universities-title-vi-antisemitism/index.html', 'source': 'CNN', 'insertion_date': '2025-03-11T23:50:04.643286+00:00', 'classification': {}, 'top_entities': []}, {'content_id': '986bfa75-473f-47f4-a5ce-9155d38eb2ce', 'title': 'US court temporarily blocks effort to deport Gaza protest leader', 'url': 'https://www.bbc.com/news/articles/c4gdwy1gjjjo', 'source': 'BBC News', 'insertion_date': '2025-03-11T23:50:04.971019+00:00', 'classification': {}, 'top_entities': []}]}}]}\n",
      "[13.407032, 52.524932]\n"
     ]
    }
   ],
   "source": [
    "from opol.main import OPOL\n",
    "import os\n",
    "\n",
    "# set env variable\n",
    "os.environ['OPOL_MODE'] = \"local\"\n",
    "\n",
    "opol = OPOL(api_key=\"\")\n",
    "\n",
    "geojson = opol.geo.json_by_event(\"Politics\", limit=5)\n",
    "print(geojson)\n",
    "\n",
    "berlin_coords = opol.geo.code(\"Berlin\")[\"coordinates\"]\n",
    "print(berlin_coords)\n",
    "\n",
    "\n"
   ]
  },
  {
   "cell_type": "markdown",
   "metadata": {},
   "source": [
    "#### Polls"
   ]
  },
  {
   "cell_type": "code",
   "execution_count": null,
   "metadata": {},
   "outputs": [],
   "source": [
    "from opol.main import OPOL\n",
    "from pprint import pprint\n",
    "\n",
    "opol = OPOL(mode=\"local\", api_key=\"\")\n",
    "\n",
    "# polls = opol.scraping.polls(\"Germany\")\n",
    "\n",
    "# for pol in polls:\n",
    "#     if pol['party'] == \"GRÜNE\" or pol['party'] == \"CDU/CSU\":\n",
    "#         print(pol)\n",
    "\n",
    "\n",
    "# Latest Polls for each Insittute\n",
    "# polls = opol.scraping.polls(\"Germany\", latest=True)\n",
    "\n",
    "# for poll in polls:\n",
    "#     print(poll)\n",
    "\n",
    "ranked_polls = opol.scraping.polls(\"Germany\", summarised=True)\n",
    "\n",
    "for poll in ranked_polls:\n",
    "    print(poll['party'] + \": \" + str(poll['percentage']) + f\" ({poll['change_since_election']})\") \n",
    "\n"
   ]
  },
  {
   "cell_type": "markdown",
   "metadata": {},
   "source": [
    "### Legislation"
   ]
  },
  {
   "cell_type": "code",
   "execution_count": null,
   "metadata": {},
   "outputs": [],
   "source": [
    "from opol.main import OPOL\n",
    "\n",
    "opol = OPOL(api_key=\"\")\n",
    "\n",
    "events = opol.scraping.legislation(\"Germany\")\n",
    "\n",
    "\n",
    "for event in events[:1]:\n",
    "    print(event)\n",
    "        "
   ]
  },
  {
   "cell_type": "markdown",
   "metadata": {},
   "source": [
    "### Economics"
   ]
  },
  {
   "cell_type": "code",
   "execution_count": null,
   "metadata": {},
   "outputs": [],
   "source": [
    "from opol.main import OPOL\n",
    "\n",
    "opol = OPOL(mode=\"local\")\n",
    "\n",
    "all_events = opol.scraping.economic(\"Germany\")\n",
    "\n",
    "gdp_events = opol.scraping.economic(\"Germany\", indicators=[\"GDP\"])\n",
    "\n",
    "\n",
    "for event in all_events[:3]:\n",
    "    print(event)\n",
    "\n",
    "print(\"*\"*20)\n",
    "\n",
    "for event in gdp_events[:3]:\n",
    "    print(event)"
   ]
  },
  {
   "cell_type": "markdown",
   "metadata": {},
   "source": [
    "### LLM Classifications (custom llm wrapper)"
   ]
  },
  {
   "cell_type": "code",
   "execution_count": 2,
   "metadata": {},
   "outputs": [
    {
     "name": "stdout",
     "output_type": "stream",
     "text": [
      "User preference rating: 5\n"
     ]
    },
    {
     "ename": "InstructorRetryException",
     "evalue": "1 validation error for DynamicSingleFieldModel\nsingle_field\n  Field required [type=missing, input_value={'@context': 'http://sche...ired': ['single_field']}, input_type=dict]\n    For further information visit https://errors.pydantic.dev/2.9/v/missing",
     "output_type": "error",
     "traceback": [
      "\u001b[0;31m---------------------------------------------------------------------------\u001b[0m",
      "\u001b[0;31mValidationError\u001b[0m                           Traceback (most recent call last)",
      "File \u001b[0;32m~/.local/lib/python3.10/site-packages/instructor/retry.py:164\u001b[0m, in \u001b[0;36mretry_sync\u001b[0;34m(func, response_model, args, kwargs, context, max_retries, strict, mode, hooks)\u001b[0m\n\u001b[1;32m    158\u001b[0m                 kwargs \u001b[38;5;241m=\u001b[39m handle_reask_kwargs(\n\u001b[1;32m    159\u001b[0m                     kwargs\u001b[38;5;241m=\u001b[39mkwargs,\n\u001b[1;32m    160\u001b[0m                     mode\u001b[38;5;241m=\u001b[39mmode,\n\u001b[1;32m    161\u001b[0m                     response\u001b[38;5;241m=\u001b[39mresponse,\n\u001b[1;32m    162\u001b[0m                     exception\u001b[38;5;241m=\u001b[39me,\n\u001b[1;32m    163\u001b[0m                 )\n\u001b[0;32m--> 164\u001b[0m                 \u001b[38;5;28;01mraise\u001b[39;00m e\n\u001b[1;32m    165\u001b[0m \u001b[38;5;28;01mexcept\u001b[39;00m RetryError \u001b[38;5;28;01mas\u001b[39;00m e:\n",
      "File \u001b[0;32m~/.local/lib/python3.10/site-packages/instructor/retry.py:147\u001b[0m, in \u001b[0;36mretry_sync\u001b[0;34m(func, response_model, args, kwargs, context, max_retries, strict, mode, hooks)\u001b[0m\n\u001b[1;32m    144\u001b[0m     response \u001b[38;5;241m=\u001b[39m update_total_usage(\n\u001b[1;32m    145\u001b[0m         response\u001b[38;5;241m=\u001b[39mresponse, total_usage\u001b[38;5;241m=\u001b[39mtotal_usage\n\u001b[1;32m    146\u001b[0m     )\n\u001b[0;32m--> 147\u001b[0m     \u001b[38;5;28;01mreturn\u001b[39;00m \u001b[43mprocess_response\u001b[49m\u001b[43m(\u001b[49m\u001b[43m  \u001b[49m\u001b[38;5;66;43;03m# type: ignore\u001b[39;49;00m\n\u001b[1;32m    148\u001b[0m \u001b[43m        \u001b[49m\u001b[43mresponse\u001b[49m\u001b[38;5;241;43m=\u001b[39;49m\u001b[43mresponse\u001b[49m\u001b[43m,\u001b[49m\n\u001b[1;32m    149\u001b[0m \u001b[43m        \u001b[49m\u001b[43mresponse_model\u001b[49m\u001b[38;5;241;43m=\u001b[39;49m\u001b[43mresponse_model\u001b[49m\u001b[43m,\u001b[49m\n\u001b[1;32m    150\u001b[0m \u001b[43m        \u001b[49m\u001b[43mvalidation_context\u001b[49m\u001b[38;5;241;43m=\u001b[39;49m\u001b[43mcontext\u001b[49m\u001b[43m,\u001b[49m\n\u001b[1;32m    151\u001b[0m \u001b[43m        \u001b[49m\u001b[43mstrict\u001b[49m\u001b[38;5;241;43m=\u001b[39;49m\u001b[43mstrict\u001b[49m\u001b[43m,\u001b[49m\n\u001b[1;32m    152\u001b[0m \u001b[43m        \u001b[49m\u001b[43mmode\u001b[49m\u001b[38;5;241;43m=\u001b[39;49m\u001b[43mmode\u001b[49m\u001b[43m,\u001b[49m\n\u001b[1;32m    153\u001b[0m \u001b[43m        \u001b[49m\u001b[43mstream\u001b[49m\u001b[38;5;241;43m=\u001b[39;49m\u001b[43mkwargs\u001b[49m\u001b[38;5;241;43m.\u001b[39;49m\u001b[43mget\u001b[49m\u001b[43m(\u001b[49m\u001b[38;5;124;43m\"\u001b[39;49m\u001b[38;5;124;43mstream\u001b[39;49m\u001b[38;5;124;43m\"\u001b[39;49m\u001b[43m,\u001b[49m\u001b[43m \u001b[49m\u001b[38;5;28;43;01mFalse\u001b[39;49;00m\u001b[43m)\u001b[49m\u001b[43m,\u001b[49m\n\u001b[1;32m    154\u001b[0m \u001b[43m    \u001b[49m\u001b[43m)\u001b[49m\n\u001b[1;32m    155\u001b[0m \u001b[38;5;28;01mexcept\u001b[39;00m (ValidationError, JSONDecodeError) \u001b[38;5;28;01mas\u001b[39;00m e:\n",
      "File \u001b[0;32m~/.local/lib/python3.10/site-packages/instructor/process_response.py:157\u001b[0m, in \u001b[0;36mprocess_response\u001b[0;34m(response, response_model, stream, validation_context, strict, mode)\u001b[0m\n\u001b[1;32m    155\u001b[0m     \u001b[38;5;28;01mreturn\u001b[39;00m model\n\u001b[0;32m--> 157\u001b[0m model \u001b[38;5;241m=\u001b[39m \u001b[43mresponse_model\u001b[49m\u001b[38;5;241;43m.\u001b[39;49m\u001b[43mfrom_response\u001b[49m\u001b[43m(\u001b[49m\n\u001b[1;32m    158\u001b[0m \u001b[43m    \u001b[49m\u001b[43mresponse\u001b[49m\u001b[43m,\u001b[49m\n\u001b[1;32m    159\u001b[0m \u001b[43m    \u001b[49m\u001b[43mvalidation_context\u001b[49m\u001b[38;5;241;43m=\u001b[39;49m\u001b[43mvalidation_context\u001b[49m\u001b[43m,\u001b[49m\n\u001b[1;32m    160\u001b[0m \u001b[43m    \u001b[49m\u001b[43mstrict\u001b[49m\u001b[38;5;241;43m=\u001b[39;49m\u001b[43mstrict\u001b[49m\u001b[43m,\u001b[49m\n\u001b[1;32m    161\u001b[0m \u001b[43m    \u001b[49m\u001b[43mmode\u001b[49m\u001b[38;5;241;43m=\u001b[39;49m\u001b[43mmode\u001b[49m\u001b[43m,\u001b[49m\n\u001b[1;32m    162\u001b[0m \u001b[43m\u001b[49m\u001b[43m)\u001b[49m\n\u001b[1;32m    164\u001b[0m \u001b[38;5;66;03m# ? This really hints at the fact that we need a better way of\u001b[39;00m\n\u001b[1;32m    165\u001b[0m \u001b[38;5;66;03m# ? attaching usage data and the raw response to the model we return.\u001b[39;00m\n",
      "File \u001b[0;32m~/.local/lib/python3.10/site-packages/instructor/function_calls.py:166\u001b[0m, in \u001b[0;36mOpenAISchema.from_response\u001b[0;34m(cls, completion, validation_context, strict, mode)\u001b[0m\n\u001b[1;32m    158\u001b[0m \u001b[38;5;28;01mif\u001b[39;00m mode \u001b[38;5;129;01min\u001b[39;00m {\n\u001b[1;32m    159\u001b[0m     Mode\u001b[38;5;241m.\u001b[39mJSON,\n\u001b[1;32m    160\u001b[0m     Mode\u001b[38;5;241m.\u001b[39mJSON_SCHEMA,\n\u001b[0;32m   (...)\u001b[0m\n\u001b[1;32m    164\u001b[0m     Mode\u001b[38;5;241m.\u001b[39mFIREWORKS_JSON,\n\u001b[1;32m    165\u001b[0m }:\n\u001b[0;32m--> 166\u001b[0m     \u001b[38;5;28;01mreturn\u001b[39;00m \u001b[38;5;28;43mcls\u001b[39;49m\u001b[38;5;241;43m.\u001b[39;49m\u001b[43mparse_json\u001b[49m\u001b[43m(\u001b[49m\u001b[43mcompletion\u001b[49m\u001b[43m,\u001b[49m\u001b[43m \u001b[49m\u001b[43mvalidation_context\u001b[49m\u001b[43m,\u001b[49m\u001b[43m \u001b[49m\u001b[43mstrict\u001b[49m\u001b[43m)\u001b[49m\n\u001b[1;32m    168\u001b[0m \u001b[38;5;28;01mraise\u001b[39;00m \u001b[38;5;167;01mValueError\u001b[39;00m(\u001b[38;5;124mf\u001b[39m\u001b[38;5;124m\"\u001b[39m\u001b[38;5;124mInvalid patch mode: \u001b[39m\u001b[38;5;132;01m{\u001b[39;00mmode\u001b[38;5;132;01m}\u001b[39;00m\u001b[38;5;124m\"\u001b[39m)\n",
      "File \u001b[0;32m~/.local/lib/python3.10/site-packages/instructor/function_calls.py:384\u001b[0m, in \u001b[0;36mOpenAISchema.parse_json\u001b[0;34m(cls, completion, validation_context, strict)\u001b[0m\n\u001b[1;32m    382\u001b[0m message \u001b[38;5;241m=\u001b[39m extract_json_from_codeblock(message)\n\u001b[0;32m--> 384\u001b[0m \u001b[38;5;28;01mreturn\u001b[39;00m \u001b[38;5;28;43mcls\u001b[39;49m\u001b[38;5;241;43m.\u001b[39;49m\u001b[43mmodel_validate_json\u001b[49m\u001b[43m(\u001b[49m\n\u001b[1;32m    385\u001b[0m \u001b[43m    \u001b[49m\u001b[43mmessage\u001b[49m\u001b[43m,\u001b[49m\n\u001b[1;32m    386\u001b[0m \u001b[43m    \u001b[49m\u001b[43mcontext\u001b[49m\u001b[38;5;241;43m=\u001b[39;49m\u001b[43mvalidation_context\u001b[49m\u001b[43m,\u001b[49m\n\u001b[1;32m    387\u001b[0m \u001b[43m    \u001b[49m\u001b[43mstrict\u001b[49m\u001b[38;5;241;43m=\u001b[39;49m\u001b[43mstrict\u001b[49m\u001b[43m,\u001b[49m\n\u001b[1;32m    388\u001b[0m \u001b[43m\u001b[49m\u001b[43m)\u001b[49m\n",
      "File \u001b[0;32m~/.local/lib/python3.10/site-packages/pydantic/main.py:625\u001b[0m, in \u001b[0;36mBaseModel.model_validate_json\u001b[0;34m(cls, json_data, strict, context)\u001b[0m\n\u001b[1;32m    624\u001b[0m __tracebackhide__ \u001b[38;5;241m=\u001b[39m \u001b[38;5;28;01mTrue\u001b[39;00m\n\u001b[0;32m--> 625\u001b[0m \u001b[38;5;28;01mreturn\u001b[39;00m \u001b[38;5;28;43mcls\u001b[39;49m\u001b[38;5;241;43m.\u001b[39;49m\u001b[43m__pydantic_validator__\u001b[49m\u001b[38;5;241;43m.\u001b[39;49m\u001b[43mvalidate_json\u001b[49m\u001b[43m(\u001b[49m\u001b[43mjson_data\u001b[49m\u001b[43m,\u001b[49m\u001b[43m \u001b[49m\u001b[43mstrict\u001b[49m\u001b[38;5;241;43m=\u001b[39;49m\u001b[43mstrict\u001b[49m\u001b[43m,\u001b[49m\u001b[43m \u001b[49m\u001b[43mcontext\u001b[49m\u001b[38;5;241;43m=\u001b[39;49m\u001b[43mcontext\u001b[49m\u001b[43m)\u001b[49m\n",
      "\u001b[0;31mValidationError\u001b[0m: 1 validation error for DynamicSingleFieldModel\nsingle_field\n  Field required [type=missing, input_value={'@context': 'http://sche...ired': ['single_field']}, input_type=dict]\n    For further information visit https://errors.pydantic.dev/2.9/v/missing",
      "\nThe above exception was the direct cause of the following exception:\n",
      "\u001b[0;31mRetryError\u001b[0m                                Traceback (most recent call last)",
      "File \u001b[0;32m~/.local/lib/python3.10/site-packages/instructor/retry.py:137\u001b[0m, in \u001b[0;36mretry_sync\u001b[0;34m(func, response_model, args, kwargs, context, max_retries, strict, mode, hooks)\u001b[0m\n\u001b[1;32m    136\u001b[0m response \u001b[38;5;241m=\u001b[39m \u001b[38;5;28;01mNone\u001b[39;00m\n\u001b[0;32m--> 137\u001b[0m \u001b[38;5;28;01mfor\u001b[39;00m attempt \u001b[38;5;129;01min\u001b[39;00m max_retries:\n\u001b[1;32m    138\u001b[0m     \u001b[38;5;28;01mwith\u001b[39;00m attempt:\n",
      "File \u001b[0;32m~/.local/lib/python3.10/site-packages/tenacity/__init__.py:443\u001b[0m, in \u001b[0;36mBaseRetrying.__iter__\u001b[0;34m(self)\u001b[0m\n\u001b[1;32m    442\u001b[0m \u001b[38;5;28;01mwhile\u001b[39;00m \u001b[38;5;28;01mTrue\u001b[39;00m:\n\u001b[0;32m--> 443\u001b[0m     do \u001b[38;5;241m=\u001b[39m \u001b[38;5;28;43mself\u001b[39;49m\u001b[38;5;241;43m.\u001b[39;49m\u001b[43miter\u001b[49m\u001b[43m(\u001b[49m\u001b[43mretry_state\u001b[49m\u001b[38;5;241;43m=\u001b[39;49m\u001b[43mretry_state\u001b[49m\u001b[43m)\u001b[49m\n\u001b[1;32m    444\u001b[0m     \u001b[38;5;28;01mif\u001b[39;00m \u001b[38;5;28misinstance\u001b[39m(do, DoAttempt):\n",
      "File \u001b[0;32m~/.local/lib/python3.10/site-packages/tenacity/__init__.py:376\u001b[0m, in \u001b[0;36mBaseRetrying.iter\u001b[0;34m(self, retry_state)\u001b[0m\n\u001b[1;32m    375\u001b[0m \u001b[38;5;28;01mfor\u001b[39;00m action \u001b[38;5;129;01min\u001b[39;00m \u001b[38;5;28mself\u001b[39m\u001b[38;5;241m.\u001b[39miter_state\u001b[38;5;241m.\u001b[39mactions:\n\u001b[0;32m--> 376\u001b[0m     result \u001b[38;5;241m=\u001b[39m \u001b[43maction\u001b[49m\u001b[43m(\u001b[49m\u001b[43mretry_state\u001b[49m\u001b[43m)\u001b[49m\n\u001b[1;32m    377\u001b[0m \u001b[38;5;28;01mreturn\u001b[39;00m result\n",
      "File \u001b[0;32m~/.local/lib/python3.10/site-packages/tenacity/__init__.py:419\u001b[0m, in \u001b[0;36mBaseRetrying._post_stop_check_actions.<locals>.exc_check\u001b[0;34m(rs)\u001b[0m\n\u001b[1;32m    418\u001b[0m     \u001b[38;5;28;01mraise\u001b[39;00m retry_exc\u001b[38;5;241m.\u001b[39mreraise()\n\u001b[0;32m--> 419\u001b[0m \u001b[38;5;28;01mraise\u001b[39;00m retry_exc \u001b[38;5;28;01mfrom\u001b[39;00m \u001b[38;5;21;01mfut\u001b[39;00m\u001b[38;5;21;01m.\u001b[39;00m\u001b[38;5;21;01mexception\u001b[39;00m()\n",
      "\u001b[0;31mRetryError\u001b[0m: RetryError[<Future at 0x783178977850 state=finished raised ValidationError>]",
      "\nThe above exception was the direct cause of the following exception:\n",
      "\u001b[0;31mInstructorRetryException\u001b[0m                  Traceback (most recent call last)",
      "Cell \u001b[0;32mIn[2], line 29\u001b[0m\n\u001b[1;32m     27\u001b[0m results \u001b[38;5;241m=\u001b[39m []\n\u001b[1;32m     28\u001b[0m \u001b[38;5;28;01mfor\u001b[39;00m i \u001b[38;5;129;01min\u001b[39;00m \u001b[38;5;28mrange\u001b[39m(\u001b[38;5;241m10\u001b[39m):\n\u001b[0;32m---> 29\u001b[0m     results\u001b[38;5;241m.\u001b[39mappend(\u001b[43mxclass\u001b[49m\u001b[38;5;241;43m.\u001b[39;49m\u001b[43mclassify\u001b[49m\u001b[43m(\u001b[49m\u001b[38;5;124;43m\"\u001b[39;49m\u001b[38;5;124;43mint\u001b[39;49m\u001b[38;5;124;43m\"\u001b[39;49m\u001b[43m,\u001b[49m\u001b[43m \u001b[49m\u001b[43mprompt\u001b[49m\u001b[43m,\u001b[49m\u001b[43m \u001b[49m\u001b[43muser_input\u001b[49m\u001b[43m)\u001b[49m)\n\u001b[1;32m     31\u001b[0m variance \u001b[38;5;241m=\u001b[39m np\u001b[38;5;241m.\u001b[39mvar(results)\n\u001b[1;32m     32\u001b[0m \u001b[38;5;28mprint\u001b[39m(\u001b[38;5;124m\"\u001b[39m\u001b[38;5;124mVariance:\u001b[39m\u001b[38;5;124m\"\u001b[39m, variance)\n",
      "File \u001b[0;32m~/fullstack/opol/opol/python-client/opol/api/classification.py:35\u001b[0m, in \u001b[0;36mClassification.classify\u001b[0;34m(self, response_type, prompt, input_text)\u001b[0m\n\u001b[1;32m     26\u001b[0m \u001b[38;5;28;01mdef\u001b[39;00m \u001b[38;5;21mclassify\u001b[39m(\n\u001b[1;32m     27\u001b[0m     \u001b[38;5;28mself\u001b[39m,\n\u001b[1;32m     28\u001b[0m     response_type: Union[\u001b[38;5;28mstr\u001b[39m, Type[BaseModel]],\n\u001b[1;32m     29\u001b[0m     prompt: \u001b[38;5;28mstr\u001b[39m,\n\u001b[1;32m     30\u001b[0m     input_text: \u001b[38;5;28mstr\u001b[39m\n\u001b[1;32m     31\u001b[0m ) \u001b[38;5;241m-\u001b[39m\u001b[38;5;241m>\u001b[39m Any:\n\u001b[1;32m     32\u001b[0m \u001b[38;5;250m    \u001b[39m\u001b[38;5;124;03m\"\"\"\u001b[39;00m\n\u001b[1;32m     33\u001b[0m \u001b[38;5;124;03m    Unified classify method that integrates directly with FastClass.\u001b[39;00m\n\u001b[1;32m     34\u001b[0m \u001b[38;5;124;03m    \"\"\"\u001b[39;00m\n\u001b[0;32m---> 35\u001b[0m     \u001b[38;5;28;01mreturn\u001b[39;00m \u001b[38;5;28;43mself\u001b[39;49m\u001b[38;5;241;43m.\u001b[39;49m\u001b[43mfastclass\u001b[49m\u001b[38;5;241;43m.\u001b[39;49m\u001b[43minfer\u001b[49m\u001b[43m(\u001b[49m\u001b[43mresponse_type\u001b[49m\u001b[43m,\u001b[49m\u001b[43m \u001b[49m\u001b[43minput_text\u001b[49m\u001b[43m,\u001b[49m\u001b[43m \u001b[49m\u001b[43mprompt\u001b[49m\u001b[43m)\u001b[49m\n",
      "File \u001b[0;32m~/fullstack/opol/opol/python-client/opol/api/fastclass.py:100\u001b[0m, in \u001b[0;36mFastClass.infer\u001b[0;34m(self, type_or_model, user_input, prompt)\u001b[0m\n\u001b[1;32m     93\u001b[0m     llm_response \u001b[38;5;241m=\u001b[39m \u001b[38;5;28mself\u001b[39m\u001b[38;5;241m.\u001b[39mclient\u001b[38;5;241m.\u001b[39mmessages\u001b[38;5;241m.\u001b[39mcreate(\n\u001b[1;32m     94\u001b[0m         messages\u001b[38;5;241m=\u001b[39m[\n\u001b[1;32m     95\u001b[0m             {\u001b[38;5;124m\"\u001b[39m\u001b[38;5;124mrole\u001b[39m\u001b[38;5;124m\"\u001b[39m: \u001b[38;5;124m\"\u001b[39m\u001b[38;5;124muser\u001b[39m\u001b[38;5;124m\"\u001b[39m, \u001b[38;5;124m\"\u001b[39m\u001b[38;5;124mcontent\u001b[39m\u001b[38;5;124m\"\u001b[39m: combined_prompt}\n\u001b[1;32m     96\u001b[0m         ],\n\u001b[1;32m     97\u001b[0m         response_model\u001b[38;5;241m=\u001b[39mresponse_model,\n\u001b[1;32m     98\u001b[0m     )\n\u001b[1;32m     99\u001b[0m \u001b[38;5;28;01melif\u001b[39;00m \u001b[38;5;28mself\u001b[39m\u001b[38;5;241m.\u001b[39mprovider \u001b[38;5;241m==\u001b[39m \u001b[38;5;124m\"\u001b[39m\u001b[38;5;124mollama\u001b[39m\u001b[38;5;124m\"\u001b[39m:\n\u001b[0;32m--> 100\u001b[0m     llm_response \u001b[38;5;241m=\u001b[39m \u001b[38;5;28;43mself\u001b[39;49m\u001b[38;5;241;43m.\u001b[39;49m\u001b[43mclient\u001b[49m\u001b[38;5;241;43m.\u001b[39;49m\u001b[43mchat\u001b[49m\u001b[38;5;241;43m.\u001b[39;49m\u001b[43mcompletions\u001b[49m\u001b[38;5;241;43m.\u001b[39;49m\u001b[43mcreate\u001b[49m\u001b[43m(\u001b[49m\n\u001b[1;32m    101\u001b[0m \u001b[43m        \u001b[49m\u001b[43mmodel\u001b[49m\u001b[38;5;241;43m=\u001b[39;49m\u001b[38;5;28;43mself\u001b[39;49m\u001b[38;5;241;43m.\u001b[39;49m\u001b[43mmodel_name\u001b[49m\u001b[43m,\u001b[49m\n\u001b[1;32m    102\u001b[0m \u001b[43m        \u001b[49m\u001b[43mmessages\u001b[49m\u001b[38;5;241;43m=\u001b[39;49m\u001b[43m[\u001b[49m\n\u001b[1;32m    103\u001b[0m \u001b[43m            \u001b[49m\u001b[43m{\u001b[49m\u001b[38;5;124;43m\"\u001b[39;49m\u001b[38;5;124;43mrole\u001b[39;49m\u001b[38;5;124;43m\"\u001b[39;49m\u001b[43m:\u001b[49m\u001b[43m \u001b[49m\u001b[38;5;124;43m\"\u001b[39;49m\u001b[38;5;124;43muser\u001b[39;49m\u001b[38;5;124;43m\"\u001b[39;49m\u001b[43m,\u001b[49m\u001b[43m \u001b[49m\u001b[38;5;124;43m\"\u001b[39;49m\u001b[38;5;124;43mcontent\u001b[39;49m\u001b[38;5;124;43m\"\u001b[39;49m\u001b[43m:\u001b[49m\u001b[43m \u001b[49m\u001b[43mcombined_prompt\u001b[49m\u001b[43m}\u001b[49m\n\u001b[1;32m    104\u001b[0m \u001b[43m        \u001b[49m\u001b[43m]\u001b[49m\u001b[43m,\u001b[49m\n\u001b[1;32m    105\u001b[0m \u001b[43m        \u001b[49m\u001b[43mresponse_model\u001b[49m\u001b[38;5;241;43m=\u001b[39;49m\u001b[43mresponse_model\u001b[49m\u001b[43m,\u001b[49m\n\u001b[1;32m    106\u001b[0m \u001b[43m    \u001b[49m\u001b[43m)\u001b[49m\n\u001b[1;32m    107\u001b[0m \u001b[38;5;28;01melse\u001b[39;00m:\n\u001b[1;32m    108\u001b[0m     \u001b[38;5;28;01mraise\u001b[39;00m \u001b[38;5;167;01mValueError\u001b[39;00m(\u001b[38;5;124mf\u001b[39m\u001b[38;5;124m\"\u001b[39m\u001b[38;5;124mUnsupported provider: \u001b[39m\u001b[38;5;132;01m{\u001b[39;00m\u001b[38;5;28mself\u001b[39m\u001b[38;5;241m.\u001b[39mprovider\u001b[38;5;132;01m}\u001b[39;00m\u001b[38;5;124m\"\u001b[39m)\n",
      "File \u001b[0;32m~/.local/lib/python3.10/site-packages/instructor/client.py:176\u001b[0m, in \u001b[0;36mInstructor.create\u001b[0;34m(self, response_model, messages, max_retries, validation_context, context, strict, **kwargs)\u001b[0m\n\u001b[1;32m    164\u001b[0m \u001b[38;5;28;01mdef\u001b[39;00m \u001b[38;5;21mcreate\u001b[39m(\n\u001b[1;32m    165\u001b[0m     \u001b[38;5;28mself\u001b[39m,\n\u001b[1;32m    166\u001b[0m     response_model: \u001b[38;5;28mtype\u001b[39m[T] \u001b[38;5;241m|\u001b[39m \u001b[38;5;28;01mNone\u001b[39;00m,\n\u001b[0;32m   (...)\u001b[0m\n\u001b[1;32m    172\u001b[0m     \u001b[38;5;241m*\u001b[39m\u001b[38;5;241m*\u001b[39mkwargs: Any,\n\u001b[1;32m    173\u001b[0m ) \u001b[38;5;241m-\u001b[39m\u001b[38;5;241m>\u001b[39m T \u001b[38;5;241m|\u001b[39m Any \u001b[38;5;241m|\u001b[39m Awaitable[T] \u001b[38;5;241m|\u001b[39m Awaitable[Any]:\n\u001b[1;32m    174\u001b[0m     kwargs \u001b[38;5;241m=\u001b[39m \u001b[38;5;28mself\u001b[39m\u001b[38;5;241m.\u001b[39mhandle_kwargs(kwargs)\n\u001b[0;32m--> 176\u001b[0m     \u001b[38;5;28;01mreturn\u001b[39;00m \u001b[38;5;28;43mself\u001b[39;49m\u001b[38;5;241;43m.\u001b[39;49m\u001b[43mcreate_fn\u001b[49m\u001b[43m(\u001b[49m\n\u001b[1;32m    177\u001b[0m \u001b[43m        \u001b[49m\u001b[43mresponse_model\u001b[49m\u001b[38;5;241;43m=\u001b[39;49m\u001b[43mresponse_model\u001b[49m\u001b[43m,\u001b[49m\n\u001b[1;32m    178\u001b[0m \u001b[43m        \u001b[49m\u001b[43mmessages\u001b[49m\u001b[38;5;241;43m=\u001b[39;49m\u001b[43mmessages\u001b[49m\u001b[43m,\u001b[49m\n\u001b[1;32m    179\u001b[0m \u001b[43m        \u001b[49m\u001b[43mmax_retries\u001b[49m\u001b[38;5;241;43m=\u001b[39;49m\u001b[43mmax_retries\u001b[49m\u001b[43m,\u001b[49m\n\u001b[1;32m    180\u001b[0m \u001b[43m        \u001b[49m\u001b[43mvalidation_context\u001b[49m\u001b[38;5;241;43m=\u001b[39;49m\u001b[43mvalidation_context\u001b[49m\u001b[43m,\u001b[49m\n\u001b[1;32m    181\u001b[0m \u001b[43m        \u001b[49m\u001b[43mcontext\u001b[49m\u001b[38;5;241;43m=\u001b[39;49m\u001b[43mcontext\u001b[49m\u001b[43m,\u001b[49m\n\u001b[1;32m    182\u001b[0m \u001b[43m        \u001b[49m\u001b[43mstrict\u001b[49m\u001b[38;5;241;43m=\u001b[39;49m\u001b[43mstrict\u001b[49m\u001b[43m,\u001b[49m\n\u001b[1;32m    183\u001b[0m \u001b[43m        \u001b[49m\u001b[43mhooks\u001b[49m\u001b[38;5;241;43m=\u001b[39;49m\u001b[38;5;28;43mself\u001b[39;49m\u001b[38;5;241;43m.\u001b[39;49m\u001b[43mhooks\u001b[49m\u001b[43m,\u001b[49m\n\u001b[1;32m    184\u001b[0m \u001b[43m        \u001b[49m\u001b[38;5;241;43m*\u001b[39;49m\u001b[38;5;241;43m*\u001b[39;49m\u001b[43mkwargs\u001b[49m\u001b[43m,\u001b[49m\n\u001b[1;32m    185\u001b[0m \u001b[43m    \u001b[49m\u001b[43m)\u001b[49m\n",
      "File \u001b[0;32m~/.local/lib/python3.10/site-packages/instructor/patch.py:193\u001b[0m, in \u001b[0;36mpatch.<locals>.new_create_sync\u001b[0;34m(response_model, validation_context, context, max_retries, strict, hooks, *args, **kwargs)\u001b[0m\n\u001b[1;32m    187\u001b[0m response_model, new_kwargs \u001b[38;5;241m=\u001b[39m handle_response_model(\n\u001b[1;32m    188\u001b[0m     response_model\u001b[38;5;241m=\u001b[39mresponse_model, mode\u001b[38;5;241m=\u001b[39mmode, \u001b[38;5;241m*\u001b[39m\u001b[38;5;241m*\u001b[39mkwargs\n\u001b[1;32m    189\u001b[0m )\n\u001b[1;32m    191\u001b[0m new_kwargs \u001b[38;5;241m=\u001b[39m handle_templating(new_kwargs, context)\n\u001b[0;32m--> 193\u001b[0m response \u001b[38;5;241m=\u001b[39m \u001b[43mretry_sync\u001b[49m\u001b[43m(\u001b[49m\n\u001b[1;32m    194\u001b[0m \u001b[43m    \u001b[49m\u001b[43mfunc\u001b[49m\u001b[38;5;241;43m=\u001b[39;49m\u001b[43mfunc\u001b[49m\u001b[43m,\u001b[49m\u001b[43m  \u001b[49m\u001b[38;5;66;43;03m# type: ignore\u001b[39;49;00m\n\u001b[1;32m    195\u001b[0m \u001b[43m    \u001b[49m\u001b[43mresponse_model\u001b[49m\u001b[38;5;241;43m=\u001b[39;49m\u001b[43mresponse_model\u001b[49m\u001b[43m,\u001b[49m\n\u001b[1;32m    196\u001b[0m \u001b[43m    \u001b[49m\u001b[43mcontext\u001b[49m\u001b[38;5;241;43m=\u001b[39;49m\u001b[43mcontext\u001b[49m\u001b[43m,\u001b[49m\n\u001b[1;32m    197\u001b[0m \u001b[43m    \u001b[49m\u001b[43mmax_retries\u001b[49m\u001b[38;5;241;43m=\u001b[39;49m\u001b[43mmax_retries\u001b[49m\u001b[43m,\u001b[49m\n\u001b[1;32m    198\u001b[0m \u001b[43m    \u001b[49m\u001b[43margs\u001b[49m\u001b[38;5;241;43m=\u001b[39;49m\u001b[43margs\u001b[49m\u001b[43m,\u001b[49m\n\u001b[1;32m    199\u001b[0m \u001b[43m    \u001b[49m\u001b[43mhooks\u001b[49m\u001b[38;5;241;43m=\u001b[39;49m\u001b[43mhooks\u001b[49m\u001b[43m,\u001b[49m\n\u001b[1;32m    200\u001b[0m \u001b[43m    \u001b[49m\u001b[43mstrict\u001b[49m\u001b[38;5;241;43m=\u001b[39;49m\u001b[43mstrict\u001b[49m\u001b[43m,\u001b[49m\n\u001b[1;32m    201\u001b[0m \u001b[43m    \u001b[49m\u001b[43mkwargs\u001b[49m\u001b[38;5;241;43m=\u001b[39;49m\u001b[43mnew_kwargs\u001b[49m\u001b[43m,\u001b[49m\n\u001b[1;32m    202\u001b[0m \u001b[43m    \u001b[49m\u001b[43mmode\u001b[49m\u001b[38;5;241;43m=\u001b[39;49m\u001b[43mmode\u001b[49m\u001b[43m,\u001b[49m\n\u001b[1;32m    203\u001b[0m \u001b[43m\u001b[49m\u001b[43m)\u001b[49m\n\u001b[1;32m    204\u001b[0m \u001b[38;5;28;01mreturn\u001b[39;00m response\n",
      "File \u001b[0;32m~/.local/lib/python3.10/site-packages/instructor/retry.py:167\u001b[0m, in \u001b[0;36mretry_sync\u001b[0;34m(func, response_model, args, kwargs, context, max_retries, strict, mode, hooks)\u001b[0m\n\u001b[1;32m    165\u001b[0m \u001b[38;5;28;01mexcept\u001b[39;00m RetryError \u001b[38;5;28;01mas\u001b[39;00m e:\n\u001b[1;32m    166\u001b[0m     logger\u001b[38;5;241m.\u001b[39mdebug(\u001b[38;5;124mf\u001b[39m\u001b[38;5;124m\"\u001b[39m\u001b[38;5;124mRetry error: \u001b[39m\u001b[38;5;132;01m{\u001b[39;00me\u001b[38;5;132;01m}\u001b[39;00m\u001b[38;5;124m\"\u001b[39m)\n\u001b[0;32m--> 167\u001b[0m     \u001b[38;5;28;01mraise\u001b[39;00m InstructorRetryException(\n\u001b[1;32m    168\u001b[0m         e\u001b[38;5;241m.\u001b[39mlast_attempt\u001b[38;5;241m.\u001b[39m_exception,\n\u001b[1;32m    169\u001b[0m         last_completion\u001b[38;5;241m=\u001b[39mresponse,\n\u001b[1;32m    170\u001b[0m         n_attempts\u001b[38;5;241m=\u001b[39mattempt\u001b[38;5;241m.\u001b[39mretry_state\u001b[38;5;241m.\u001b[39mattempt_number,\n\u001b[1;32m    171\u001b[0m         \u001b[38;5;66;03m#! deprecate messages soon\u001b[39;00m\n\u001b[1;32m    172\u001b[0m         messages\u001b[38;5;241m=\u001b[39mkwargs\u001b[38;5;241m.\u001b[39mget(\n\u001b[1;32m    173\u001b[0m             \u001b[38;5;124m\"\u001b[39m\u001b[38;5;124mmessages\u001b[39m\u001b[38;5;124m\"\u001b[39m, kwargs\u001b[38;5;241m.\u001b[39mget(\u001b[38;5;124m\"\u001b[39m\u001b[38;5;124mcontents\u001b[39m\u001b[38;5;124m\"\u001b[39m, kwargs\u001b[38;5;241m.\u001b[39mget(\u001b[38;5;124m\"\u001b[39m\u001b[38;5;124mchat_history\u001b[39m\u001b[38;5;124m\"\u001b[39m, []))\n\u001b[1;32m    174\u001b[0m         ),\n\u001b[1;32m    175\u001b[0m         create_kwargs\u001b[38;5;241m=\u001b[39mkwargs,\n\u001b[1;32m    176\u001b[0m         total_usage\u001b[38;5;241m=\u001b[39mtotal_usage,\n\u001b[1;32m    177\u001b[0m     ) \u001b[38;5;28;01mfrom\u001b[39;00m \u001b[38;5;21;01me\u001b[39;00m\n",
      "\u001b[0;31mInstructorRetryException\u001b[0m: 1 validation error for DynamicSingleFieldModel\nsingle_field\n  Field required [type=missing, input_value={'@context': 'http://sche...ired': ['single_field']}, input_type=dict]\n    For further information visit https://errors.pydantic.dev/2.9/v/missing"
     ]
    }
   ],
   "source": [
    "from opol.api.classification import Classification\n",
    "from opol.main import OPOL\n",
    "import numpy as np\n",
    "import os\n",
    "\n",
    "# Initialize the OPOL client in local mode\n",
    "opol = OPOL(mode=\"local\")\n",
    "\n",
    "# Set the API key for accessing the Google Generative AI service\n",
    "# api_key = \"\"\n",
    "\n",
    "# set env variable\n",
    "os.environ['OPOL_MODE'] = \"local\"\n",
    "\n",
    "\n",
    "# Initialize the classification service with the specified provider, model, and API key\n",
    "xclass = opol.classification(provider=\"ollama\", model_name=\"llama3.2:latest\", llm_api_key=\"\")\n",
    "\n",
    "# Example 1: Classify user preference for frozen dairy products on a scale of 1 to 10\n",
    "user_input = \"I love ice cream\"\n",
    "prompt = \"On a 1-10 scale how much the user likes frozen dairy products\"\n",
    "int_value = xclass.classify(\"int\", prompt, user_input)\n",
    "print(\"User preference rating:\", int_value)\n",
    "\n",
    "# Variance test\n",
    "# Running the same classification 10 times\n",
    "results = []\n",
    "for i in range(10):\n",
    "    results.append(xclass.classify(\"int\", prompt, user_input))\n",
    "\n",
    "variance = np.var(results)\n",
    "print(\"Variance:\", variance)\n",
    "\n",
    "# Example 2: Extract keywords from a given text\n",
    "text = \"In the madagascan wilds the biggest wild animal is the elephant in the globe finance trade is offshore jusrisdiction diffusion\"\n",
    "instruction = \"The topics relevant to this text. Only semantically relevant to a content system\"\n",
    "keywords = xclass.classify(\"List[str]\", instruction, text)\n",
    "print(\"Extracted keywords:\", keywords)\n",
    "\n",
    "# Example 3: Use a Pydantic model to classify request types with keywords and relevance level\n",
    "from pydantic import BaseModel, Field\n",
    "from typing import List\n",
    "\n",
    "class RequestType(BaseModel):\n",
    "    \"\"\"\n",
    "    This is the main classification for incoming request types.\n",
    "    \"\"\"\n",
    "    keywords: List[str] = Field(description=\"The keywords relevant to this text. Only semantically relevant to a content system\")\n",
    "    relevance_level: int = Field(description=\"On a 1-10 scale how much the content is relevant\")\n",
    "\n",
    "# Classify the request using the Pydantic model\n",
    "request = xclass.classify(RequestType, instruction, text)\n",
    "print(\"Classified request:\", request)\n",
    "\n",
    "## Results\n",
    "# User preference rating: 10\n",
    "# Extracted keywords: ['madagascan', 'wilds', 'biggest', 'animal', 'elephant']\n",
    "# Classified request: keywords=['madagascar', 'wildlife', 'elephant'] relevance_level=8\n",
    "\n",
    "\n",
    "\n",
    "\n"
   ]
  },
  {
   "cell_type": "code",
   "execution_count": null,
   "metadata": {},
   "outputs": [],
   "source": [
    "from opol.main import OPOL\n",
    "import os\n",
    "from pprint import pprint\n",
    "\n",
    "# 1. Setup client (using opol.io)\n",
    "# opol = OPOL(api_key=\"\")\n",
    "\n",
    "# Alternatively - if you have booted the opol stack on your machine (no api key needed)\n",
    "# Read opol/opol/stack/Readme.md for more information\n",
    "opol = OPOL(mode=\"local\")\n",
    "\n",
    "\n",
    "for poll in opol.scraping.polls(\"Germany\", latest=True):\n",
    "    print(poll)\n",
    "\n"
   ]
  },
  {
   "cell_type": "markdown",
   "metadata": {},
   "source": [
    "### Search Engine (Google, Bing, Wikipedia, Axiv)"
   ]
  },
  {
   "cell_type": "code",
   "execution_count": null,
   "metadata": {},
   "outputs": [],
   "source": [
    "from opol.main import OPOL\n",
    "from pydantic import BaseModel\n",
    "from typing import List, Optional\n",
    "\n",
    "opol = OPOL(mode=\"local\")\n",
    "\n",
    "articles = opol.search.engine(\"Latest news from Gaza\", engine=\"wikipedia\")\n",
    "\n",
    "\n",
    "for article in articles[:2]:\n",
    "    print(article)\n",
    "\n",
    "print(\"*\"*20)\n",
    "images = opol.search.image(\"Latest news from Gaza\")\n",
    "\n",
    "for image in images[:6]:\n",
    "    print(image)\n",
    "\n"
   ]
  },
  {
   "cell_type": "markdown",
   "metadata": {},
   "source": [
    "### Embeddings"
   ]
  },
  {
   "cell_type": "code",
   "execution_count": null,
   "metadata": {},
   "outputs": [],
   "source": [
    "from opol.main import OPOL\n",
    "\n",
    "opol = OPOL(mode=\"local\")\n",
    "\n",
    "embeddings = opol.embeddings(\"What is the capital of Germany?\")\n",
    "\n",
    "print(embeddings)\n",
    "print(len(embeddings))\n"
   ]
  },
  {
   "cell_type": "code",
   "execution_count": null,
   "metadata": {},
   "outputs": [],
   "source": []
  },
  {
   "cell_type": "markdown",
   "metadata": {},
   "source": [
    "## Full Flow"
   ]
  },
  {
   "cell_type": "code",
   "execution_count": null,
   "metadata": {},
   "outputs": [],
   "source": []
  },
  {
   "cell_type": "code",
   "execution_count": null,
   "metadata": {},
   "outputs": [],
   "source": [
    "from opol.main import OPOL\n",
    "from pydantic import BaseModel, Field\n",
    "from typing import List\n",
    "import os\n",
    "import numpy as np\n",
    "\n",
    "opol = OPOL(mode=\"local\")\n",
    "api_key = \"\"\n",
    "fastclass = opol.classification(provider=\"Google\", model_name=\"models/gemini-1.5-flash-latest\", llm_api_key=api_key)\n",
    "\n",
    "\n",
    "class ExpandedQuery(BaseModel):\n",
    "    \"\"\"\n",
    "    As a political intelligence analyst, your task is to generate a set of three queries that delve deeper into geopolitical dynamics, building upon the initial query and the insights gathered from its search results.\n",
    "\n",
    "    For instance, if the original query was \"Middle East\", your output should follow this format:\n",
    "\n",
    "    [\n",
    "        \"Current political situation in the Middle East\",\n",
    "        \"Recent military & conflict developments in the Middle East\",\n",
    "        \"Economic assessments of the Middle East\"\n",
    "    ]\n",
    "\n",
    "\n",
    "    Aim to create queries that progressively explore more specific geopolitical factors, implications, or related topics concerning the initial query. The goal is to anticipate the analyst's potential information needs and guide them towards a more comprehensive understanding of the geopolitical landscape.\n",
    "    Please match the language of the response to the analyst's language.\n",
    "    Also return the timeframe you want to search in, depending on the generality of the issue.\n",
    "    Very detailed and specified queries are likely to inquire more recent content.  \n",
    "    \n",
    "    Return three queries.\n",
    "    Return one timeframe, which is a literal of: [ day, month, year ]\n",
    "\n",
    "    \"\"\"\n",
    "    similar: List[str] = None\n",
    "    time_range: str = None\n",
    "\n",
    "query = \"Current developments in Gaza?\"\n",
    "instruction = \"\"\n",
    "expanded_query = fastclass.classify(ExpandedQuery, instruction, query)\n",
    "\n",
    "all_articles = []\n",
    "\n",
    "# Collect articles (max 50)\n",
    "counter = 0\n",
    "for query in expanded_query.similar:\n",
    "    articles = opol.search.engine(query, time_range=expanded_query.time_range)\n",
    "    for article in articles:\n",
    "        if counter > 70:\n",
    "            break\n",
    "        all_articles.append(article)\n",
    "        counter += 1\n",
    "\n",
    "# Rerank articles based on similarity to the query\n",
    "query_embedding = opol.embeddings(query)\n",
    "ranked_articles = opol.embeddings.rerank_articles(query_embedding, all_articles, text_field=\"title\")\n",
    "\n",
    "# Print top 2 ranked articles\n",
    "for article in ranked_articles[:15]:\n",
    "    for field in article[0]:\n",
    "        print(field)"
   ]
  },
  {
   "cell_type": "markdown",
   "metadata": {},
   "source": [
    "## Scrape a url\n"
   ]
  },
  {
   "cell_type": "code",
   "execution_count": null,
   "metadata": {},
   "outputs": [],
   "source": [
    "from opol.main import OPOL\n",
    "\n",
    "opol = OPOL(mode=\"local\")\n",
    "\n",
    "url = \"https://www.dw.com/en//en/pakistans-punjab-imposes-activity-bans-amid-intense-smog/a-70755328\"\n",
    "scraped_url = opol.scraping.url(url)\n",
    "\n",
    "print(scraped_url)"
   ]
  },
  {
   "cell_type": "code",
   "execution_count": null,
   "metadata": {},
   "outputs": [],
   "source": []
  },
  {
   "cell_type": "code",
   "execution_count": null,
   "metadata": {},
   "outputs": [],
   "source": [
    "from opol.main import OPOL\n",
    "\n",
    "opol = OPOL(mode=\"remote\", api_key=\"\")\n",
    "\n",
    "geocode = opol.geo.code(\"Berlin\")\n",
    "\n",
    "print(geocode)\n",
    "articles = opol.search.engine(\"Latest news from Gaza\", engine=\"wikipedia\")\n",
    "\n",
    "for article in articles:\n",
    "    print(article)\n",
    "    "
   ]
  },
  {
   "cell_type": "code",
   "execution_count": null,
   "metadata": {},
   "outputs": [],
   "source": []
  },
  {
   "cell_type": "code",
   "execution_count": null,
   "metadata": {},
   "outputs": [],
   "source": []
  },
  {
   "cell_type": "code",
   "execution_count": null,
   "metadata": {},
   "outputs": [],
   "source": [
    "import requests\n",
    "import regex as r\n",
    "from bs4 import BeautifulSoup\n",
    "\n",
    "def fetch_party_and_percentage():\n",
    "    # Define the Wikipedia API URL for the opensearch endpoint\n",
    "    search_url = \"https://en.wikipedia.org/w/api.php\"\n",
    "    search_params = {\n",
    "        \"action\": \"opensearch\",\n",
    "        \"search\": \"2021 German federal election\",\n",
    "        \"limit\": 1,\n",
    "        \"namespace\": 0,\n",
    "        \"format\": \"json\"\n",
    "    }\n",
    "    \n",
    "    # Perform the search\n",
    "    response = requests.get(search_url, params=search_params)\n",
    "    search_results = response.json()\n",
    "    \n",
    "    # Extract the page URL from the search results\n",
    "    if search_results and len(search_results) > 3 and search_results[3]:\n",
    "        page_url = search_results[3][0]\n",
    "    else:\n",
    "        raise Exception(\"Wikipedia page not found.\")\n",
    "    \n",
    "    # Fetch the page content\n",
    "    page_response = requests.get(page_url)\n",
    "    soup = BeautifulSoup(page_response.content, 'html.parser')\n",
    "    \n",
    "    # Find the election results table\n",
    "    table = soup.find('table', {'class': 'infobox'})\n",
    "    if not table:\n",
    "        raise Exception(\"Election results table not found.\")\n",
    "    \n",
    "    # Initialize a dictionary to hold data\n",
    "    data = {\n",
    "        'Party': [],\n",
    "        'Percentage': []\n",
    "    }\n",
    "    \n",
    "    # Iterate over table rows to extract data\n",
    "    rows = table.find_all('tr')\n",
    "    for row in rows:\n",
    "        header = row.find('th')\n",
    "        data_cells = row.find_all('td')\n",
    "        if header and data_cells:\n",
    "            key = header.get_text(strip=True)\n",
    "            if key in data:\n",
    "                for cell in data_cells:\n",
    "                    text = cell.get_text(strip=True)\n",
    "                    if text:\n",
    "                        if key == 'Percentage':\n",
    "                            text = r.search(r'\\d{1,2}\\.\\d{1,2}', text).group(0)\n",
    "                        data[key].append(text)\n",
    "    \n",
    "    # Print the extracted data\n",
    "    for party, percentage in zip(data['Party'], data['Percentage']):\n",
    "        print(f\"Party: {party}, Percentage: {percentage}\")\n",
    "\n",
    "fetch_party_and_percentage()\n",
    "\n",
    "from opol.main import OPOL\n",
    "from pprint import pprint\n",
    "\n",
    "opol = OPOL(mode=\"local\", api_key=\"\")\n",
    "\n",
    "# polls = opol.scraping.polls(\"Germany\")\n",
    "\n",
    "# for pol in polls:\n",
    "#     if pol['party'] == \"GRÜNE\" or pol['party'] == \"CDU/CSU\":\n",
    "#         print(pol)\n",
    "\n",
    "\n",
    "# Latest Polls for each Insittute\n",
    "# polls = opol.scraping.polls(\"Germany\", latest=True)\n",
    "\n",
    "# for poll in polls:\n",
    "#     print(poll)\n",
    "\n",
    "ranked_polls = opol.scraping.polls(\"Germany\", summarised=True)\n",
    "\n",
    "for poll in ranked_polls:\n",
    "    print(poll['party'] + \": \" + str(poll['percentage']) + f\" ({poll['change_since_election']})\") \n",
    "\n"
   ]
  },
  {
   "cell_type": "code",
   "execution_count": 4,
   "metadata": {},
   "outputs": [
    {
     "name": "stdout",
     "output_type": "stream",
     "text": [
      "Ingesting single document...\n",
      "Response: message='Documents ingested successfully.' content_ids=['fccef182-f0df-4dbd-95a6-cebf74a5b20a'] contents=None\n",
      "\n",
      "Ingesting multiple documents...\n",
      "Response: message='Documents ingested successfully.' content_ids=['fb8e3f1c-8e03-4e0a-aafc-58b9eb713c0c', 'f98fecb2-82ba-41f1-aec4-799c1229a307'] contents=None\n",
      "[Document(id='fb8e3f1c-8e03-4e0a-aafc-58b9eb713c0c', url='https://example.com/article2', title='Example Article 2', content_type='article', source=None, text_content='Test content 2', insertion_date='2025-01-10T17:30:51.052560+00:00', summary='Test summary 2', meta_summary=None, media_details=None), Document(id='f98fecb2-82ba-41f1-aec4-799c1229a307', url='https://example.com/article3', title='Example Article 3', content_type='article', source=None, text_content='Test content 3', insertion_date='2025-01-10T17:30:51.056195+00:00', summary='Test summary 3', meta_summary=None, media_details=None)]\n",
      "********************\n",
      "id='fb8e3f1c-8e03-4e0a-aafc-58b9eb713c0c' url='https://example.com/article2' title='Example Article 2' content_type='article' source=None text_content='Test content 2' insertion_date='2025-01-10T17:30:51.052560+00:00' summary='Test summary 2' meta_summary=None media_details=None\n",
      "id='f98fecb2-82ba-41f1-aec4-799c1229a307' url='https://example.com/article3' title='Example Article 3' content_type='article' source=None text_content='Test content 3' insertion_date='2025-01-10T17:30:51.056195+00:00' summary='Test summary 3' meta_summary=None media_details=None\n",
      "{'message': 'Document deleted successfully.', 'id': 'fb8e3f1c-8e03-4e0a-aafc-58b9eb713c0c'}\n",
      "{'message': 'Document deleted successfully.', 'id': 'f98fecb2-82ba-41f1-aec4-799c1229a307'}\n"
     ]
    }
   ],
   "source": [
    "from opol.main import OPOL\n",
    "from opol.api.documents import Document\n",
    "\n",
    "def test_documents():\n",
    "    opol = OPOL(mode=\"local\")\n",
    "    docs = opol.documents\n",
    "\n",
    "    # Test single document ingestion\n",
    "    doc = Document(\n",
    "        url=\"https://example.com/article1\",\n",
    "        title=\"Example Article 1\",\n",
    "        text_content=\"Test content 1\",\n",
    "        summary=\"Test summary 1\"\n",
    "    )\n",
    "    print(\"Ingesting single document...\")\n",
    "    response = docs.ingest(doc, overwrite=True)\n",
    "    print(f\"Response: {response}\\n\")\n",
    "\n",
    "    # Test multiple document ingestion\n",
    "    multi_docs = [\n",
    "        Document(\n",
    "            url=\"https://example.com/article2\",\n",
    "            title=\"Example Article 2\", \n",
    "            text_content=\"Test content 2\",\n",
    "            summary=\"Test summary 2\"\n",
    "        ),\n",
    "        Document(\n",
    "            url=\"https://example.com/article3\",\n",
    "            title=\"Example Article 3\",\n",
    "            text_content=\"Test content 3\", \n",
    "            summary=\"Test summary 3\"\n",
    "        )\n",
    "    ]\n",
    "    print(\"Ingesting multiple documents...\")\n",
    "    response = docs.ingest(multi_docs, overwrite=True)\n",
    "    print(f\"Response: {response}\")\n",
    "\n",
    "    read_articles = docs.read(ids=response.content_ids)\n",
    "    print(read_articles)\n",
    "    print(\"*\"*20)\n",
    "    for article in read_articles:\n",
    "        print(article)\n",
    "\n",
    "    for article in read_articles:\n",
    "        delete_response = docs.delete(id=article.id)\n",
    "        print(delete_response)\n",
    "\n",
    "if __name__ == \"__main__\":\n",
    "    test_documents()"
   ]
  },
  {
   "cell_type": "code",
   "execution_count": 2,
   "metadata": {},
   "outputs": [
    {
     "name": "stdout",
     "output_type": "stream",
     "text": [
      "{'id': '3610c09d-8399-422e-8bdf-62bf6f26fe7f', 'url': 'https://www.bbc.com/news/articles/c2kxl45kev0o', 'title': 'The World War Two soldier buried in Germany without his brain', 'source': 'BBC News', 'insertion_date': '2025-01-22T02:25:25.131033+00:00', 'text_content': 'The World War Two soldier buried without his brain\\n\\nScottish soldier Donnie MacRae died as a German prisoner of war during World War Two - but it was not until almost 80 years later that his family discovered he had been buried without his brain.\\n\\nDonnie died in a PoW hospital in 1941 and because he had suffered with a rare neurological condition an autopsy was performed on his body.\\n\\nDuring the post-mortem, his brain and part of his spinal cord were removed and sent to the Kaiser Wilhelm Institute for Psychiatry in Munich to be used for research.\\n\\nHis body was buried by the Germans and later reburied by the Allies in the Commonwealth War Graves cemetery in Berlin but no-one knew his brain had been removed.\\n\\nIn total, about 160 small slices of Donnie\\'s brain and spinal cord have been kept in the archives of the Munich research centre - since renamed the Max Planck Institute for Psychiatry - ever since.\\n\\nA BBC Radio 4 documentary - Shadow of War: A Tainted Anatomy - looks at why this happened and at the work being carried out to reunite the remains with the soldier in his grave.\\n\\nDonnie MacRae grew up as a Gaelic speaker in Gairloch on the west coast of Scotland.\\n\\nThe family were music lovers, with a strong tradition of bagpiping, and they were all talented tailors, including Donnie.\\n\\nHe had plans to use hand-woven tweeds from his home village to set up his own tailoring business in Blair Atholl in Perthshire, where his brother lived and worked as a chauffeur at a local hotel.\\n\\nHowever, in 1939, with the country on the brink of war, Donnie joined the Territorial Army and was called up to fight.\\n\\nHe was a private with the Seaforth Highlanders and was captured as a prisoner of war while fighting at St Valery, France, in June 1940.\\n\\nHe died the following year, at the age of 33, in a prisoner of war camp hospital.\\n\\nThough the MacRae family knew of Donnie\\'s capture and death, they were never informed about an autopsy, or about samples being taken from his brain.\\n\\nIt was only in 2020, when Prof Paul Weindling from Oxford Brookes University got in touch, that his niece Libby MacRae learned what had happened after Donnie\\'s death.\\n\\nProf Weindling is part of an international group of researchers who are examining records of thousands of brains that were held at the Max Planck Society in Germany.\\n\\nThe aim of the project is to identify all the victims and to commemorate them properly.\\n\\n\"One overlooked group is certainly prisoners of war whose brains were taken for neuropathological research by the Germans and stockpiled for many, many years,\" Prof Weindling says.\\n\\nThe Germans wanted to be at the forefront of medical research and the reason why Donnie\\'s brain ended up at the institute in Munich lies in the manner of his death.\\n\\nWhen he was captured he had been wounded by a rifle bullet in the left knee and back.\\n\\nAlthough the wound healed he was later readmitted to hospital where his condition deteriorated quickly in the following months.\\n\\nRare condition\\n\\nAt first he had double vision, tingling in his fingertips and difficulty speaking.\\n\\nThis rapidly led to paralysis in both arms and an inability to speak.\\n\\nIn the days before his death he was unable to move.\\n\\nDonnie died on 6 March 1941 of a rare condition called Landry\\'s Paralysis - known in the UK as the Guillain-Barré syndrome - where the immune system attacks the nervous system.\\n\\nIt is usually not fatal and, as a result, an autopsy was undertaken, including a dissection of his brain.\\n\\nDr Sabine Hildebrandt, a lecturer at Harvard Medical School with a keen interest in the ethics of the period, told the BBC it was an \"excruciating fact\" that removing tissue after death was not unusual.\\n\\n\"I\\'m not saying that they were ethically correct, but they were within the routine process of scientific work at the time,\" Dr Hildebrandt says.\\n\\nThe slices of Donnie\\'s brain and spinal cord were fixed in a solution and put on to glass microscope slides to be used for research into his condition.\\n\\nHis niece Libby says: \"It\\'s difficult to say what it feels like.\\n\\n\"I think it\\'s pretty horrible, actually, to think about it.\"\\n\\nAs well as Donnie, Prof Weindling and his team uncovered records of four other British prisoners of war who had their brains removed and held for research purposes during 1941.\\n\\nThey were Patrick O\\'Connell, Donald McPhail, Joseph Elston and William Lancaster.\\n\\nUntil very recently, none of the families of the men had any idea what had happened to their relatives.\\n\\nThey were among about 2,000 brains that were taken for research by the leading Berlin and Munich institutes during World War Two, including those of children killed during the Holocaust.\\n\\nThe victims also included Polish Jews and Catholics, those with mental illness, political prisoners, Belgian resistance fighters and French and Polish soldiers.\\n\\nOther German institutes are also known to have harvested body parts for research.\\n\\nDr Hildebrandt says the output of research from the German institutes was vast, and researchers across the world were \"envious\" of the volume of work coming out of the country.\\n\\nAfter the war, the Allies investigated the true nature of Nazi crimes and the resulting Nuremberg Trial saw nearly 200 people convicted of war crimes.\\n\\nHowever, the Kaiser Wilhelm research institutes and those anatomists involved were allowed to continue their work.\\n\\nThis was in part due to the fact that, although it is now considered deeply unethical to keep human tissue without consent, at the time it was the norm.\\n\\nHowever, questions arise over why nothing was done for so long about material held in German archives.\\n\\nIn the late 1980s there was a push from the German government to get rid of any specimens that had been \"sourced\" during World War Two, in particular any samples from persecuted groups.\\n\\nThere was to be a mass burial of hundreds of thousands of slides in Munich and a short deadline of just a few months was set.\\n\\nProf Heinz Wässle, who was head of the neurological department of the Max Planck Institute for Brain Research in Berlin at the time, said there was pressure to act extremely quickly.\\n\\n\"We were not able in short notice to find out which of the sections were from victims and which were just ordinary neuropathological material, therefore our decision was to bury all the sections from 1933 to 1945.\"\\n\\nHowever, the Munich institute chose a different policy.\\n\\nIt only buried those with suspected links to the so-called euthanasia programmes, which referred to the systematic killing of those the Nazis deemed \"unworthy of life\" because of alleged genetic diseases or defects.\\n\\nMany slides, considered to be of scientific interest, were retained.\\n\\nThe samples of Donnie MacRae were held for research purposes until 2015, when they were then put into an archive collection.\\n\\nNow, more than 80 years after his death, work is under way to reunite this material with the rest of Donnie\\'s remains in his war grave in Berlin.\\n\\nGaelic grave inscription\\n\\nProf Weindling and his colleagues have been connecting microscope samples with patient records, and contacting the next of kin.\\n\\nThe Commonwealth War Graves Commission recently agreed to accept Donnie\\'s brain and spinal cord samples from the Max Planck Institute and reunite them with the remains already buried at their cemetery in Berlin.\\n\\n\"We are hoping this will mean we are in the position to re-inter the remains later this year,\" they said.\\n\\nLibby says she hopes the painful situation is close to finally being resolved.\\n\\n\"I\\'m so glad to hear that the Commonwealth War Graves Commission will eventually bury the specimens, and all of Donnie will be together in a peaceful place,\" she said.\\n\\nHer wish is to see a new Gaelic inscription on Donnie\\'s grave in Berlin - \"Faodaidh an saoghal tighinn gu crìch ach mairidh gaol is ceòl gu bràth\".\\n\\nIt translates as: \"The world may come to an end, but love and music will last forever.\"', 'top_image': None, 'entities': [{'id': '018e5c2e-ee9f-4269-9bc7-4bc47b10c881', 'name': 'Nazis', 'entity_type': 'organization', 'locations': []}, {'id': '032b37fd-d9dd-4ca7-b316-6a32547eb2ea', 'name': 'Donnie', 'entity_type': 'person', 'locations': []}, {'id': '03727f23-3c98-46bf-923a-538de8096700', 'name': 'O', 'entity_type': 'person', 'locations': []}, {'id': '1757978e-0905-408e-868e-888ced0c2ce0', 'name': 'Dr Hildebrandt', 'entity_type': 'person', 'locations': []}, {'id': '1ee117b5-bb50-4824-9232-da3dcf3de413', 'name': 'Munich', 'entity_type': 'location', 'locations': []}, {'id': '26989266-8935-425d-8751-5f6cb89f961d', 'name': 'Seaforth Highlanders', 'entity_type': 'organization', 'locations': []}, {'id': '2972960c-0a22-4288-9bbd-1670b1cd7fe3', 'name': 'Dr Sabine Hildebrandt', 'entity_type': 'person', 'locations': []}, {'id': '2cf5333a-df27-4aa1-b78c-d4724889b28a', 'name': 'St Valery', 'entity_type': 'location', 'locations': []}, {'id': '382ccf14-a082-4920-9b71-2c7336eabf15', 'name': 'Harvard Medical School', 'entity_type': 'organization', 'locations': []}, {'id': '39b457b7-992b-4a86-9540-caaf017f4724', 'name': 'Allies', 'entity_type': 'organization', 'locations': []}, {'id': '54b0ed02-ac00-4bd0-89d1-d4baec51d198', 'name': 'Donnie MacRae', 'entity_type': 'person', 'locations': []}, {'id': '5a9e66b2-656f-4f98-85ac-c1e3f02c520b', 'name': 'William Lancaster', 'entity_type': 'person', 'locations': []}, {'id': '6612ea01-d64e-404a-8fd4-dc388c63dba2', 'name': 'Germany', 'entity_type': 'location', 'locations': []}, {'id': '6ab7f850-154e-4c38-adea-160cd2278916', 'name': 'Libby', 'entity_type': 'person', 'locations': []}, {'id': '6be14312-bf46-4e1f-bba9-1b10f161beab', 'name': 'xford Brookes University', 'entity_type': 'organization', 'locations': []}, {'id': '7b767fb8-7668-40d5-aff6-0d5b5a7fc362', 'name': 'eam', 'entity_type': 'organization', 'locations': []}, {'id': '7cd47181-8744-43c7-a8cb-39d9523ee394', 'name': 'Territorial Army', 'entity_type': 'organization', 'locations': []}, {'id': '7ffa03fe-eb8b-4a94-88b1-c1b9ce4a1cad', 'name': 'PoW', 'entity_type': 'organization', 'locations': []}, {'id': '8139571d-eed3-485d-81fe-010df9aeffeb', 'name': 'Munich institute', 'entity_type': 'organization', 'locations': []}, {'id': '85272dfd-b3eb-4efa-b20e-5727e754d397', 'name': 'Max Planck Institute', 'entity_type': 'organization', 'locations': []}, {'id': '87636d9e-f4e3-4a0d-a9ff-0c6eedf42b7d', 'name': 'Ber', 'entity_type': 'location', 'locations': []}, {'id': '8d837437-fe3e-4e22-a84c-6e8f57603bae', 'name': 'Max Planck Society', 'entity_type': 'organization', 'locations': []}, {'id': '8fcfa97f-b0db-4b03-9537-a0e33c0dcf29', 'name': 'Perthshire', 'entity_type': 'location', 'locations': []}, {'id': '925e9fcc-32d8-4be3-8c9b-448bc465693e', 'name': 'Prof Weindling', 'entity_type': 'person', 'locations': []}, {'id': '9bd2727a-4604-4d1e-83dc-558d3a0efd07', 'name': 'Blair Atholl', 'entity_type': 'location', 'locations': []}, {'id': 'a3cb33ad-fc31-4ce1-8cfc-b5167525f20c', 'name': 'Joseph Elston', 'entity_type': 'person', 'locations': []}, {'id': 'a52471b8-733a-4a25-84c4-7a18df7797eb', 'name': 'Max Planck Institute for Brain Research', 'entity_type': 'organization', 'locations': []}, {'id': 'a6c30ecb-1907-49a7-8370-70929e345d1a', 'name': 'Prof Paul Weindling', 'entity_type': 'person', 'locations': []}, {'id': 'a870385f-a5e6-4e22-b0fc-96cbfc54fe15', 'name': 'Berlin', 'entity_type': 'location', 'locations': []}, {'id': 'b0395c6b-7c57-4582-bbac-156a03982cb8', 'name': 'Kaiser Wilhelm', 'entity_type': 'person', 'locations': []}, {'id': 'c715c368-b3bf-43ee-a5f0-efcb7719d2b5', 'name': 'Max Planck Institute for Psychiatry', 'entity_type': 'organization', 'locations': []}, {'id': 'ca78295a-1865-4120-9fe8-2fe5dcbab9a4', 'name': 'BBC', 'entity_type': 'organization', 'locations': []}, {'id': 'cf345631-6f46-47e9-a200-0e911c8e5c42', 'name': 'Commonwealth War Graves Commission', 'entity_type': 'organization', 'locations': []}, {'id': 'd523b5de-850c-464e-83b7-0995f11f9c9d', 'name': 'Donnies', 'entity_type': 'person', 'locations': []}, {'id': 'de092aaa-ccaf-490d-818f-75be0fad8c7e', 'name': 'Patrick OConnell', 'entity_type': 'person', 'locations': []}, {'id': 'dfe6ea20-ee6f-4def-8aa9-ff4866d0322a', 'name': 'Gairloch', 'entity_type': 'location', 'locations': []}, {'id': 'e029483a-8112-4041-9f95-c06e639af246', 'name': 'Donald McPhail', 'entity_type': 'person', 'locations': []}, {'id': 'e2134c52-e364-48f7-ba0b-8def4e2835b2', 'name': 'German government', 'entity_type': 'organization', 'locations': []}, {'id': 'e408c3b7-d8b5-45e2-a06b-c958ed7405e4', 'name': 'German institutes', 'entity_type': 'organization', 'locations': []}, {'id': 'e7433188-8308-4dd8-9b53-9af97ed0d6d2', 'name': 'Libby MacRae', 'entity_type': 'person', 'locations': []}, {'id': 'e850bb7d-24f2-48b3-ba25-1a35e1d2b1a8', 'name': 'Prof Heinz Wässle', 'entity_type': 'person', 'locations': []}, {'id': 'f387cbb0-3f89-41e3-b238-b4501c25cbcd', 'name': 'Kaiser Wilhelm Institute for Psychiatry', 'entity_type': 'organization', 'locations': []}], 'tags': [], 'evaluation': {'thematic_locations': None, 'content_id': '3610c09d-8399-422e-8bdf-62bf6f26fe7f', 'sociocultural_interest': 7, 'regional_political_impact': 2, 'regional_economic_impact': 0, 'event_subtype': 'World War Two', 'rhetoric': 'neutral', 'id': '039c0ca9-3bb8-4146-843f-6fe414404835', 'global_political_impact': 1, 'global_economic_impact': 0, 'event_type': 'War', 'categories': ['History', 'Military']}}\n",
      "{'id': '5a1aae26-13c0-4252-ab7f-7b6a2f7db91c', 'url': 'https://www.cnn.com/2025/01/02/us/matthew-alan-livelsberger-vegas-cybertruck-explosion/index.html', 'title': 'Matthew Alan Livelsberger: What we know about the suspect in the Las Vegas Cybertruck explosion', 'source': 'bbc_news', 'insertion_date': '2025-01-03T02:01:21.772214+00:00', 'text_content': 'Law enforcement officials gave some insight Friday on why a five-time Bronze Star recipient and new father would orchestrate a suicidal New Year’s Day explosion, saying he wrote of “political grievances,” armed conflicts elsewhere as well as domestic issues in the days leading up to the blast in Las Vegas.\\n\\nOne of two letters shared by police show Matthew Alan Livelsberger, 37, of Colorado, said the incident was intended not as a “terrorist attack” but rather “a wake-up call,” saying “Americans only pay attention to spectacles and violence” and “fireworks and explosives” were best to get his point across.\\n\\nA second letter that police believe Livelsberger wrote called for action to remove Democrats from both the federal government and the military. That letter also included the possibility of occupying roads and federal buildings, not ruling out the use of force.\\n\\nThe writings – the first letter containing more than 400 words, and the second containing fewer than 125 – were found in Livelsberger’s cell phone, as well as a 10-day “journal of activity” or “surveillance log” from December 21 to December 31, which chronicled his purchases of firearms, camping equipment and other items.\\n\\nAn ex-girlfriend, Alicia Artist, who dated Livelsberger from 2018 to 2019 and from 2020 to about 2022, told CNN on Saturday he had been depressed while they were together.\\n\\n“He would tell me he had depression. Like, ‘We can’t hang out today; I’m too depressed today,’” Arritt told CNN. “He had a lot of inner strength, and he would just push through it.”\\n\\nLivelsberger suffered concussions, but it’s not clear how many, and also had back surgeries in 2018 and 2019 relating to injuries he suffered during his military service, she said.\\n\\nThe AP reported that Livelsberger spoke of injuries, pain and exhaustion in texts to Arritt while they were dating, at one point writing: “My life has been a personal hell for the last year … It’s refreshing to have such a nice person come along.”\\n\\nUS officials familiar with Livelsberger’s military records told CNN he had been diagnosed with depression last year but had not been assessed to be a risk of violence or suicide.\\n\\nAn active-duty US Army Green Beret, Livelsberger was on leave from his base in Germany at the time of the blast – a combination of fireworks, gas tanks and camping fuel in the bed of the vehicle detonated by a device controlled by the driver, sources told CNN. According to law enforcement, he shot and killed himself in the driver’s seat shortly before the explosive in the trunk of the Tesla detonated.\\n\\nLivelsberger’s body was so badly burned, authorities identified him through charred identification cards and partial tattoos visible on his body. Law enforcement officials officially confirmed Friday it was Livelsberger’s body.\\n\\nPolitical views and ‘personal grievances’\\n\\nInvestigators fanned out after the incident, interviewing his family and friends and digging into phones and computers for clues. Livelsberger’s social media presence was sparse and, at the time of the explosion, contained few if any references to politics.\\n\\nA family member and former Army colleague described him as a highly decorated combat veteran whose background in special forces and explosives seemed at odds with a blast which relied, in part, on fireworks.\\n\\nAnd, they said, Livelsberger had a strong love of country – particularly the president-elect.\\n\\n“When President Trump was in office, (Livelsberger) would comment on his Facebook page about the things President Trump had said or done or how he’s helping the military,” the relative, who asked not to be named, told CNN. “Matt had a lot of respect for Mr. Trump – he just loved the guy.”\\n\\nLivelsberger was not affiliated with a political party, according to the Colorado secretary of state voter registration database.\\n\\nIn the first letter released Friday by police, he wrote before the incident he needed to “cleanse” his mind of the “brothers I’ve lost” and relieve himself of “the burden of the lives I took.”\\n\\nSpencer Evans, the special agent in charge of the FBI’s Las Vegas division, said the incident appeared to be “a tragic case of suicide involving a heavily decorated combat veteran who was struggling with PTSD and other issues.”\\n\\nEvans said “other family issues or personal grievances in his own life … may have been contributing factors” in the man’s actions in Las Vegas. “It’s evident that the subject considered, planned and thoughtfully prepared for this act alone,” he added.\\n\\n“It’s not lost on us that it’s in front of … the Trump building, that it’s a Tesla vehicle,” Evans said at a news conference Thursday. “But we don’t have information at this point that definitively tells us, or suggests, it was because of this particular ideology.”\\n\\nThe first of Livelsberger’s letters shared by police Friday show he supported President-elect Donald Trump, Elon Musk and Robert F. Kennedy Jr., and thought the country was “terminally ill and headed towards collapse.”\\n\\nThe day before the blast, Livelsberger appears to have sent an email to some online media outlets saying he was in possession of a “massive VBIED,” or vehicle-borne improvised explosive device, and was armed, according to a copy reviewed by CNN.\\n\\nLaw enforcement has reviewed the message and examined where the email originated and believe it was written by Livelsberger, a law enforcement official familiar with the investigation confirmed to CNN. The email expressed conspiratorial concerns about government agencies “tracking” him and suggested he had planned to travel to the US-Mexico border. The writing CNN reviewed did not make any reference to the president-elect, Trump Hotel in Las Vegas or Tesla.\\n\\nTwo deadly attacks\\n\\nThe Las Vegas explosion bore some striking similarities to a deadly attack in New Orleans earlier the same morning, when a driver with a US military background plowed a rented pickup truck into a crowd celebrating New Year’s on Bourbon Street, killing 14 people. Both perpetrators used the company called Turo to rent their vehicles.\\n\\n“Both of the subjects served at Fort Bragg, North Carolina,” said Kevin McMahill, sheriff of the Las Vegas Metropolitan Police Department, at a Thursday news conference, in reference to the military base now known as Fort Liberty. “What we do know about that is it’s a very large military base, and we have no record that they served in the same unit or even at the same years at Fort Bragg.”\\n\\nMcMahill added both men served in Afghanistan in 2009, though there are no indications they served in the same unit or province.\\n\\nLaw enforcement analysts assessed there is no connection between the incidents in Las Vegas and New Orleans, a law enforcement source familiar with the latest intelligence assessment told CNN.\\n\\nDecorated military service\\n\\nA fellow member of the Green Berets who served with Livelsberger in Afghanistan said a key focus of their mission was to dismantle a network of Taliban-aligned forces who had been detonating car bombs in and around Kabul in an effort to destabilize the government.\\n\\nThe former colleague, who asked not to be identified, said their unit was often tasked with keeping a crucial highway clear of improvised explosive devices.\\n\\n“They would just be set up all along that highway and it seemed like – especially towards the tail end of the deployment – a lot of guys were getting struck,” he said. “Luckily, our unit was never struck, but other units that colocated with us got struck by IEDs.”\\n\\nThe fellow soldier, who had kept in touch with Livelsberger since their deployment, said he didn’t know whether the explosion of the Cybertruck was in any way inspired by the kind of attacks so common a feature of the unit’s mission.\\n\\nThe military colleague said he was shocked by the incident in Las Vegas, especially given Livelsberger’s impressive credentials: a Green Beret with a background in communications, IT and tactical unmanned aerial vehicles. Livelsberger also steadily advanced his rank in the military to team sergeant, the second-in-command to the captain in the special-forces detachment – a position he held until recently, the fellow soldier said.\\n\\n“You don’t have to be a genius to say, this guy’s going to have his pick of options for career field when he gets out,” the soldier said.\\n\\nLivelsberger was an Army Special Forces operations master sergeant, a senior enlisted rank, according to four US officials. He was on active duty in Germany with the 10th Special Forces Group but was on leave at the time of the incident, three officials said.\\n\\nLivelsberger’s relative, who said he hadn’t spoken with him in at least a decade but saw updates of his life through Facebook posts, remembered Livelsberger as an intelligent and popular student in high school.\\n\\n“He played most of the usual sports and was often the captain of the team,” he said.\\n\\nThe relative said Livelsberger wanted to be in the special forces from a young age and was very successful in his career, which included several tours in Afghanistan.\\n\\n“If he really wanted to hurt people, he could have hurt a lot of people,” he said. “But that is not in his nature, it was never in his nature.”\\n\\nLivelsberger’s military colleague described him as a “bighearted” member of the unit who procured toys for Afghan kids and helped build a doghouse for a stray dog adopted as a pet on the base.\\n\\n“Even in a place like Afghanistan, where one’s heart can be hardened by the nature of the mission, he never seemed to go down that path and always seemed to have his humanity very much in place,” the fellow soldier said.\\n\\nHis former military colleague told CNN he’d stayed in occasional touch with Livelsberger since the end of their deployment and even sent a gift when he became a father in April last year. Livelsberger’s second wife, who he married in 2022, sent the colleague a thank-you letter, he said.\\n\\nShe did not respond to requests for comment from CNN.\\n\\nThe fellow soldier said his friend had never indicated he was struggling – either during their deployment to Afghanistan, where they experienced combat, or afterward.\\n\\n“It just makes me really sad to know that maybe something was going on with Matt and none of us knew,” he said, after briefly choking up. “We all would have obviously reached out and done anything we could to help him.”\\n\\nEditor’s Note: This story was updated to include information on Livelsberger’s military records and other details.', 'top_image': 'https://media.cnn.com/api/v1/images/stellar/prod/gettyimages-2192082666.jpg?c=16x9&q=w_800,c_fill', 'entities': [{'id': '070e5a57-61c5-4cc1-9ee7-382802aea70a', 'name': 'Afghanistan', 'entity_type': 'location', 'locations': []}, {'id': '0f4d7ab1-f255-4020-8a0e-2945ff91307d', 'name': 'FBI', 'entity_type': 'organization', 'locations': []}, {'id': '0fdedf05-90ed-40b9-a85e-7b34c92761ae', 'name': 'President Trump', 'entity_type': 'person', 'locations': []}, {'id': '10f3ce66-71e7-426e-b1b1-d55c05ac0c76', 'name': 'Las Vegas Metropolitan Police Department', 'entity_type': 'organization', 'locations': []}, {'id': '10f47b59-2d8f-452a-8c7a-87df58dc12f8', 'name': 'Livels', 'entity_type': 'person', 'locations': []}, {'id': '1d664578-7062-4e50-96a5-58bb4a57f0a3', 'name': 'Fort Bragg', 'entity_type': 'location', 'locations': []}, {'id': '2d4463db-4ea7-4c6b-af36-4dc3ee9a3039', 'name': 'Matt', 'entity_type': 'person', 'locations': []}, {'id': '392c1bae-493f-49e6-b825-789f9d72843a', 'name': 'special forces', 'entity_type': 'organization', 'locations': []}, {'id': '4c6e4192-dff2-458f-a001-0a7a9153c5fe', 'name': 'specialforces detachment', 'entity_type': 'organization', 'locations': []}, {'id': '4d120529-9230-4dc9-817a-52f842a75916', 'name': '10th Special Forces Group', 'entity_type': 'organization', 'locations': []}, {'id': '51ba4134-f321-42db-8ac6-2f16706ecbb8', 'name': 'Colorado', 'entity_type': 'location', 'locations': []}, {'id': '523e0702-eeba-46c0-bdc3-27824e2122ce', 'name': 'Facebook', 'entity_type': 'organization', 'locations': []}, {'id': '56792747-7433-40d5-80c7-6049211c2aa8', 'name': 'Tesla', 'entity_type': 'organization', 'locations': []}, {'id': '5fc03f0e-579e-4427-a632-9122bae2f4ea', 'name': 'Army', 'entity_type': 'organization', 'locations': []}, {'id': '61d35dc9-60d2-4564-96cf-70dae019bfec', 'name': 'law enforcement', 'entity_type': 'organization', 'locations': []}, {'id': '6612ea01-d64e-404a-8fd4-dc388c63dba2', 'name': 'Germany', 'entity_type': 'location', 'locations': []}, {'id': '6960d289-d6f3-4d55-a4e7-daa17efd61dc', 'name': 'Livelsberger', 'entity_type': 'person', 'locations': []}, {'id': '725d2980-489c-4047-8396-d73d950ef353', 'name': 'ources', 'entity_type': 'person', 'locations': []}, {'id': '826607e6-473b-4931-8b7e-8e7d9cbb912f', 'name': 'CNN', 'entity_type': 'organization', 'locations': []}, {'id': '83bcce7e-c8e5-47f6-9d88-80386d3c0ee9', 'name': 'North Carolina', 'entity_type': 'location', 'locations': []}, {'id': '9022aaa4-18dc-402f-a5ae-946f7f8cf0d4', 'name': 'Turo', 'entity_type': 'organization', 'locations': []}, {'id': '92c1fc23-2c6c-4c4f-9175-ef52622d8df9', 'name': 'Fort Liberty', 'entity_type': 'location', 'locations': []}, {'id': '941c68f0-3355-4492-8b99-158497bf7a24', 'name': 'Matthew Alan', 'entity_type': 'person', 'locations': []}, {'id': '9970feab-4e14-447d-8db1-d9d1637f4090', 'name': 'Las Vegas', 'entity_type': 'location', 'locations': []}, {'id': '9c1bbf5b-fdd8-426b-9ff7-45658f705064', 'name': 'Colorado Secretary of State', 'entity_type': 'organization', 'locations': []}, {'id': 'a376a785-1dce-4051-87c9-e8508cbdb2de', 'name': 'Talibanaligned forces', 'entity_type': 'organization', 'locations': []}, {'id': 'ab1bb3d4-6d4a-45f7-b2f7-94583eacc35a', 'name': 'Green Beret', 'entity_type': 'organization', 'locations': []}, {'id': 'af4d24a1-ff44-4735-b47b-09e07d734ae0', 'name': 'McMahill', 'entity_type': 'person', 'locations': []}, {'id': 'b65c9776-c1d0-499b-8d22-7e5047438fc0', 'name': 'rces', 'entity_type': 'organization', 'locations': []}, {'id': 'b84d8d20-c5e3-46c5-8c07-669a01d9439f', 'name': 'Livelsbe', 'entity_type': 'person', 'locations': []}, {'id': 'b8d2cf47-6a8c-41ec-8773-368a64b3c252', 'name': 'Spencer Evans', 'entity_type': 'person', 'locations': []}, {'id': 'b978ab7c-2492-42e9-bcb1-cc34c75ca5fb', 'name': 'Matthew Alan Livelsberger', 'entity_type': 'person', 'locations': []}, {'id': 'c02242f0-b6d1-4f37-b810-7502c7a2dd05', 'name': 'US Army', 'entity_type': 'organization', 'locations': []}, {'id': 'c8ba6849-65b0-41d7-a6ac-d9da1aa59b43', 'name': 'US military', 'entity_type': 'organization', 'locations': []}, {'id': 'd5e54174-c7e5-4e2e-a5f2-68fd70346158', 'name': 'Kevin McMahill', 'entity_type': 'person', 'locations': []}, {'id': 'd70e2d13-18b4-4553-9c25-2ddc97e682f2', 'name': 'Kabul', 'entity_type': 'location', 'locations': []}, {'id': 'e00ddc80-ff4a-426a-af87-bac818a94468', 'name': 'Bourbon Street', 'entity_type': 'location', 'locations': []}, {'id': 'e4980f17-1cd6-4461-9479-e0673f95809c', 'name': 'Green Berets', 'entity_type': 'organization', 'locations': []}, {'id': 'ef135f74-a81a-4ba4-8c16-2da3f0f29ede', 'name': 'berger', 'entity_type': 'person', 'locations': []}, {'id': 'f36307ad-a462-4628-b227-10a5c0a56943', 'name': 'rger', 'entity_type': 'person', 'locations': []}, {'id': 'fa215ad1-18f0-406b-a2a6-bc300de97fa2', 'name': 'Army Special Forces', 'entity_type': 'organization', 'locations': []}], 'tags': [], 'evaluation': {'thematic_locations': None, 'content_id': '5a1aae26-13c0-4252-ab7f-7b6a2f7db91c', 'sociocultural_interest': 7, 'regional_political_impact': 3, 'regional_economic_impact': 2, 'event_subtype': 'Explosion', 'rhetoric': 'neutral', 'id': 'c885e8bc-b394-4f1c-8673-0a10a5b3dccf', 'global_political_impact': 2, 'global_economic_impact': 1, 'event_type': 'Other', 'categories': ['Politics', 'Crime', 'Technology']}}\n",
      "{'id': '5dbde33d-9257-49b0-aeba-647a2921d056', 'url': 'https://www.dw.com/en/elon-musk/t-63587027', 'title': 'Elon Musk – DW', 'source': 'DW', 'insertion_date': '2025-01-31T16:28:37.766542+00:00', 'text_content': 'The owner of Tesla, SpaceX and the social media site formally known as Twitter invested millions into the 2024 presidential campaign of Donald Trump. Now he seems to have set his sights on politics in Germany and Europe.', 'top_image': None, 'entities': [{'id': '1e5020f7-ba10-441a-bbf1-a3ae1100db0d', 'name': 'Donald Trump', 'entity_type': 'person', 'locations': []}, {'id': '38f82143-49e4-49d2-9995-845af8923abb', 'name': 'Twitter', 'entity_type': 'organization', 'locations': []}, {'id': '5d775982-c6bc-4b9a-a934-90fdbb592366', 'name': 'Tesla SpaceX', 'entity_type': 'organization', 'locations': []}, {'id': '6612ea01-d64e-404a-8fd4-dc388c63dba2', 'name': 'Germany', 'entity_type': 'location', 'locations': []}, {'id': '9d532597-f5ff-406a-8720-7c7677f5a900', 'name': 'Europe', 'entity_type': 'geopolitical_entity', 'locations': []}, {'id': 'a9520f4f-3ad8-4429-a2e3-e3e0d7f16281', 'name': 'DW', 'entity_type': 'organization', 'locations': []}, {'id': 'bde48215-2f3e-4e97-b51e-6e4796154107', 'name': 'Elon Musk', 'entity_type': 'person', 'locations': []}], 'tags': [{'id': '620a10d4-5b64-4d16-8efc-bd0cae954c82', 'name': 'anecdotal'}], 'evaluation': {'thematic_locations': None, 'content_id': '5dbde33d-9257-49b0-aeba-647a2921d056', 'sociocultural_interest': 5, 'regional_political_impact': 4, 'regional_economic_impact': 3, 'event_subtype': 'Political donations and influence', 'rhetoric': 'neutral', 'id': 'eb4de37f-79f5-47da-bb5a-23f543b3391c', 'global_political_impact': 3, 'global_economic_impact': 2, 'event_type': 'Politics', 'categories': ['Politics', 'Business', 'Technology']}}\n",
      "{'id': '6bf4ee09-caf7-40ae-a71b-4d541ed3d4e1', 'url': 'https://www.cnn.com/2025/01/31/sport/ufc-dana-white-bryce-mitchell-spt-intl/index.html', 'title': 'Bryce Mitchell: UFC president Dana White denounces fighter who made pro-Adolf Hitler comments', 'source': 'CNN', 'insertion_date': '2025-01-31T16:12:19.950714+00:00', 'text_content': 'UFC president Dana White has slammed American fighter Bryce Mitchell after the 30-year-old made several antisemitic, homophobic and transphobic comments during a podcast in which he also praised Adolf Hitler.\\n\\nWhite appeared visibly angry when speaking to reporters on Thursday, as he addressed the comments made by Mitchell.\\n\\n“I’ve heard a lot of dumb and ignorant sh*t in my day, but this one is probably the worst,” White said, on behalf of the UFC. “When you talk about Hitler, he was responsible for the death of six million Jews and he tried to completely eliminate a race of people.”\\n\\nHe added: “Hitler is one of the most disgusting and evil human beings to ever walk the face of the Earth, and anyone that even tries to take an opposing position is a moron.\\n\\n“That’s the problem with the internet and social media. You provide a platform for a lot of dumb and ignorant people.”\\n\\nHowever, despite saying he was “beyond disgusted” by Mitchell’s comments, White confirmed the UFC would not punish the fighter, citing “free speech.”\\n\\n“That’s the beautiful thing about this business, for all of you that hate Bryce Mitchell, you get to see him hopefully get his ass whooped on global television,” White added.\\n\\nCNN has reached out to Mitchell for a response to White’s comments.\\n\\nMitchell, who has fought in the UFC since 2018 and won his last bout in December, made the comments in the first episode of his new podcast.\\n\\nIn a long, rambling podcast, the fighter – known as “Thug Nasty” – called Hitler a “good guy” and made a series of homophobic and antisemitic remarks explaining his beliefs to his co-host that Hitler was actually fighting for Germany’s people. He also denied the Holocaust was real.\\n\\n“I honestly think Hitler was a good guy based on my own research – not my public education, indoctrination. I really do think before Hitler got on meth, he was a guy I’d go fishing with,” he said.\\n\\nAt least one of his sponsors, a clothing brand called The Regenaissance, has already announced that it has withdrawn its affiliation with the fighter.', 'top_image': None, 'entities': [{'id': '0fa49a24-2c2f-4753-9643-25e36c2f607d', 'name': 'Dana White', 'entity_type': 'person', 'locations': []}, {'id': '44f984cf-75ed-44bd-ad74-e8ea3c5b5fa0', 'name': 'White', 'entity_type': 'person', 'locations': []}, {'id': '6612ea01-d64e-404a-8fd4-dc388c63dba2', 'name': 'Germany', 'entity_type': 'location', 'locations': []}, {'id': '6d5c45f1-60a2-40c1-992e-16b67c7ecc55', 'name': 'UFC', 'entity_type': 'organization', 'locations': []}, {'id': '81a8443c-5d6b-4f0f-b473-f2846b241523', 'name': 'Bryce Mitchell', 'entity_type': 'person', 'locations': []}, {'id': '826607e6-473b-4931-8b7e-8e7d9cbb912f', 'name': 'CNN', 'entity_type': 'organization', 'locations': []}, {'id': 'bc1fdae3-57ab-4e32-b63d-992ddbd4ca5f', 'name': 'Adolf Hitler', 'entity_type': 'person', 'locations': []}, {'id': 'c8b5e1f1-fffb-47cb-a82e-f6a1307f7d1d', 'name': 'Hitler', 'entity_type': 'person', 'locations': []}, {'id': 'cb5973ba-9f89-426c-b0aa-76dfce301768', 'name': 'Mitchell', 'entity_type': 'person', 'locations': []}, {'id': 'd95377eb-62d0-441a-a430-69a793aa4c5e', 'name': 'The Regenaissance', 'entity_type': 'organization', 'locations': []}, {'id': 'f1075e7b-4a9b-449d-9a0e-d2618d4709f2', 'name': 'Earth', 'entity_type': 'geopolitical_entity', 'locations': []}], 'tags': [], 'evaluation': {'thematic_locations': None, 'content_id': '6bf4ee09-caf7-40ae-a71b-4d541ed3d4e1', 'sociocultural_interest': 7, 'regional_political_impact': 3, 'regional_economic_impact': 1, 'event_subtype': 'Controversial statement by public figure', 'rhetoric': 'Aggressive', 'id': '18b5bbec-bf65-4071-9e01-eed852c4649b', 'global_political_impact': 2, 'global_economic_impact': 1, 'event_type': 'Social', 'categories': ['Sports', 'Politics', 'Social Issues']}}\n",
      "{'id': '79fb21b9-f8e6-4d99-b5f8-d76176d65258', 'url': 'https://www.bbc.com/news/articles/c86wnx174q8o', 'title': 'Person in exploded Cybertruck outside Trump hotel in Las Vegas believed to be elite soldier', 'source': 'BBC News', 'insertion_date': '2025-01-02T20:01:18.062153+00:00', 'text_content': 'Man in exploded Cybertruck was elite soldier and shot himself before blast\\n\\nThe man who drove a Tesla Cybertruck that exploded outside the Trump Hotel in Las Vegas was an active-duty US special forces soldier and shot himself dead before the blast, officials have said.\\n\\nLas Vegas police have identified Matthew Alan Livelsberger, 37, of Colorado Springs, Colorado, as the driver of the vehicle, which he rented more than 800 miles away and drove to the Nevada hotel on the morning of the blast.\\n\\nMr Livelsberger\\'s cause of death was suicide from a self-inflicted gunshot wound, according to the Clark County Coroner\\'s office.\\n\\nSeven people were injured when the vehicle - filled with fuel canisters and firework mortars - exploded on New Year\\'s Day. Officials said all injuries were minor.\\n\\nMr Livelsberger drove the Cybertruck to the city on Wednesday morning, less than two hours before the detonation, police have said. Parked in front of the hotel near a glass entrance, the vehicle started to smoke, then exploded.\\n\\nLas Vegas authorities said the Cybertruck helped contain the explosion, sending it vertical rather than outward. The nearby glass doors and windows of the hotel did not shatter in the blast.\\n\\nAuthorities said they have yet to determine any motive behind the incident.\\n\\n\"I\\'m comfortable calling it a suicide with a bombing that occurred immediately after,\" Sheriff McMahill said during Thursday\\'s press conference.\\n\\nThe sheriff said investigators recovered a military ID, a passport, two semi-automatic pistols, fireworks, an iPhone, a smart watch and several credit cards in Mr Livelsberger\\'s name from the charred vehicle.\\n\\nThe body in the vehicle was burnt beyond recognition and was found with a self-inflicted gunshot wound to the head, Las Vegas Sheriff Kevin McMahill said on Thursday.\\n\\nMr McMahill said they found two tattoos on the driver\\'s remains matching ones Livelsberger had.\\n\\nThe Colorado Springs native rented the Cybertruck on 28 December in Denver.\\n\\nPolice were able to track his movements using a number of photographs on the drive from Denver, Colorado to Las Vegas, Nevada, along with Tesla\\'s charging technology that helped map where he stopped along the route. He was the only one seen driving the vehicle.\\n\\nMr McMahill said there are several parallels - but no definitive link - between the suspects in the incident in Las Vegas and a truck attack in New Orleans that left 14 dead, which both took place on New Year\\'s Day.\\n\\nBoth suspects served at Fort Bragg in North Carolina, although there is no record they served in the same unit or were there at the same time. They also both served in Afghanistan in 2009, but there is no evidence they were in the same region or unit.\\n\\nBoth also used rental company Turo for the vehicles involved in the incidents, Mr McMahill said.\\n\\n\"We don\\'t believe there\\'s any further threat from this subject or anybody associated to him here in Las Vegas,\" he said.\\n\\nMr Livelsberger had decades of experience with the US military, having served in both the Army and National Guard. He was a decorated Special Forces Intelligence Sergeant.\\n\\nHe was serving in Germany but on approved leave at the time of the incident.\\n\\nMr Livelsberger\\'s father told the BBC\\'s news partner CBS that his son was in Colorado to see his wife and eight-month-old daughter.\\n\\nHe said he last spoke to his son at Christmas and that everything seemed normal.', 'top_image': 'https://ichef.bbci.co.uk/news/1024/branded_news/e194/live/a65a70b0-c9a0-11ef-9fd6-0be88a764111.jpg', 'entities': [{'id': '1c726147-00fb-4ac9-84a3-467b3e481d13', 'name': 'Sheriff Kevin McMahill', 'entity_type': 'person', 'locations': []}, {'id': '28ae1018-260d-4a39-b442-d3354f9eee97', 'name': 'BBCs', 'entity_type': 'organization', 'locations': []}, {'id': '51ba4134-f321-42db-8ac6-2f16706ecbb8', 'name': 'Colorado', 'entity_type': 'location', 'locations': []}, {'id': '5fc03f0e-579e-4427-a632-9122bae2f4ea', 'name': 'Army', 'entity_type': 'organization', 'locations': []}, {'id': '6612ea01-d64e-404a-8fd4-dc388c63dba2', 'name': 'Germany', 'entity_type': 'location', 'locations': []}, {'id': '6960d289-d6f3-4d55-a4e7-daa17efd61dc', 'name': 'Livelsberger', 'entity_type': 'person', 'locations': []}, {'id': '84d9c947-1f74-4843-af33-e12729aa5f4b', 'name': 'National Guard', 'entity_type': 'organization', 'locations': []}, {'id': '90f8b2d9-d1ed-454d-92e5-8b02915b4edc', 'name': 'Las Vega', 'entity_type': 'location', 'locations': []}, {'id': '9970feab-4e14-447d-8db1-d9d1637f4090', 'name': 'Las Vegas', 'entity_type': 'location', 'locations': []}, {'id': 'b4ce2d2f-c518-40ad-897c-15a2b0c132f0', 'name': 'CBS', 'entity_type': 'organization', 'locations': []}, {'id': 'b978ab7c-2492-42e9-bcb1-cc34c75ca5fb', 'name': 'Matthew Alan Livelsberger', 'entity_type': 'person', 'locations': []}, {'id': 'c02242f0-b6d1-4f37-b810-7502c7a2dd05', 'name': 'US Army', 'entity_type': 'organization', 'locations': []}, {'id': 'c8ba6849-65b0-41d7-a6ac-d9da1aa59b43', 'name': 'US military', 'entity_type': 'organization', 'locations': []}, {'id': 'd5e54174-c7e5-4e2e-a5f2-68fd70346158', 'name': 'Kevin McMahill', 'entity_type': 'person', 'locations': []}, {'id': 'fc4474b5-faa2-4aba-b2c9-ec737bf60111', 'name': 'Livelsbergers', 'entity_type': 'person', 'locations': []}], 'tags': [], 'evaluation': {'thematic_locations': None, 'content_id': '79fb21b9-f8e6-4d99-b5f8-d76176d65258', 'sociocultural_interest': 5, 'regional_political_impact': 2, 'regional_economic_impact': 1, 'event_subtype': 'Vehicle Explosion', 'rhetoric': 'neutral', 'id': '49e2f308-b3c1-4a0a-abbd-643cbc729b5b', 'global_political_impact': 1, 'global_economic_impact': 1, 'event_type': 'Other', 'categories': ['Politics', 'News']}}\n",
      "{'id': 'bc8c9610-b25e-4419-8420-9d839820e08b', 'url': 'https://www.bbc.com/news/articles/c36edjp1l9ko', 'title': 'China EV maker BYD closes in on Tesla as sales jump', 'source': 'BBC News', 'insertion_date': '2025-01-02T02:31:05.803887+00:00', 'text_content': 'Tesla sales fell last year for the first time in more than a decade, as demand faltered and rivals gained pace.\\n\\nThe company, led by billionaire Elon Musk, delivered almost 1.79 million cars last year, down about 1% from 1.8 million in 2023.\\n\\nThis comes despite the company lowering prices repeatedly last year in a bid to woo buyers and hold on to its rank as the world\\'s top-selling maker of electric vehicles (EVs).\\n\\nChina\\'s BYD, however, looks set to close the gap after reporting 1.76 million EV sales in 2024.\\n\\nThe Shenzhen-based firm\\'s total vehicle sales jumped more than 41% in 2024, year-on-year, to more than 4.2 million.\\n\\nThe surge was powered mainly by sales of its hybrid cars.\\n\\nBYD sells 90% of its cars in China, where it has been extending its lead over foreign brands including Volkswagen and Toyota.\\n\\nIt has benefited from a rise in car sales in its home market, as intense competition drove down prices and government subsidies encouraged consumers to replace their old cars with EVs or other more fuel efficient options.\\n\\nTesla also counts China as a key market, but it has lost ground to rivals as the price war rumbles on.\\n\\nDemand for electric vehicles has also softened in other regions, such as the US and Europe, creating challenges for many carmakers.\\n\\nVolkswagen, Ford and General Motors were among the companies that cut sales targets or decided to delay investments in EV technology last year.\\n\\nAt Tesla, its boss Elon Musk has blamed weaker sales in part on the jump in borrowing costs since 2022, which has made it more expensive to buy.\\n\\nAnalysts have also pointed to increased competition and questions about the brand, as Musk deepens his political involvement, which has been described as controversial.\\n\\nTesla sales slumped in the first half of 2024 before starting to pick up again. In the final three months of 2024, it delivered about 495,000 cars, up 2% year-on-year and a quarterly record.\\n\\nBut the firm\\'s share price, which surged more than 60% last year, fell 5% in morning trade, as the figure came in below the roughly 500,000 forecast by analysts.\\n\\n\"If you don\\'t meet expectations, it can be pretty tough out there,\" said Christopher Carey of the Carnegie Investment Council.\\n\\nLast month, Honda and Nissan confirmed that they were holding merger talks, as the two Japanese firms seek to fight back against competition from the Chinese car industry.\\n\\nEarlier in the month, the boss of car making giant Stellantis, Carlos Tavares, quit with immediate effect following a boardroom clash.\\n\\nHis abrupt exit from the company - which owns brands including Vauxhall, Jeep, Fiat, Peugeot and Chrysler - came two months after Stellantis issued a profit warning.\\n\\nSome governments have stepped in to protect domestic companies.\\n\\nIn October, European Union tariffs of up to 45.3% on imports of Chinese-made EVs came into force across the trade bloc.\\n\\nThe US has also imposed a 100% duty on EVs from China and President-elect Donald Trump is expected to impose further tariffs on imports.\\n\\nBYD has still been expanding its foothold in emerging economies.\\n\\nBut last month, it faced a setback in Brazil - its largest overseas market - with authorities halting the construction of a BYD factory, saying workers lived in conditions comparable to \"slavery\".\\n\\nBYD said it had cut ties with the construction firm involved and remained committed to a \"full compliance with Brazilian legislation\".', 'top_image': 'https://ichef.bbci.co.uk/news/1024/branded_news/b366/live/e61b9ea0-c8aa-11ef-acf5-f3701e2ee0fc.jpg', 'entities': [{'id': '1aff6e9f-c165-452a-9226-4f313c73bd95', 'name': 'forei', 'entity_type': 'organization', 'locations': []}, {'id': '3510f4f4-43bb-406e-91df-6f8c7e7221b0', 'name': 'Peugeot', 'entity_type': 'organization', 'locations': []}, {'id': '4c2fa2ec-3cd4-4553-9904-bc78d0182028', 'name': 'BYD', 'entity_type': 'organization', 'locations': []}, {'id': '56792747-7433-40d5-80c7-6049211c2aa8', 'name': 'Tesla', 'entity_type': 'organization', 'locations': []}, {'id': '6612ea01-d64e-404a-8fd4-dc388c63dba2', 'name': 'Germany', 'entity_type': 'location', 'locations': []}, {'id': '783ea41e-8dba-4789-9ccb-67ca546fcb0f', 'name': 'Shenzhenbased', 'entity_type': 'location', 'locations': []}, {'id': '7cd4cb8f-3467-41ff-906d-2c26645caa33', 'name': 'Fiat', 'entity_type': 'organization', 'locations': []}, {'id': '8dbacc8e-5725-4bfc-acd2-2372b4d30801', 'name': 'BYDs', 'entity_type': 'organization', 'locations': []}, {'id': '93338fb6-d61a-4838-a896-638e4a29b0fc', 'name': 'Vauxhall', 'entity_type': 'organization', 'locations': []}, {'id': '9933ee81-cd9f-4179-98e4-349869827762', 'name': 'Teslas', 'entity_type': 'organization', 'locations': []}, {'id': '9ccf4e05-a911-404c-a976-7b70fcd8ec73', 'name': 'IG Metall', 'entity_type': 'organization', 'locations': []}, {'id': 'a6a4d996-4739-45b2-93cc-c9c47e25bf53', 'name': 'Western markets', 'entity_type': 'location', 'locations': []}, {'id': 'b0026b4b-6f01-48b6-85b2-984b20a0875d', 'name': 'Carlos Tavares', 'entity_type': 'person', 'locations': []}, {'id': 'c48eb071-9fdb-4493-8fa6-db3cc1be6e0b', 'name': 'Stellantis', 'entity_type': 'organization', 'locations': []}, {'id': 'ddf24d7b-92d2-441a-84c0-8fc49ad1eeae', 'name': 'Chrysler', 'entity_type': 'organization', 'locations': []}, {'id': 'ffa329a0-c840-45b7-8110-f8d622c09f8a', 'name': 'Elon Musks', 'entity_type': 'person', 'locations': []}], 'tags': [], 'evaluation': {'thematic_locations': None, 'content_id': 'bc8c9610-b25e-4419-8420-9d839820e08b', 'sociocultural_interest': 5, 'regional_political_impact': 6, 'regional_economic_impact': 7, 'event_subtype': 'Sales Growth', 'rhetoric': 'neutral', 'id': 'b2097010-3baf-43be-ae6c-d47402e3354f', 'global_political_impact': 2, 'global_economic_impact': 4, 'event_type': 'Economic', 'categories': ['Business', 'Technology', 'Automotive']}}\n"
     ]
    }
   ],
   "source": [
    "from opol.main import OPOL\n",
    "\n",
    "opol = OPOL(mode=\"local\", api_key=\"\")\n",
    "\n",
    "\n",
    "articles = opol.articles.by_entity(\"Germany\")\n",
    "for article in articles:\n",
    "    print(article) "
   ]
  },
  {
   "cell_type": "code",
   "execution_count": null,
   "metadata": {},
   "outputs": [],
   "source": []
  },
  {
   "cell_type": "code",
   "execution_count": null,
   "metadata": {},
   "outputs": [],
   "source": []
  }
 ],
 "metadata": {
  "kernelspec": {
   "display_name": "Python 3",
   "language": "python",
   "name": "python3"
  },
  "language_info": {
   "codemirror_mode": {
    "name": "ipython",
    "version": 3
   },
   "file_extension": ".py",
   "mimetype": "text/x-python",
   "name": "python",
   "nbconvert_exporter": "python",
   "pygments_lexer": "ipython3",
   "version": "3.10.12"
  }
 },
 "nbformat": 4,
 "nbformat_minor": 2
}
