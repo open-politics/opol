{
 "cells": [
  {
   "cell_type": "markdown",
   "metadata": {},
   "source": [
    "# OPOL Python Client"
   ]
  },
  {
   "cell_type": "markdown",
   "metadata": {},
   "source": [
    "### Initialization"
   ]
  },
  {
   "cell_type": "markdown",
   "metadata": {},
   "source": [
    "#### Setup Client"
   ]
  },
  {
   "cell_type": "code",
   "execution_count": 22,
   "metadata": {},
   "outputs": [],
   "source": [
    "from opol.main import OPOL\n",
    "import os\n",
    "from pprint import pprint\n",
    "\n",
    "# 1. Setup client (using opol.io)\n",
    "# opol = OPOL(api_key=\"\")\n",
    "\n",
    "# Alternatively - if you have booted the opol stack on your machine (no api key needed)\n",
    "# Read opol/opol/stack/Readme.md for more information\n",
    "opol = OPOL(mode=\"local\")\n",
    "\n",
    "\n"
   ]
  },
  {
   "cell_type": "markdown",
   "metadata": {},
   "source": [
    "#### Articles"
   ]
  },
  {
   "cell_type": "code",
   "execution_count": null,
   "metadata": {},
   "outputs": [],
   "source": [
    "from opol.main import OPOL\n",
    "import os\n",
    "from pprint import pprint\n",
    "\n",
    "opol = OPOL(mode=\"local\", api_key=\"\")\n",
    "\n",
    "# Class submethods default to search\n",
    "print(opol.articles.get_articles(query=\"apple\"))\n",
    "print(opol.articles(\"New York\", pretty=True))    \n",
    "\n",
    "# Use date\n",
    "articles = opol.articles.get_articles(\"Berlin\", limit=100)\n",
    "\n",
    "entities = [article['title'] for article in articles[:3]]\n",
    "entity_ids = [article['id'] for article in articles]\n",
    "print(entities)\n",
    "print(entity_ids)\n",
    "\n",
    "geojson = opol.geo.by_id(entity_ids)\n",
    "print(geojson[0]['features'])\n"
   ]
  },
  {
   "cell_type": "code",
   "execution_count": null,
   "metadata": {},
   "outputs": [],
   "source": [
    "from opol.main import OPOL\n",
    "import os\n",
    "from pprint import pprint\n",
    "\n",
    "opol = OPOL(mode=\"local\", api_key=\"\")\n",
    "\n",
    "articles = opol.articles.by_entity(\"Trump\", limit=100)\n",
    "\n",
    "for article in articles:\n",
    "    print(article.keys())\n",
    "    print(f\"{article['title']}:\" + article['insertion_date'] + \"\\n\")"
   ]
  },
  {
   "cell_type": "markdown",
   "metadata": {},
   "source": [
    "#### Geojson & Geocoding"
   ]
  },
  {
   "cell_type": "code",
   "execution_count": null,
   "metadata": {},
   "outputs": [
    {
     "name": "stdout",
     "output_type": "stream",
     "text": [
      "{'type': 'FeatureCollection', 'features': []}\n",
      "[13.407032, 52.524932]\n"
     ]
    }
   ],
   "source": [
    "from opol.main import OPOL\n",
    "import os\n",
    "\n",
    "# set env variable\n",
    "os.environ['OPOL_MODE'] = \"remote\"\n",
    "\n",
    "opol = OPOL(api_key=\"\")\n",
    "\n",
    "geojson = opol.geo.json_by_event(\"Politics\", limit=5)\n",
    "print(geojson)\n",
    "\n",
    "berlin_coords = opol.geo.code(\"Berlin\")[\"coordinates\"]\n",
    "print(berlin_coords)\n",
    "\n",
    "\n"
   ]
  },
  {
   "cell_type": "markdown",
   "metadata": {},
   "source": [
    "#### Polls"
   ]
  },
  {
   "cell_type": "code",
   "execution_count": null,
   "metadata": {},
   "outputs": [],
   "source": [
    "from opol.main import OPOL\n",
    "from pprint import pprint\n",
    "\n",
    "opol = OPOL(mode=\"local\", api_key=\"\")\n",
    "\n",
    "# polls = opol.scraping.polls(\"Germany\")\n",
    "\n",
    "# for pol in polls:\n",
    "#     if pol['party'] == \"GRÜNE\" or pol['party'] == \"CDU/CSU\":\n",
    "#         print(pol)\n",
    "\n",
    "\n",
    "# Latest Polls for each Insittute\n",
    "# polls = opol.scraping.polls(\"Germany\", latest=True)\n",
    "\n",
    "# for poll in polls:\n",
    "#     print(poll)\n",
    "\n",
    "ranked_polls = opol.scraping.polls(\"Germany\", summarised=True)\n",
    "\n",
    "for poll in ranked_polls:\n",
    "    print(poll['party'] + \": \" + str(poll['percentage']) + f\" ({poll['change_since_election']})\") \n",
    "\n"
   ]
  },
  {
   "cell_type": "markdown",
   "metadata": {},
   "source": [
    "### Legislation"
   ]
  },
  {
   "cell_type": "code",
   "execution_count": null,
   "metadata": {},
   "outputs": [],
   "source": [
    "from opol.main import OPOL\n",
    "\n",
    "opol = OPOL(api_key=\"\")\n",
    "\n",
    "events = opol.scraping.legislation(\"Germany\")\n",
    "\n",
    "\n",
    "for event in events[:1]:\n",
    "    print(event)\n",
    "        "
   ]
  },
  {
   "cell_type": "markdown",
   "metadata": {},
   "source": [
    "### Economics"
   ]
  },
  {
   "cell_type": "code",
   "execution_count": null,
   "metadata": {},
   "outputs": [],
   "source": [
    "from opol.main import OPOL\n",
    "\n",
    "opol = OPOL(mode=\"local\")\n",
    "\n",
    "all_events = opol.scraping.economic(\"Germany\")\n",
    "\n",
    "gdp_events = opol.scraping.economic(\"Germany\", indicators=[\"GDP\"])\n",
    "\n",
    "\n",
    "for event in all_events[:3]:\n",
    "    print(event)\n",
    "\n",
    "print(\"*\"*20)\n",
    "\n",
    "for event in gdp_events[:3]:\n",
    "    print(event)"
   ]
  },
  {
   "cell_type": "markdown",
   "metadata": {},
   "source": [
    "### LLM Classifications (custom llm wrapper)"
   ]
  },
  {
   "cell_type": "code",
   "execution_count": null,
   "metadata": {},
   "outputs": [],
   "source": [
    "from opol.api.classification import Classification\n",
    "from opol.main import OPOL\n",
    "import os\n",
    "\n",
    "# Initialize the OPOL client in local mode\n",
    "opol = OPOL(mode=\"local\")\n",
    "\n",
    "# Set the API key for accessing the Google Generative AI service\n",
    "# api_key = \"\"\n",
    "api_key = os.environ[\"GOOGLE_API_KEY\"]\n",
    "\n",
    "\n",
    "# Initialize the classification service with the specified provider, model, and API key\n",
    "xclass = opol.classification(provider=\"Google\", model_name=\"models/gemini-1.5-flash-latest\", llm_api_key=api_key)\n",
    "\n",
    "# Example 1: Classify user preference for frozen dairy products on a scale of 1 to 10\n",
    "user_input = \"I love ice cream\"\n",
    "prompt = \"On a 1-10 scale how much the user likes frozen dairy products\"\n",
    "int_value = xclass.classify(\"int\", prompt, user_input)\n",
    "print(\"User preference rating:\", int_value)\n",
    "\n",
    "# Example 2: Extract keywords from a given text\n",
    "text = \"In the madagascan wilds the biggest wild animal is the elephant in the globe finance trade is offshore jusrisdiction diffusion\"\n",
    "instruction = \"The topics relevant to this text. Only semantically relevant to a content system\"\n",
    "keywords = xclass.classify(\"List[str]\", instruction, text)\n",
    "print(\"Extracted keywords:\", keywords)\n",
    "\n",
    "# Example 3: Use a Pydantic model to classify request types with keywords and relevance level\n",
    "from pydantic import BaseModel, Field\n",
    "from typing import List\n",
    "\n",
    "class RequestType(BaseModel):\n",
    "    \"\"\"\n",
    "    This is the main classification for incoming request types.\n",
    "    \"\"\"\n",
    "    keywords: List[str] = Field(description=\"The keywords relevant to this text. Only semantically relevant to a content system\")\n",
    "    relevance_level: int = Field(description=\"On a 1-10 scale how much the content is relevant\")\n",
    "\n",
    "# Classify the request using the Pydantic model\n",
    "request = xclass.classify(RequestType, instruction, text)\n",
    "print(\"Classified request:\", request)\n",
    "\n",
    "## Results\n",
    "# User preference rating: 10\n",
    "# Extracted keywords: ['madagascan', 'wilds', 'biggest', 'animal', 'elephant']\n",
    "# Classified request: keywords=['madagascar', 'wildlife', 'elephant'] relevance_level=8\n"
   ]
  },
  {
   "cell_type": "code",
   "execution_count": null,
   "metadata": {},
   "outputs": [],
   "source": [
    "from opol.main import OPOL\n",
    "import os\n",
    "from pprint import pprint\n",
    "\n",
    "# 1. Setup client (using opol.io)\n",
    "# opol = OPOL(api_key=\"\")\n",
    "\n",
    "# Alternatively - if you have booted the opol stack on your machine (no api key needed)\n",
    "# Read opol/opol/stack/Readme.md for more information\n",
    "opol = OPOL(mode=\"local\")\n",
    "\n",
    "\n",
    "for poll in opol.scraping.polls(\"Germany\", latest=True):\n",
    "    print(poll)\n",
    "\n"
   ]
  },
  {
   "cell_type": "markdown",
   "metadata": {},
   "source": [
    "### Search Engine (Google, Bing, Wikipedia, Axiv)"
   ]
  },
  {
   "cell_type": "code",
   "execution_count": null,
   "metadata": {},
   "outputs": [],
   "source": [
    "from opol.main import OPOL\n",
    "from pydantic import BaseModel\n",
    "from typing import List, Optional\n",
    "\n",
    "opol = OPOL(mode=\"local\")\n",
    "\n",
    "articles = opol.search.engine(\"Latest news from Gaza\", engine=\"wikipedia\")\n",
    "\n",
    "\n",
    "for article in articles[:2]:\n",
    "    print(article)\n",
    "\n",
    "print(\"*\"*20)\n",
    "images = opol.search.image(\"Latest news from Gaza\")\n",
    "\n",
    "for image in images[:6]:\n",
    "    print(image)\n",
    "\n"
   ]
  },
  {
   "cell_type": "markdown",
   "metadata": {},
   "source": [
    "### Embeddings"
   ]
  },
  {
   "cell_type": "code",
   "execution_count": null,
   "metadata": {},
   "outputs": [],
   "source": [
    "from opol.main import OPOL\n",
    "\n",
    "opol = OPOL(mode=\"local\")\n",
    "\n",
    "embeddings = opol.embeddings(\"What is the capital of Germany?\")\n",
    "\n",
    "print(embeddings)\n",
    "print(len(embeddings))\n"
   ]
  },
  {
   "cell_type": "code",
   "execution_count": null,
   "metadata": {},
   "outputs": [],
   "source": []
  },
  {
   "cell_type": "markdown",
   "metadata": {},
   "source": [
    "## Full Flow"
   ]
  },
  {
   "cell_type": "code",
   "execution_count": null,
   "metadata": {},
   "outputs": [],
   "source": []
  },
  {
   "cell_type": "code",
   "execution_count": null,
   "metadata": {},
   "outputs": [],
   "source": [
    "from opol.main import OPOL\n",
    "from pydantic import BaseModel, Field\n",
    "from typing import List\n",
    "import os\n",
    "import numpy as np\n",
    "\n",
    "opol = OPOL(mode=\"local\")\n",
    "api_key = \"\"\n",
    "fastclass = opol.classification(provider=\"Google\", model_name=\"models/gemini-1.5-flash-latest\", llm_api_key=api_key)\n",
    "\n",
    "\n",
    "class ExpandedQuery(BaseModel):\n",
    "    \"\"\"\n",
    "    As a political intelligence analyst, your task is to generate a set of three queries that delve deeper into geopolitical dynamics, building upon the initial query and the insights gathered from its search results.\n",
    "\n",
    "    For instance, if the original query was \"Middle East\", your output should follow this format:\n",
    "\n",
    "    [\n",
    "        \"Current political situation in the Middle East\",\n",
    "        \"Recent military & conflict developments in the Middle East\",\n",
    "        \"Economic assessments of the Middle East\"\n",
    "    ]\n",
    "\n",
    "\n",
    "    Aim to create queries that progressively explore more specific geopolitical factors, implications, or related topics concerning the initial query. The goal is to anticipate the analyst's potential information needs and guide them towards a more comprehensive understanding of the geopolitical landscape.\n",
    "    Please match the language of the response to the analyst's language.\n",
    "    Also return the timeframe you want to search in, depending on the generality of the issue.\n",
    "    Very detailed and specified queries are likely to inquire more recent content.  \n",
    "    \n",
    "    Return three queries.\n",
    "    Return one timeframe, which is a literal of: [ day, month, year ]\n",
    "\n",
    "    \"\"\"\n",
    "    similar: List[str] = None\n",
    "    time_range: str = None\n",
    "\n",
    "query = \"Current developments in Gaza?\"\n",
    "instruction = \"\"\n",
    "expanded_query = fastclass.classify(ExpandedQuery, instruction, query)\n",
    "\n",
    "all_articles = []\n",
    "\n",
    "# Collect articles (max 50)\n",
    "counter = 0\n",
    "for query in expanded_query.similar:\n",
    "    articles = opol.search.engine(query, time_range=expanded_query.time_range)\n",
    "    for article in articles:\n",
    "        if counter > 70:\n",
    "            break\n",
    "        all_articles.append(article)\n",
    "        counter += 1\n",
    "\n",
    "# Rerank articles based on similarity to the query\n",
    "query_embedding = opol.embeddings(query)\n",
    "ranked_articles = opol.embeddings.rerank_articles(query_embedding, all_articles, text_field=\"title\")\n",
    "\n",
    "# Print top 2 ranked articles\n",
    "for article in ranked_articles[:15]:\n",
    "    for field in article[0]:\n",
    "        print(field)"
   ]
  },
  {
   "cell_type": "markdown",
   "metadata": {},
   "source": [
    "## Scrape a url\n"
   ]
  },
  {
   "cell_type": "code",
   "execution_count": null,
   "metadata": {},
   "outputs": [],
   "source": [
    "from opol.main import OPOL\n",
    "\n",
    "opol = OPOL(mode=\"local\")\n",
    "\n",
    "url = \"https://www.dw.com/en//en/pakistans-punjab-imposes-activity-bans-amid-intense-smog/a-70755328\"\n",
    "scraped_url = opol.scraping.url(url)\n",
    "\n",
    "print(scraped_url)"
   ]
  },
  {
   "cell_type": "code",
   "execution_count": null,
   "metadata": {},
   "outputs": [],
   "source": []
  },
  {
   "cell_type": "code",
   "execution_count": null,
   "metadata": {},
   "outputs": [],
   "source": [
    "from opol.main import OPOL\n",
    "\n",
    "opol = OPOL(mode=\"remote\", api_key=\"\")\n",
    "\n",
    "geocode = opol.geo.code(\"Berlin\")\n",
    "\n",
    "print(geocode)\n",
    "articles = opol.search.engine(\"Latest news from Gaza\", engine=\"wikipedia\")\n",
    "\n",
    "for article in articles:\n",
    "    print(article)\n",
    "    "
   ]
  },
  {
   "cell_type": "code",
   "execution_count": null,
   "metadata": {},
   "outputs": [],
   "source": []
  },
  {
   "cell_type": "code",
   "execution_count": null,
   "metadata": {},
   "outputs": [],
   "source": []
  },
  {
   "cell_type": "code",
   "execution_count": null,
   "metadata": {},
   "outputs": [],
   "source": [
    "import requests\n",
    "import regex as r\n",
    "from bs4 import BeautifulSoup\n",
    "\n",
    "def fetch_party_and_percentage():\n",
    "    # Define the Wikipedia API URL for the opensearch endpoint\n",
    "    search_url = \"https://en.wikipedia.org/w/api.php\"\n",
    "    search_params = {\n",
    "        \"action\": \"opensearch\",\n",
    "        \"search\": \"2021 German federal election\",\n",
    "        \"limit\": 1,\n",
    "        \"namespace\": 0,\n",
    "        \"format\": \"json\"\n",
    "    }\n",
    "    \n",
    "    # Perform the search\n",
    "    response = requests.get(search_url, params=search_params)\n",
    "    search_results = response.json()\n",
    "    \n",
    "    # Extract the page URL from the search results\n",
    "    if search_results and len(search_results) > 3 and search_results[3]:\n",
    "        page_url = search_results[3][0]\n",
    "    else:\n",
    "        raise Exception(\"Wikipedia page not found.\")\n",
    "    \n",
    "    # Fetch the page content\n",
    "    page_response = requests.get(page_url)\n",
    "    soup = BeautifulSoup(page_response.content, 'html.parser')\n",
    "    \n",
    "    # Find the election results table\n",
    "    table = soup.find('table', {'class': 'infobox'})\n",
    "    if not table:\n",
    "        raise Exception(\"Election results table not found.\")\n",
    "    \n",
    "    # Initialize a dictionary to hold data\n",
    "    data = {\n",
    "        'Party': [],\n",
    "        'Percentage': []\n",
    "    }\n",
    "    \n",
    "    # Iterate over table rows to extract data\n",
    "    rows = table.find_all('tr')\n",
    "    for row in rows:\n",
    "        header = row.find('th')\n",
    "        data_cells = row.find_all('td')\n",
    "        if header and data_cells:\n",
    "            key = header.get_text(strip=True)\n",
    "            if key in data:\n",
    "                for cell in data_cells:\n",
    "                    text = cell.get_text(strip=True)\n",
    "                    if text:\n",
    "                        if key == 'Percentage':\n",
    "                            text = r.search(r'\\d{1,2}\\.\\d{1,2}', text).group(0)\n",
    "                        data[key].append(text)\n",
    "    \n",
    "    # Print the extracted data\n",
    "    for party, percentage in zip(data['Party'], data['Percentage']):\n",
    "        print(f\"Party: {party}, Percentage: {percentage}\")\n",
    "\n",
    "fetch_party_and_percentage()\n",
    "\n",
    "from opol.main import OPOL\n",
    "from pprint import pprint\n",
    "\n",
    "opol = OPOL(mode=\"local\", api_key=\"\")\n",
    "\n",
    "# polls = opol.scraping.polls(\"Germany\")\n",
    "\n",
    "# for pol in polls:\n",
    "#     if pol['party'] == \"GRÜNE\" or pol['party'] == \"CDU/CSU\":\n",
    "#         print(pol)\n",
    "\n",
    "\n",
    "# Latest Polls for each Insittute\n",
    "# polls = opol.scraping.polls(\"Germany\", latest=True)\n",
    "\n",
    "# for poll in polls:\n",
    "#     print(poll)\n",
    "\n",
    "ranked_polls = opol.scraping.polls(\"Germany\", summarised=True)\n",
    "\n",
    "for poll in ranked_polls:\n",
    "    print(poll['party'] + \": \" + str(poll['percentage']) + f\" ({poll['change_since_election']})\") \n",
    "\n"
   ]
  },
  {
   "cell_type": "code",
   "execution_count": 4,
   "metadata": {},
   "outputs": [
    {
     "name": "stdout",
     "output_type": "stream",
     "text": [
      "Ingesting single document...\n",
      "Response: message='Documents ingested successfully.' content_ids=['fccef182-f0df-4dbd-95a6-cebf74a5b20a'] contents=None\n",
      "\n",
      "Ingesting multiple documents...\n",
      "Response: message='Documents ingested successfully.' content_ids=['fb8e3f1c-8e03-4e0a-aafc-58b9eb713c0c', 'f98fecb2-82ba-41f1-aec4-799c1229a307'] contents=None\n",
      "[Document(id='fb8e3f1c-8e03-4e0a-aafc-58b9eb713c0c', url='https://example.com/article2', title='Example Article 2', content_type='article', source=None, text_content='Test content 2', insertion_date='2025-01-10T17:30:51.052560+00:00', summary='Test summary 2', meta_summary=None, media_details=None), Document(id='f98fecb2-82ba-41f1-aec4-799c1229a307', url='https://example.com/article3', title='Example Article 3', content_type='article', source=None, text_content='Test content 3', insertion_date='2025-01-10T17:30:51.056195+00:00', summary='Test summary 3', meta_summary=None, media_details=None)]\n",
      "********************\n",
      "id='fb8e3f1c-8e03-4e0a-aafc-58b9eb713c0c' url='https://example.com/article2' title='Example Article 2' content_type='article' source=None text_content='Test content 2' insertion_date='2025-01-10T17:30:51.052560+00:00' summary='Test summary 2' meta_summary=None media_details=None\n",
      "id='f98fecb2-82ba-41f1-aec4-799c1229a307' url='https://example.com/article3' title='Example Article 3' content_type='article' source=None text_content='Test content 3' insertion_date='2025-01-10T17:30:51.056195+00:00' summary='Test summary 3' meta_summary=None media_details=None\n",
      "{'message': 'Document deleted successfully.', 'id': 'fb8e3f1c-8e03-4e0a-aafc-58b9eb713c0c'}\n",
      "{'message': 'Document deleted successfully.', 'id': 'f98fecb2-82ba-41f1-aec4-799c1229a307'}\n"
     ]
    }
   ],
   "source": [
    "from opol.main import OPOL\n",
    "from opol.api.documents import Document\n",
    "\n",
    "def test_documents():\n",
    "    opol = OPOL(mode=\"local\")\n",
    "    docs = opol.documents\n",
    "\n",
    "    # Test single document ingestion\n",
    "    doc = Document(\n",
    "        url=\"https://example.com/article1\",\n",
    "        title=\"Example Article 1\",\n",
    "        text_content=\"Test content 1\",\n",
    "        summary=\"Test summary 1\"\n",
    "    )\n",
    "    print(\"Ingesting single document...\")\n",
    "    response = docs.ingest(doc, overwrite=True)\n",
    "    print(f\"Response: {response}\\n\")\n",
    "\n",
    "    # Test multiple document ingestion\n",
    "    multi_docs = [\n",
    "        Document(\n",
    "            url=\"https://example.com/article2\",\n",
    "            title=\"Example Article 2\", \n",
    "            text_content=\"Test content 2\",\n",
    "            summary=\"Test summary 2\"\n",
    "        ),\n",
    "        Document(\n",
    "            url=\"https://example.com/article3\",\n",
    "            title=\"Example Article 3\",\n",
    "            text_content=\"Test content 3\", \n",
    "            summary=\"Test summary 3\"\n",
    "        )\n",
    "    ]\n",
    "    print(\"Ingesting multiple documents...\")\n",
    "    response = docs.ingest(multi_docs, overwrite=True)\n",
    "    print(f\"Response: {response}\")\n",
    "\n",
    "    read_articles = docs.read(ids=response.content_ids)\n",
    "    print(read_articles)\n",
    "    print(\"*\"*20)\n",
    "    for article in read_articles:\n",
    "        print(article)\n",
    "\n",
    "    for article in read_articles:\n",
    "        delete_response = docs.delete(id=article.id)\n",
    "        print(delete_response)\n",
    "\n",
    "if __name__ == \"__main__\":\n",
    "    test_documents()"
   ]
  },
  {
   "cell_type": "code",
   "execution_count": 1,
   "metadata": {},
   "outputs": [
    {
     "name": "stderr",
     "output_type": "stream",
     "text": [
      "/home/jimvincentwagner/.local/lib/python3.10/site-packages/tqdm/auto.py:21: TqdmWarning: IProgress not found. Please update jupyter and ipywidgets. See https://ipywidgets.readthedocs.io/en/stable/user_install.html\n",
      "  from .autonotebook import tqdm as notebook_tqdm\n"
     ]
    },
    {
     "name": "stdout",
     "output_type": "stream",
     "text": [
      "{'id': '00227eb4-d8f2-4769-9c7b-cdcbddc5e100', 'url': 'https://www.dw.com/en//en/new-covid-xec-variant-what-you-need-to-know/a-70266402', 'title': 'New COVID XEC variant: What you need to know', 'source': None, 'insertion_date': '2024-11-27T05:28:13.228112', 'text_content': 'KP.3 was the \"predominant\" SARS-CoV-2 variant in the US, and was also spreading in Europe. It has now joined with another variant and has become XEC. Over the European summer, the number of COVID-19 infections rose again, with test positivity for SARS-CoV-2 above 20%. Globally, test positivity was about 10%. The US also saw a rise in hospitalizations, apparently after a wave of COVID-19 infections in Singapore. Now, as we in the northern hemisphere move into autumn and winter, there is concern about\\xa0two\\xa0new variants. The first one is known as KP.3 and its sub-variant KP.3.1.1. The second is XEC, a\\xa0\"recombinant\"\\xa0variant which is related to KP.3. KP.3 is\\xa0considered a global Variant of Concern (VOC) in the US\\xa0by The US Center for Disease Control and Prevention (CDC) because KP.3 was \"predominant\" there in August. VOCs may spread more easily or cause more severe illness. It\\'s important to note that KP.3 is not a global VOC, only in the US. The CDC recommended people get an updated 2024–2025 COVID-19 vaccine. KP.3 is one of a group of SARS-CoV-2 variants known as FLiRT variants.\\xa0SARS-CoV-2 is the base virus that causes COVID, the illness. As the name KP.3 suggests, there are also KP.1 and KP.2 sub-variants. KP.3 became predominant\\xa0because it is more infectious than other circulating sub-variants. KP.3 and other FLiRT variants descend\\xa0from the omicron variant of\\xa0SARS-CoV-2. Now, think of a family tree: The KP variants are children of the JN.1 variant. And JN.1 is, in turn, a child of omicron variant BA.2.86. This is important to know because of all the major COVID\\xa0variants, omicron remains dominant, globally. You\\'ll recall, other major variants are alpha, beta, delta, and gamma. But omicron keeps evolving or mutating into new variants and sub-variants. XEC the sub-variant is believed to have formed when KP.3\\xa0joined with\\xa0KS.1.1. But we don\\'t know for sure. As Francois Balloux, Professor of Computational Systems Biology and Director at the UCL Genetics Institute, UK, told the Science Media Centre, \"XEC is a likely recombinant between the subvariants KP.3.3 and KS.1.1.\" XEC has been reported as being first detected in Germany in June. But it is yet to appear on the Robert Koch Institute\\'s\\xa0COVID Dashboard. As a spokesperson from the Robert Koch Institute implied via email, XEC may never appear on the dashboard because it is \"impossible to predict how individual variants will spread.\" Since June, the number of XEC cases in Germany has been in double-digits, but the spokesperson did not specify further. The RKI\\'s doesn\\'t even mention XEC on its weekly assessment, published September 18, 2024. The focus in Germany remains on KP.3.1.1, which is dominant and considered more infectious than previous variants. In an interview with the DPA news agency, virologist Sandra Ciesek said it was no surprise that KP.3.1.1 was more infectious. \"The virus keeps mutating in search of new ways to infect people […] but that doesn\\'t mean that the variant causes a more severe illness,\" said Ciesek, who\\'s based at the German Center for Infection Research. Up to September 3, KP.3.1.1 remains the most dominent variant, according to data provided by GISAID, the Global Initiative on Sharing All Influenza Data, and presented by outbreak.info. Paul Hunter, professor of medicine at the University of East Anglia, UK, told DW\\xa0in August, \"FLiRT\" was a \"silly\" acronym \"but it\\'s stuck,\" he said, and it\\'s one with a serious meaning. FLiRT denominates mutations at key sites in that all-important spike protein — the one that allows the virus to spike and attach to a living cell, infect it, and then replicate itself and spread. FLiRT variants appear to have a potential to be more dangerous than previous versions of SARS-CoV-2. A paper published in July 2024 suggested that KP.2 had \"a greater ability to evade vaccine-induced immunity,\" and that it reproduced more effectively than its \"parent\" variant JN.1. As for KP.3, the CDC said its sub-variant KP.3.1.1 was probably responsible for 30-40% of COVID-19 clinical specimens in mid-August 2024 in the US. That suggested a rapid increase from a rate of 20-26% two weeks earlier, at the start of the same month. The risks associated with KP.3.1.1 are particularly acute for people older than 65 years of age and children younger than 2 years, said the CDC. Edited by: Fred Schwaller Select sources: Tools to explore COVID-19 and SARS-CoV-2 data with variant surveillance reports, data on cases and deaths, and a standardized, searchable research library https://outbreak.info/ COVID-19 Variant Update via the US Centers for Disease Control and Prevention and the Infectious Diseases Society of America https://www.idsociety.org/covid-19-real-time-learning-network/diagnostics/covid-19-variant-update/', 'top_image': 'https://static.dw.com/image/70133598_6.jpg', 'entities': [{'id': '77f95ffa-aee5-4411-8215-6403a460f78b', 'name': 'KP.3', 'entity_type': 'MISC', 'locations': []}, {'id': '7e624e65-2775-41d0-806d-7172d7292876', 'name': 'United States', 'entity_type': 'LOC', 'locations': []}, {'id': '12699d7c-36d0-4a9e-a4ba-a4d16eea6ce7', 'name': 'Europe', 'entity_type': 'LOC', 'locations': []}, {'id': '3ea9e29f-f2b0-4833-bc79-abdf9c663f5e', 'name': 'XEC', 'entity_type': 'ORG', 'locations': []}, {'id': 'f28630a2-2d8a-4358-a95d-e6f6b174b2ec', 'name': 'European', 'entity_type': 'MISC', 'locations': []}, {'id': '5c9b085c-394d-4e9e-b545-fd664dc903f8', 'name': 'COVID-19', 'entity_type': 'MISC', 'locations': []}, {'id': '7906c29f-04c6-4c9b-b295-f9b4e9c128f4', 'name': 'Singapore', 'entity_type': 'LOC', 'locations': []}, {'id': '77bb3a7e-517c-4108-b3a4-928a9538370a', 'name': 'XEC', 'entity_type': 'MISC', 'locations': []}, {'id': 'b9aa11f5-1aa9-44e6-a406-a0678f397682', 'name': 'Variant of Concern', 'entity_type': 'ORG', 'locations': []}, {'id': '5c9243bb-7cf5-4d00-b64d-e5cc133ac173', 'name': 'VOC', 'entity_type': 'ORG', 'locations': []}, {'id': 'dabbead0-ffff-4328-831f-0fec750f9827', 'name': 'The US Center for Disease Control and Prevention', 'entity_type': 'ORG', 'locations': []}, {'id': '40674881-edc3-47a2-a2ae-559beb59cbd4', 'name': 'CDC', 'entity_type': 'ORG', 'locations': []}, {'id': 'fd32aaba-2fa4-4e80-ae7f-330ca4d74dc5', 'name': 'SARS-CoV-2', 'entity_type': 'MISC', 'locations': []}, {'id': '03dda5f7-9359-4a82-a21d-31ace5aa96ad', 'name': 'COVID', 'entity_type': 'MISC', 'locations': []}, {'id': '2384fb98-7d5b-4429-a58a-deba20dc6c9a', 'name': 'JN.1', 'entity_type': 'MISC', 'locations': []}, {'id': 'ee3aecba-27e6-412e-82b6-e9726703f312', 'name': 'KS.1.1', 'entity_type': 'MISC', 'locations': []}, {'id': '861383d7-29fd-44f2-ba22-565d0bca4766', 'name': 'Francois Balloux', 'entity_type': 'PER', 'locations': []}, {'id': '9c4f1db7-fe69-4d4b-a188-79e16273bb66', 'name': 'UCL Genetics Institute', 'entity_type': 'ORG', 'locations': []}, {'id': 'b4f7d360-c325-43ef-b587-056d5696d254', 'name': 'UK', 'entity_type': 'LOC', 'locations': []}, {'id': '12bfc7dd-fe47-4025-a039-79dfa1d9af7f', 'name': 'Science Media Centre', 'entity_type': 'ORG', 'locations': []}, {'id': '05590d82-2f1e-4e6c-bd02-047e9752635a', 'name': 'Germany', 'entity_type': 'LOC', 'locations': []}, {'id': 'e4ba0cb6-ec1c-483c-a081-c726757e33a2', 'name': 'Robert Koch Institute', 'entity_type': 'ORG', 'locations': []}, {'id': '41fed70a-f4fb-4800-80b4-9db9ad2a8b49', 'name': 'RKI', 'entity_type': 'ORG', 'locations': []}, {'id': 'd2adfdd5-db33-406c-8ff8-63ab19ded702', 'name': 'KP.3.1.1', 'entity_type': 'MISC', 'locations': []}, {'id': 'af057918-5343-405f-ae65-e19420997ad4', 'name': 'DPA', 'entity_type': 'ORG', 'locations': []}, {'id': '73726a97-4b8f-4ea2-8973-a5ee69ba4b84', 'name': 'Sandra Ciesek', 'entity_type': 'PER', 'locations': []}, {'id': 'cfc40f81-cf22-4d91-ab21-c24e1a1ade98', 'name': 'Ciesek', 'entity_type': 'PER', 'locations': []}, {'id': '46dbea40-1aa1-42bf-baef-bbdcef974b46', 'name': 'German Center for Infection Research', 'entity_type': 'ORG', 'locations': []}, {'id': '532b8e2f-aabd-46cd-a26e-f3a9670f4216', 'name': 'GISAID', 'entity_type': 'ORG', 'locations': []}, {'id': '866a0bed-5e5a-4c6b-8c26-ead124088b2c', 'name': 'Paul Hunter', 'entity_type': 'PER', 'locations': []}, {'id': 'c031effc-4dd8-40a9-8e75-3a310e71dae9', 'name': 'University of East Anglia', 'entity_type': 'ORG', 'locations': []}, {'id': '7d691edf-c905-4446-93ad-d46bcd5c1f9c', 'name': 'DW', 'entity_type': 'ORG', 'locations': []}, {'id': '97491755-0169-4a9e-9c14-b30a64093a71', 'name': 'FLiRT', 'entity_type': 'MISC', 'locations': []}, {'id': '94c4067c-7a56-40db-a9bb-93ccc37bc0ea', 'name': 'KP.2', 'entity_type': 'MISC', 'locations': []}, {'id': '20098daf-28ef-4411-847f-eccebe5ac714', 'name': 'Fred Schwaller Select', 'entity_type': 'ORG', 'locations': []}, {'id': '8bff893a-c889-414c-bde2-51ad73bb1bed', 'name': 'US Centers for Disease Control and Prevention', 'entity_type': 'ORG', 'locations': []}, {'id': '35e2bada-258f-4be6-bcac-9c06f9cf9dcc', 'name': 'Infectious Diseases Society of America', 'entity_type': 'ORG', 'locations': []}, {'id': '606d88bf-4aeb-46a3-abb6-f8fdd7d0e879', 'name': 'Europe', 'entity_type': 'location', 'locations': [{'name': 'Europe', 'location_type': 'location', 'coordinates': [13.404999732971191, 52.52000045776367]}]}, {'id': 'f05f8582-ca6d-4a76-9cb0-e9c69d120a80', 'name': 'Singapore', 'entity_type': 'location', 'locations': [{'name': 'Singapore', 'location_type': 'location', 'coordinates': [103.8012924194336, 1.3669229745864868]}]}, {'id': 'b5f50229-961c-4152-ba62-f8d8884ac324', 'name': 'Germany', 'entity_type': 'location', 'locations': [{'name': 'Germany', 'location_type': 'location', 'coordinates': [9.687095642089844, 50.970096588134766]}]}, {'id': '3e186368-1db6-45b8-b0e1-b8b5ac4d73d6', 'name': 'UK', 'entity_type': 'location', 'locations': [{'name': 'UK', 'location_type': 'location', 'coordinates': [-1.580325961112976, 52.66364288330078]}]}, {'id': 'ea8e467b-e3e2-43f4-a316-b69ab61c39fc', 'name': 'US', 'entity_type': 'location', 'locations': [{'name': 'US', 'location_type': 'location', 'coordinates': [-96.9992446899414, 39.71614074707031]}]}, {'id': 'b2b022aa-722f-467f-85e4-98d9c7b2956f', 'name': 'United States', 'entity_type': 'location', 'locations': [{'name': 'United States', 'location_type': 'location', 'coordinates': [-96.9992446899414, 39.71614074707031]}]}], 'tags': [{'id': '278a37a2-cd94-4fba-bca8-f475b1f23bf5', 'name': 'geocoded'}], 'evaluation': {'thematic_locations': None, 'content_id': '00227eb4-d8f2-4769-9c7b-cdcbddc5e100', 'sociocultural_interest': 7, 'regional_political_impact': 3, 'regional_economic_impact': 3, 'event_subtype': None, 'rhetoric': 'neutral', 'id': '7f37984e-2da0-4822-8eda-a99ff8a0e76f', 'global_political_impact': 2, 'global_economic_impact': 2, 'event_type': 'Other', 'categories': ['Health', 'Science']}}\n",
      "{'id': '00229785-7723-40d4-b9c0-80160450bad8', 'url': 'https://www.dw.com/en//en/german-birth-rate-drops-rapidly-new-report-says/a-70573468', 'title': 'German birth rate drops rapidly, new report says', 'source': 'dw', 'insertion_date': '2024-11-13T04:40:10.563095', 'text_content': 'Researchers said they have noticed a particularly sharp downward trend in eastern Germany. A new report estimates almost 80,000 fewer children were born in 2022 and 2023 than would have been expected. The\\xa0Ifo\\xa0Institute for Economic Research\\xa0said in a new report released Wednesday that\\xa0Germany is seeing a sharp decline in birth rates, with federal states in the east of the country the most affected. Researchers at\\xa0the leading economic think tank\\xa0cited a number of reasons behind the declining birth rate, including the COVID-19 pandemic and\\xa0the war in Ukraine. Additionally, high inflation has prompted \"young families to put off having children for the time being,\" said Ifo researcher Joachim\\xa0Ragnitz. \"Overall, almost 80,000 fewer children were born in 2022 and 2023 than would have been expected,\" Ragnitz said. Ragnitz is an expert on demographic change who studied the trend in eastern Germany.\\xa0He said that\\xa0the birth rate \"changed massively in the past three years.\" The brith rate,\\xa0or the\\xa0average number of children that are born to a woman over her lifetime,\\xa0has dropped from 1.58 children per woman in 2021 to 1.35 currently. In 2023,\\xa0693,000 children were born, which is almost\\xa013% less than children born in 2021. The study saw a\\xa0disproportionate decline in birth rate,\\xa017.5%,\\xa0in\\xa0eastern German states. Researchers stated that it was impossible to know whether the changes\\xa0were permanent or temporary changes in family planning. \"Politicians would be well advised to monitor these developments more closely, also in order to avoid possible wrong decisions when expanding daycare and schooling,\"\\xa0Ragnitz said. In the years from 2011 to 2016, Germany\\'s\\xa0fertility rate rose from 1.39 to 1.59 due to better overall conditions for families with children and immigration. In the western German states, 32.9% of the population have a migrant background —\\xa0which means that they have\\xa0either immigrated themselves or come from immigrant families.\\xa0The figure is 11.4% in eastern states. rm/wmr (Reuters, KNA, EPD)', 'top_image': 'https://static.dw.com/image/70177006_6.jpg', 'entities': [{'id': '5e5e54be-e274-4369-9013-3d3e8fbfabf3', 'name': 'German', 'entity_type': 'MISC', 'locations': []}, {'id': '05590d82-2f1e-4e6c-bd02-047e9752635a', 'name': 'Germany', 'entity_type': 'LOC', 'locations': []}, {'id': '468c3a24-10ce-40ce-a9ef-257c2edfe08d', 'name': 'Ifo Institute for Economic Research', 'entity_type': 'ORG', 'locations': []}, {'id': '5c9b085c-394d-4e9e-b545-fd664dc903f8', 'name': 'COVID-19', 'entity_type': 'MISC', 'locations': []}, {'id': '28a2f1fd-b61e-4360-a921-9c3a0db289db', 'name': 'Ukraine Conflict', 'entity_type': 'LOC', 'locations': []}, {'id': 'fd176f59-f1d3-43fc-b4a2-b5ba6637e067', 'name': 'Ifo', 'entity_type': 'ORG', 'locations': []}, {'id': 'e20ef5cd-fa4f-4208-b54c-855c6a573c82', 'name': 'Joachim Ragnitz', 'entity_type': 'PER', 'locations': []}, {'id': '7ae60881-8bc1-4290-aa58-351ffba514c6', 'name': 'Ragnitz', 'entity_type': 'PER', 'locations': []}, {'id': '2d8787bc-5c46-4ed9-b596-a468994955ba', 'name': 'Reuters', 'entity_type': 'ORG', 'locations': []}, {'id': '06e4f346-9f58-4623-83d3-9d396f727369', 'name': 'KNA', 'entity_type': 'ORG', 'locations': []}, {'id': 'a63315cb-6a63-499f-91c6-fe0a5262fb5f', 'name': 'EPD', 'entity_type': 'ORG', 'locations': []}, {'id': '56920139-02d4-4c4c-b8b5-9e1dc6213550', 'name': 'Ukraine', 'entity_type': 'location', 'locations': [{'name': 'Ukraine', 'location_type': 'location', 'coordinates': [32.64539337158203, 49.19245529174805]}]}, {'id': 'b5f50229-961c-4152-ba62-f8d8884ac324', 'name': 'Germany', 'entity_type': 'location', 'locations': [{'name': 'Germany', 'location_type': 'location', 'coordinates': [9.687095642089844, 50.970096588134766]}]}, {'id': 'e31da58b-07e4-4c1b-85ae-e05dc3b828e3', 'name': 'Ukraine Conflict', 'entity_type': 'location', 'locations': [{'name': 'Ukraine Conflict', 'location_type': 'location', 'coordinates': [32.64539337158203, 49.19245529174805]}]}], 'tags': [{'id': '278a37a2-cd94-4fba-bca8-f475b1f23bf5', 'name': 'geocoded'}], 'evaluation': {'thematic_locations': None, 'content_id': '00229785-7723-40d4-b9c0-80160450bad8', 'sociocultural_interest': 7, 'regional_political_impact': 6, 'regional_economic_impact': 7, 'event_subtype': 'Demographic Changes', 'rhetoric': 'neutral', 'id': 'b0f367c1-ee91-4c0b-8b9f-4c3535bf505d', 'global_political_impact': 3, 'global_economic_impact': 5, 'event_type': 'Social', 'categories': ['Demographics', 'Economy', 'Society']}}\n",
      "{'id': '0111a513-9240-4c78-85c9-b9ca2855da4c', 'url': 'https://www.dw.com/en/pakistan-solar-power-renewable-energy-power-grid-v2/a-70885544', 'title': 'Surprise solar surge in Pakistan shocks experts, and grid – DW – 11', 'source': None, 'insertion_date': '2024-11-27T16:00:13.834852', 'text_content': 'Pakistan has grown its solar energy capacity by an astounding amount in a remarkably short space of time. The shock surge has given residents the power to survive blackouts, but it threatens to disrupt the grid.\\n\\nA solar surge has reached new heights in Pakistan, sparking what some experts are calling one of the fastest solar revolutions in the world.\\n\\nThanks to cheap Chinese solar technology imports, Pakistan is expected to add an estimated 17 GW of solar power in 2024, which is more than a third of the country\\'s entire generating capacity.\\n\\nThe surge is \"probably the most extreme\" case \"that has happened in any country in the world with the speed that has happened,\" according to energy analyst Dave Jones, who tracks the global energy transition at think tank Ember in the UK.\\n\\nThis growth places Pakistan as one of the top installers of solar panels globally for 2024, in the company of much bigger, richer economies like China, the US and Germany, Jones\\' team found.\\n\\nCountrywide, consumers, businesses, and industries are rushing to tap into the cheap renewable power source as an alternative to the erratic and expensive state-provided, largely fossil-fuel-based energy.\\n\\nOver the course of 2024, Pakistan has become one of the top solar importers, alongside countries like the US and Germany Image: Afifa Nasarullah/DW\\n\\nPakistan\\'s unreliable power grid, compounded by under-supply and poor infrastructure, means that millions of people live in constant uncertainty. Many households around the country have also been crippled by soaring energy prices over the past three years, inflated by high oil and gas prices post Putin\\'s invasion of Ukraine, an over-investment in thermal power plants, and government subsidy cuts to meet International Monetary Fund loan conditions.\\n\\n\"It\\'s come to that point now that, for daytime electricity, it is a no-brainer for people in Pakistan to go out there and to be doing this on the scale that they\\'re doing it,\" Jones said.\\n\\nIt is unclear exactly how much of the total imported solar capacity will be installed in 2024, as government records cannot keep pace with the speed of the consumer-led transition. But for homes across the country, the energy switch is already making a difference.\\n\\nA lifesaver during heatwaves\\n\\nWhen Shafqat Hussain\\'s mom nearly died during a 28-hour power outage at their family home that coincided with a heatwave, he decided it was time to harness the power of the thing that almost cost his mother her life: The sun.\\n\\n\"There is no alternative in this country,\" said Hussain, who lives in central Islamabad with his three children, his wife, and his parents.\\n\\nHis mom\\'s experience — she spent two days in the hospital recovering from heatstroke after suffering inside on a scorching summer\\'s day without electricity — was the catalyst for him to install solar panels on his rooftop. His colleague recommended he buy from a local company that was importing the panels from China.\\n\\n\"When you don\\'t have any electricity, forget about the air conditioning. Your fans are not working. You don\\'t have refrigerators on. You don\\'t even have any cold water to drink,\" said Hussain, who described the electricity blackouts as continuously disruptive but especially concerning during summer months.\\n\\nHis family\\'s energy bill has since been slashed by about 80% and they haven\\'t endured a power outage since. They now revel in a newfound \"sense of safety,\" said Hussain.\\n\\nBlackouts during heatwaves can be dangerous for residents in Pakistan, with no access to fans, cold water or air conditioning Image: Fareed Khan/AP Photo/picture alliance\\n\\nShort-lived surge as grid suffers?\\n\\nThe boom puts Pakistan on a better pathway to achieve its goal of 60% renewable energy by 2030. But the mass solar upswing hasn\\'t been without complications.\\n\\nAs increasing numbers of people use solar power to meet their own energy needs during the day, the sudden drop in demand is causing problems for operators of the main national electricity grid.\\n\\n\"The way those power plants were planned and funded was to run a minimum amount of hours,\" said Jones. Because they\\'re no longer meeting those minimum hours, the electricity they do provide is becoming significantly more expensive for the remaining consumers, Jones explained.\\n\\n\"It\\'s also causing problems for balancing the grid more generally,\" he added, as operators are struggling to predict how much energy they will need to provide and when.\\n\\nJones warned that if the government perceives the consumer-led solar boom as too disruptive, it could cut the surge short. \"What really risks happening in Pakistan now is that you have a blanket ban on any more solar coming in,\" he said.\\n\\nNosediving cost of solar fuels Chinese solar exports\\n\\nPakistan\\'s solar revolution is only possible because of the plummeting cost of solar PV modules, which have reduced in price by 90% in the last 15 years alone. Most cheap solar panels are sold by China, the world\\'s number one manufacturer of solar PV modules.\\n\\nOver four decades, solar power has gone from being one of the most expensive, out-of-reach electricity sources to just about the cheapest in most places around the world.\\n\\nSolar panels have become so cheap in recent years, more people than ever can afford them Image: DW\\n\\nPakistan is not the only country tapping into the cost-saving clean alternative. Throughout 2024, Jones\\' team at Ember tracked high numbers of Chinese solar exports to Saudi Arabia, the Philippines, the United Arab Emirates, Thailand, South Africa and Oman.\\n\\n\"It is transformative and it\\'s affordable,\" said Azeem Azhar, author, tech entrepreneur, and founder of research group Exponential View, who likens the exponential drop in the cost of solar technology to the PC revolution of the 1980s.\\n\\n\"What we saw then was an expansion of computing across our economies and the democratization of that particular technology,\" said Azhar.\\n\\nThe next frontier in Pakistan\\'s energy transformation will be battery storage, predicts Azhar. While solar panels can generate power during the day, batteries will enable households to store energy for nighttime use.\\n\\n\"We haven\\'t yet got the price of batteries down far enough to rely on battery backup. But that will happen in the next few years. Batteries are really, really coming down in price,\" said Azhar.\\n\\nThis article was adapted from an episode of DW\\'s Living Planet podcast.\\n\\nListen to the audio version here.', 'top_image': None, 'entities': [{'id': 'eea36b96-ce91-48e6-9a41-6f553754e9d9', 'name': 'Dave Jones', 'entity_type': 'PER', 'locations': []}, {'id': 'b4f7d360-c325-43ef-b587-056d5696d254', 'name': 'UK', 'entity_type': 'LOC', 'locations': []}, {'id': '7e624e65-2775-41d0-806d-7172d7292876', 'name': 'United States', 'entity_type': 'LOC', 'locations': []}, {'id': '05590d82-2f1e-4e6c-bd02-047e9752635a', 'name': 'Germany', 'entity_type': 'LOC', 'locations': []}, {'id': '5c824e08-0a1a-445f-b120-0bd3d4c53ecf', 'name': 'Countrywide', 'entity_type': 'ORG', 'locations': []}, {'id': '128f13e1-8821-4103-b827-53a692a41bdc', 'name': 'Afifa Nasarullah', 'entity_type': 'ORG', 'locations': []}, {'id': '45113385-9bf8-415f-ab77-7dab732096e5', 'name': 'Putin', 'entity_type': 'PER', 'locations': []}, {'id': '28a2f1fd-b61e-4360-a921-9c3a0db289db', 'name': 'Ukraine Conflict', 'entity_type': 'LOC', 'locations': []}, {'id': '419e7659-3d45-45dd-b1a9-d18430615261', 'name': 'International Monetary Fund', 'entity_type': 'ORG', 'locations': []}, {'id': '9dc310fc-c041-43c6-882e-14e7f2391240', 'name': 'Jones', 'entity_type': 'PER', 'locations': []}, {'id': '22e6a462-6beb-4262-bc1f-153f604f6d19', 'name': 'Shafqat Hussain', 'entity_type': 'PER', 'locations': []}, {'id': '111a0ba3-3908-4425-8a88-842d5cbb1cb7', 'name': 'Hussain', 'entity_type': 'PER', 'locations': []}, {'id': 'e36c86e9-21fc-4743-886d-91a76d8f0b53', 'name': 'Islamabad', 'entity_type': 'LOC', 'locations': []}, {'id': 'a94fb792-044b-411b-a265-795ace99a784', 'name': 'China', 'entity_type': 'LOC', 'locations': []}, {'id': 'd328be18-1245-476f-8588-4a4905b60f43', 'name': 'Pakistan', 'entity_type': 'LOC', 'locations': []}, {'id': '59d912d5-dfc6-4a69-8644-c35e0a7ad530', 'name': 'Fareed Khan', 'entity_type': 'ORG', 'locations': []}, {'id': 'a051e712-91ea-4778-9c87-8a2638c1c105', 'name': 'Chinese', 'entity_type': 'MISC', 'locations': []}, {'id': '0cce5224-e640-492e-aa80-9a878119bacf', 'name': 'DW  Pakistan', 'entity_type': 'ORG', 'locations': []}, {'id': '6f789152-f0fe-410b-9f4c-90ed0717d4ea', 'name': \"Jones'\", 'entity_type': 'ORG', 'locations': []}, {'id': '57f46768-33f1-47c2-a9a2-4ee5283a17f7', 'name': 'Ember', 'entity_type': 'ORG', 'locations': []}, {'id': '18800e35-3f36-4e37-9e74-231e9ca74bbb', 'name': 'Saudi Arabia', 'entity_type': 'LOC', 'locations': []}, {'id': 'bd1996df-858a-44fe-92bf-f75f95c9c929', 'name': 'Philippines', 'entity_type': 'LOC', 'locations': []}, {'id': '33fae745-1602-478c-b883-a9dc652982c1', 'name': 'United Arab Emirates', 'entity_type': 'LOC', 'locations': []}, {'id': '78bd75e1-2c2a-4ea8-b78b-9a1a151f5b40', 'name': 'Thailand', 'entity_type': 'LOC', 'locations': []}, {'id': 'ace3dd5e-8054-489b-b75b-e84f8a1dd56a', 'name': 'South Africa', 'entity_type': 'LOC', 'locations': []}, {'id': '5e638113-94ff-4a49-8bc4-f18e37b497a0', 'name': 'Oman', 'entity_type': 'LOC', 'locations': []}, {'id': '8446cf48-9a11-4b08-8e77-ffbfa2ec21f4', 'name': 'Azeem Azhar', 'entity_type': 'PER', 'locations': []}, {'id': 'f81ec65f-0f06-4429-969f-d0fcf6b92045', 'name': 'Exponential View', 'entity_type': 'ORG', 'locations': []}, {'id': 'f4d03191-47de-40a9-b24b-f3e849c36ff1', 'name': 'PC', 'entity_type': 'ORG', 'locations': []}, {'id': '0b2026ae-26d7-4593-80c5-e7580c53dbff', 'name': 'Azhar', 'entity_type': 'PER', 'locations': []}, {'id': '7d691edf-c905-4446-93ad-d46bcd5c1f9c', 'name': 'DW', 'entity_type': 'ORG', 'locations': []}, {'id': '0f1eb06a-8f8a-4ca2-8807-b9eaece702a3', 'name': 'Living Planet', 'entity_type': 'MISC', 'locations': []}, {'id': 'b5f50229-961c-4152-ba62-f8d8884ac324', 'name': 'Germany', 'entity_type': 'location', 'locations': [{'name': 'Germany', 'location_type': 'location', 'coordinates': [9.687095642089844, 50.970096588134766]}]}, {'id': '56920139-02d4-4c4c-b8b5-9e1dc6213550', 'name': 'Ukraine', 'entity_type': 'location', 'locations': [{'name': 'Ukraine', 'location_type': 'location', 'coordinates': [32.64539337158203, 49.19245529174805]}]}, {'id': '035fe2f4-e231-4e2c-a3f7-b796a29aed07', 'name': 'Islamabad', 'entity_type': 'location', 'locations': [{'name': 'Islamabad', 'location_type': 'location', 'coordinates': [73.16700744628906, 33.67534637451172]}]}, {'id': '9dae8c7c-ab3d-4591-ab45-b087967b2219', 'name': 'China', 'entity_type': 'location', 'locations': [{'name': 'China', 'location_type': 'location', 'coordinates': [106.80287170410156, 32.52971649169922]}]}, {'id': '3c130749-df6b-47e1-a66e-5f745187a795', 'name': 'Saudi Arabia', 'entity_type': 'location', 'locations': [{'name': 'Saudi Arabia', 'location_type': 'location', 'coordinates': [44.70804214477539, 23.801889419555664]}]}, {'id': 'c6220b77-ec55-44a0-9e0f-665d55542d47', 'name': 'Philippines', 'entity_type': 'location', 'locations': [{'name': 'Philippines', 'location_type': 'location', 'coordinates': [121.38794708251953, 16.93212127685547]}]}, {'id': 'f5a87d9b-ddd0-4f26-8b06-9243e4ea7861', 'name': 'United Arab Emirates', 'entity_type': 'location', 'locations': [{'name': 'United Arab Emirates', 'location_type': 'location', 'coordinates': [54.70551681518555, 23.755128860473633]}]}, {'id': '37709aaf-8b1c-4ed2-a6fa-2975c853060a', 'name': 'Thailand', 'entity_type': 'location', 'locations': [{'name': 'Thailand', 'location_type': 'location', 'coordinates': [101.30170440673828, 15.512883186340332]}]}, {'id': '656260ca-9619-40ae-b1e8-1f5ec89699bf', 'name': 'South Africa', 'entity_type': 'location', 'locations': [{'name': 'South Africa', 'location_type': 'location', 'coordinates': [23.666290283203125, -29.708984375]}]}, {'id': '4f36f398-b054-46e2-959c-41465546b452', 'name': 'Oman', 'entity_type': 'location', 'locations': [{'name': 'Oman', 'location_type': 'location', 'coordinates': [57.345680236816406, 22.11318016052246]}]}, {'id': 'd2514cc4-3f51-4254-9121-c82d66eb2099', 'name': 'Pakistan', 'entity_type': 'location', 'locations': [{'name': 'Pakistan', 'location_type': 'location', 'coordinates': [68.58113861083984, 29.321062088012695]}]}, {'id': '3e186368-1db6-45b8-b0e1-b8b5ac4d73d6', 'name': 'UK', 'entity_type': 'location', 'locations': [{'name': 'UK', 'location_type': 'location', 'coordinates': [-1.580325961112976, 52.66364288330078]}]}, {'id': 'ea8e467b-e3e2-43f4-a316-b69ab61c39fc', 'name': 'US', 'entity_type': 'location', 'locations': [{'name': 'US', 'location_type': 'location', 'coordinates': [-96.9992446899414, 39.71614074707031]}]}, {'id': 'b2b022aa-722f-467f-85e4-98d9c7b2956f', 'name': 'United States', 'entity_type': 'location', 'locations': [{'name': 'United States', 'location_type': 'location', 'coordinates': [-96.9992446899414, 39.71614074707031]}]}, {'id': 'e31da58b-07e4-4c1b-85ae-e05dc3b828e3', 'name': 'Ukraine Conflict', 'entity_type': 'location', 'locations': [{'name': 'Ukraine Conflict', 'location_type': 'location', 'coordinates': [32.64539337158203, 49.19245529174805]}]}], 'tags': [{'id': '278a37a2-cd94-4fba-bca8-f475b1f23bf5', 'name': 'geocoded'}], 'evaluation': {'thematic_locations': None, 'content_id': '0111a513-9240-4c78-85c9-b9ca2855da4c', 'sociocultural_interest': 7, 'regional_political_impact': 5, 'regional_economic_impact': 6, 'event_subtype': 'Energy', 'rhetoric': 'neutral', 'id': 'a27a601c-eea7-4d6a-87f0-8c2d6969e41a', 'global_political_impact': 2, 'global_economic_impact': 3, 'event_type': 'Economic', 'categories': ['Technology', 'Energy', 'Politics']}}\n",
      "{'id': '026546e9-3a98-4a8f-8a29-66c3b27715dc', 'url': 'https://www.dw.com/en/germanys-vote-of-confidence-explained/video-70861572', 'title': \"Germany's vote of confidence explained – DW – 11\", 'source': None, 'insertion_date': '2024-11-27T10:35:18.782437', 'text_content': \"Emily Sherwin | Ferenc Gaál\\n\\n11/25/2024 November 25, 2024\\n\\nGerman Chancellor Olaf Scholz is set to ask the Bundestag for a vote of confidence. Scholz's progressive coalition has collapsed, leaving him without a parliamentary majority. How does Germany's vote of confidence work?\", 'top_image': None, 'entities': [{'id': 'b5f50229-961c-4152-ba62-f8d8884ac324', 'name': 'Germany', 'entity_type': 'location', 'locations': [{'name': 'Germany', 'location_type': 'location', 'coordinates': [9.687095642089844, 50.970096588134766]}]}, {'id': '05590d82-2f1e-4e6c-bd02-047e9752635a', 'name': 'Germany', 'entity_type': 'LOC', 'locations': []}, {'id': '01cf0266-a921-4cd6-a178-9ddb7b72780d', 'name': 'Emily Sherwin', 'entity_type': 'PER', 'locations': []}, {'id': '71556215-383d-4639-b863-f9564c2c7684', 'name': 'Ferenc Gaál', 'entity_type': 'PER', 'locations': []}, {'id': '5e5e54be-e274-4369-9013-3d3e8fbfabf3', 'name': 'German', 'entity_type': 'MISC', 'locations': []}, {'id': '94dcc52b-5b73-48cc-9d13-a0457132c27f', 'name': 'Olaf Scholz', 'entity_type': 'PER', 'locations': []}, {'id': 'e828b67c-a9ea-425f-9b5a-130eee245b5b', 'name': 'Bundestag', 'entity_type': 'ORG', 'locations': []}, {'id': 'da6d2618-be83-43b4-8438-261f7080de12', 'name': 'Scholz', 'entity_type': 'PER', 'locations': []}], 'tags': [{'id': '278a37a2-cd94-4fba-bca8-f475b1f23bf5', 'name': 'geocoded'}], 'evaluation': {'thematic_locations': None, 'content_id': '026546e9-3a98-4a8f-8a29-66c3b27715dc', 'sociocultural_interest': 5, 'regional_political_impact': 7, 'regional_economic_impact': 6, 'event_subtype': 'Vote of confidence', 'rhetoric': 'neutral', 'id': '435e94bb-9604-4cc1-8c9a-9bddd22a99a8', 'global_political_impact': 2, 'global_economic_impact': 3, 'event_type': 'Politics', 'categories': ['Politics', 'Germany']}}\n",
      "{'id': '02998bbb-f615-414d-babb-ec459248a31e', 'url': 'https://www.dw.com/en/how-a-korean-netflix-series-made-a-swiss-town-a-tourist-spot/video-70796803', 'title': 'How a Korean Netflix series made a Swiss town a tourist spot – DW – 11', 'source': None, 'insertion_date': '2024-11-27T10:35:18.784774', 'text_content': 'A scene from a Korean TV series is causing Asian tourists to flock to the Swiss village of Iseltwald to take selfies.\\n\\nIseltwald — a tranquil Alpine village in Switzerland. 400 inhabitants, Swiss folklore, a usually empty playground and what\\'s otherwise just an ordinary pier on the lake.\\n\\nAt least, that\\'s how it used to be…\\n\\nBecause now, Iseltwald is overrun by tourists, most of them from Asia. Every day, they flood the small village by the hundreds — pouring out of boats, buses, or rental cars – and crowd the pier for a selfie against the Alpine backdrop.\\n\\n\\n\\nSofie and her friend have come from South Korea to Europe for just five days.\\n\\n\"It\\'s our most important day today, to come here, because we came to see this place,\" says SofieSofie Bang.\\n\\nIseltwald\\'s mayor Peter Rubi remembers well when it all began: Just as travel restrictions were lifted after the coronavirus pandemic.\\n\\n\"When the borders reopened, and travel was allowed again, they all came. Now they just keep coming,\" he says.\\n\\nLike Annemarie from Germany, and her cousin Mercy.\\n\\n\"We\\'re here because of the [Korean drama] \"Crash Landing on You\" series. My cousin came from the Philippines just for this, and we drove from Germany so she could see it,\" says Annemarie Birk.\\n\\n\"Crash Landing on You\" is somewhat kitschy love story. The climax, a piano scene on the pier, has since found a place in the hearts of millions of fans.\\n\\n\"It\\'s a love story between North Korea and South Korea, and this is one of the highlights, this is from the ending of \"Crash Landing on You.\" The place is just so amazing and beautiful,\" says Mercy Ubanan.\\n\\nMarga Kwok is also here because of the series: \"All of the scenes. I kind of know all the scenes in Switzerland.\"\\n\\nBut what do the locals think about the surge of Asian tourists visiting their village?\\n\\n\"Too many people,\" says Susanne Hefti. \"They don\\'t bring anything. They come here, go there, take a few photos, and then leave on the next bus, leaving all the trash behind.\"\\n\\nSome days, 20 tour buses can come to Iseltwald, with regular buses also packed with tourists. The locals complain there\\'s often no space left for high school students to commute to school.\\n\\nIseltwald\\'s Mayor Rubi has taken action by installing a turnstile. Access to the pier costs 5 Swiss francs (€5.37, $5.64).\\n\\n\"We need it for maintenance of the roads and public restrooms, which are being used more,\" says Mayor Rubi.\\n\\nThey\\'re hoping it\\'ll bring in 100,000 francs francs a year.\\n\\nThe tourists pay without complaint, including Checky Chen, who\\'s come all the way from Costa Rica.\\n\\n\"I researched in advance, so I knew I had to pay to go on the pier. I think it\\'s a good idea. It provides some order and the revenue can improve the infrastructure.\"\\n\\nNow, even Iseltwald\\'s oldest residents might cast a more romantic gaze at the masses of tourists on their pier.', 'top_image': None, 'entities': [{'id': 'c8f7ae61-5319-49fb-aa6f-6d5a7b88f71c', 'name': 'Asia', 'entity_type': 'location', 'locations': [{'name': 'Asia', 'location_type': 'location', 'coordinates': [94.46434020996094, 49.512481689453125]}]}, {'id': '606d88bf-4aeb-46a3-abb6-f8fdd7d0e879', 'name': 'Europe', 'entity_type': 'location', 'locations': [{'name': 'Europe', 'location_type': 'location', 'coordinates': [13.404999732971191, 52.52000045776367]}]}, {'id': 'c6220b77-ec55-44a0-9e0f-665d55542d47', 'name': 'Philippines', 'entity_type': 'location', 'locations': [{'name': 'Philippines', 'location_type': 'location', 'coordinates': [121.38794708251953, 16.93212127685547]}]}, {'id': 'b5f50229-961c-4152-ba62-f8d8884ac324', 'name': 'Germany', 'entity_type': 'location', 'locations': [{'name': 'Germany', 'location_type': 'location', 'coordinates': [9.687095642089844, 50.970096588134766]}]}, {'id': '35d5adbc-4e3b-4961-9bb9-f66228340ed8', 'name': 'North Korea', 'entity_type': 'location', 'locations': [{'name': 'North Korea', 'location_type': 'location', 'coordinates': [126.69942474365234, 40.24891662597656]}]}, {'id': '9a000380-7747-48ab-8008-7811a8158b97', 'name': 'South Korea', 'entity_type': 'location', 'locations': [{'name': 'South Korea', 'location_type': 'location', 'coordinates': [128.12399291992188, 36.3821907043457]}]}, {'id': 'ccdd6000-6a83-404f-9f7d-657d17dccc59', 'name': 'Switzerland', 'entity_type': 'location', 'locations': [{'name': 'Switzerland', 'location_type': 'location', 'coordinates': [7.5096869468688965, 46.730220794677734]}]}, {'id': '54c7b3cd-8e86-4e46-b4c8-e46a55e4c98f', 'name': 'Iseltwald', 'entity_type': 'location', 'locations': [{'name': 'Iseltwald', 'location_type': 'location', 'coordinates': [7.9641499519348145, 46.710758209228516]}]}, {'id': '73bb1181-7a1f-45da-ba96-42a41cceeaf6', 'name': 'Costa Rica', 'entity_type': 'location', 'locations': [{'name': 'Costa Rica', 'location_type': 'location', 'coordinates': [-84.0285873413086, 10.068182945251465]}]}, {'id': '5646cf41-1316-4e09-977f-1a60088bc54b', 'name': 'Korean Netflix', 'entity_type': 'MISC', 'locations': []}, {'id': '0818d96d-1ea5-4b8a-87ad-034dde1d29b4', 'name': 'Swiss', 'entity_type': 'MISC', 'locations': []}, {'id': '632209a9-5e4e-48bd-864d-af61340b93aa', 'name': 'Korean', 'entity_type': 'MISC', 'locations': []}, {'id': 'ab4b5407-fa47-405b-a4cd-99f983238ffe', 'name': 'Asian', 'entity_type': 'MISC', 'locations': []}, {'id': 'a093983e-f5db-412f-a339-a8087147363f', 'name': 'Iseltwald', 'entity_type': 'LOC', 'locations': []}, {'id': 'bd781f48-a488-4e1e-82e8-237bd5248293', 'name': 'Alpine', 'entity_type': 'MISC', 'locations': []}, {'id': '6a85a5d5-6b40-4a14-b784-b43ed68f05a5', 'name': 'Switzerland', 'entity_type': 'LOC', 'locations': []}, {'id': '2c1da2a6-5176-47af-940c-d787f227bf68', 'name': 'Asia', 'entity_type': 'LOC', 'locations': []}, {'id': '9bc359c7-49d5-4f23-b486-a46ed86b8558', 'name': 'Sofie', 'entity_type': 'PER', 'locations': []}, {'id': '8fd85d65-f735-4334-88db-f872d36150ca', 'name': 'South Korea', 'entity_type': 'LOC', 'locations': []}, {'id': '12699d7c-36d0-4a9e-a4ba-a4d16eea6ce7', 'name': 'Europe', 'entity_type': 'LOC', 'locations': []}, {'id': '780648cb-ec86-4f4c-a56c-f0470474ed32', 'name': 'SofieSofie Bang', 'entity_type': 'PER', 'locations': []}, {'id': '02c3d360-6296-4123-84bf-2d6baa02e537', 'name': 'Iseltwald', 'entity_type': 'PER', 'locations': []}, {'id': 'b90de9d4-dbf3-46f1-ba90-ce0bfdd2e326', 'name': 'Peter Rubi', 'entity_type': 'PER', 'locations': []}, {'id': '30b28fb3-36b4-4e46-a760-2c44732ceba6', 'name': 'Annemarie', 'entity_type': 'PER', 'locations': []}, {'id': '05590d82-2f1e-4e6c-bd02-047e9752635a', 'name': 'Germany', 'entity_type': 'LOC', 'locations': []}, {'id': '77920fd8-5946-46a0-a7df-bfdb99d6bece', 'name': 'Mercy', 'entity_type': 'PER', 'locations': []}, {'id': '3877bd85-0ac6-45b3-960f-5dae8556671a', 'name': 'Crash Landing on You', 'entity_type': 'MISC', 'locations': []}, {'id': 'bd1996df-858a-44fe-92bf-f75f95c9c929', 'name': 'Philippines', 'entity_type': 'LOC', 'locations': []}, {'id': 'ed7e7e71-6736-4e98-acd9-4e3816a3d24b', 'name': 'Annemarie Birk', 'entity_type': 'PER', 'locations': []}, {'id': '16039a01-321d-42c8-95c8-5a2c27594b4b', 'name': 'North Korea', 'entity_type': 'LOC', 'locations': []}, {'id': '42c3ba12-bd97-480e-beb9-8d92d35eec32', 'name': 'Mercy Ubanan', 'entity_type': 'PER', 'locations': []}, {'id': '1030cc36-8601-4b68-812a-cc38ca22c3aa', 'name': 'Marga Kwok', 'entity_type': 'PER', 'locations': []}, {'id': 'ae308bc4-85ef-4468-9637-017e11325cb4', 'name': 'Susanne Hefti', 'entity_type': 'PER', 'locations': []}, {'id': '11fcbcc4-1560-489f-b61b-dbb67c30c6d8', 'name': 'Iseltwald', 'entity_type': 'ORG', 'locations': []}, {'id': '5ba7181a-42e7-42dc-9d8f-538ae05a8b72', 'name': 'Rubi', 'entity_type': 'PER', 'locations': []}, {'id': '06a41a3c-3329-4df0-a308-6fbf02dac078', 'name': 'Checky Chen', 'entity_type': 'PER', 'locations': []}, {'id': 'fa6491f6-5e2d-49de-af09-a278a7638b07', 'name': 'Costa Rica', 'entity_type': 'LOC', 'locations': []}], 'tags': [{'id': '278a37a2-cd94-4fba-bca8-f475b1f23bf5', 'name': 'geocoded'}], 'evaluation': {'thematic_locations': None, 'content_id': '02998bbb-f615-414d-babb-ec459248a31e', 'sociocultural_interest': 7, 'regional_political_impact': 0, 'regional_economic_impact': 3, 'event_subtype': 'Tourism', 'rhetoric': 'neutral', 'id': 'b6d1beb2-d73e-450d-862a-340a1b6f2054', 'global_political_impact': 0, 'global_economic_impact': 1, 'event_type': 'Other', 'categories': ['Culture', 'Tourism']}}\n",
      "{'id': '0326e06b-a155-40cf-b920-31a15256d295', 'url': 'https://www.dw.com/en//en/german-chancellor-scholz-ready-for-confidence-vote-this-year/video-70750571', 'title': \"Germany's Scholz ready for trust vote this year\", 'source': 'dw', 'insertion_date': '2024-11-13T05:06:08.244672', 'text_content': 'To view this video please enable JavaScript, and consider upgrading to a web browser that supports HTML5 video In his first interview since the collapse of his three-party coalition, German Chancellor Olaf Scholz signaled his readiness for a confidence vote this year. It could trigger snap elections if he loses.', 'top_image': 'https://static.dw.com/image/70724322_6.jpg', 'entities': [{'id': 'b5f50229-961c-4152-ba62-f8d8884ac324', 'name': 'Germany', 'entity_type': 'location', 'locations': [{'name': 'Germany', 'location_type': 'location', 'coordinates': [9.687095642089844, 50.970096588134766]}]}, {'id': '05590d82-2f1e-4e6c-bd02-047e9752635a', 'name': 'Germany', 'entity_type': 'LOC', 'locations': []}, {'id': 'da6d2618-be83-43b4-8438-261f7080de12', 'name': 'Scholz', 'entity_type': 'PER', 'locations': []}, {'id': 'edf07ef4-b6a4-4dc8-9879-a97be0bb59d9', 'name': 'JavaScript', 'entity_type': 'MISC', 'locations': []}, {'id': '40aecd2f-cfd5-43ab-8645-0cead6bb2a40', 'name': 'HTML5', 'entity_type': 'MISC', 'locations': []}, {'id': '5e5e54be-e274-4369-9013-3d3e8fbfabf3', 'name': 'German', 'entity_type': 'MISC', 'locations': []}, {'id': '94dcc52b-5b73-48cc-9d13-a0457132c27f', 'name': 'Olaf Scholz', 'entity_type': 'PER', 'locations': []}], 'tags': [{'id': '278a37a2-cd94-4fba-bca8-f475b1f23bf5', 'name': 'geocoded'}], 'evaluation': {'thematic_locations': None, 'content_id': '0326e06b-a155-40cf-b920-31a15256d295', 'sociocultural_interest': 5, 'regional_political_impact': 7, 'regional_economic_impact': 6, 'event_subtype': 'Confidence Vote', 'rhetoric': 'neutral', 'id': 'a3e0c8ea-c174-4f92-9462-5697e44394c1', 'global_political_impact': 4, 'global_economic_impact': 3, 'event_type': 'Politics', 'categories': ['Politics', 'Government', 'Elections']}}\n",
      "{'id': '05387acb-caf0-4145-85d3-48742f9b52bc', 'url': 'https://www.dw.com/en/sports/s-8171', 'title': 'German football and major international sports news – DW', 'source': None, 'insertion_date': '2024-11-26T22:59:44.780726', 'text_content': \"Germany national football team\\n\\nGermany is one of the world's most successful footballing nations having won four World Cups.\", 'top_image': None, 'entities': [{'id': '5e5e54be-e274-4369-9013-3d3e8fbfabf3', 'name': 'German', 'entity_type': 'MISC', 'locations': []}, {'id': 'ea76d9bf-dc83-44a4-9222-76e1a9f83c41', 'name': 'DW Germany', 'entity_type': 'ORG', 'locations': []}, {'id': '05590d82-2f1e-4e6c-bd02-047e9752635a', 'name': 'Germany', 'entity_type': 'LOC', 'locations': []}, {'id': '0ef36106-514d-4e02-9578-81e0131e4712', 'name': 'World Cups', 'entity_type': 'MISC', 'locations': []}, {'id': 'b5f50229-961c-4152-ba62-f8d8884ac324', 'name': 'Germany', 'entity_type': 'location', 'locations': [{'name': 'Germany', 'location_type': 'location', 'coordinates': [9.687095642089844, 50.970096588134766]}]}], 'tags': [{'id': '278a37a2-cd94-4fba-bca8-f475b1f23bf5', 'name': 'geocoded'}], 'evaluation': {'thematic_locations': None, 'content_id': '05387acb-caf0-4145-85d3-48742f9b52bc', 'sociocultural_interest': 7, 'regional_political_impact': 2, 'regional_economic_impact': 4, 'event_subtype': 'Football', 'rhetoric': 'neutral', 'id': 'fbb8f8b2-5c30-4513-8493-d9dd225dbf33', 'global_political_impact': 1, 'global_economic_impact': 3, 'event_type': 'Sports', 'categories': ['Sports', 'News']}}\n",
      "{'id': '06943537-23a2-4f25-8037-0e2807fc7fca', 'url': 'https://www.dw.com/en//en/why-indian-students-are-flocking-to-german-universities/video-70586438', 'title': 'Why Indian students are flocking to German universities', 'source': None, 'insertion_date': '2024-11-13T03:14:51.255592', 'text_content': 'The number of people from India coming to Germany to study is increasing rapidly. Tuition fees are considerably lower, and German universities have a good international reputation. Estimates show a fivefold increase in Indian students in the last decade.', 'top_image': None, 'entities': [{'id': '81aa854c-e090-49ad-abda-70103ba2fba4', 'name': 'Indian', 'entity_type': 'MISC', 'locations': []}, {'id': '5e5e54be-e274-4369-9013-3d3e8fbfabf3', 'name': 'German', 'entity_type': 'MISC', 'locations': []}, {'id': '66f4dbd7-72d7-49e3-b59a-e34e0473484f', 'name': 'India', 'entity_type': 'LOC', 'locations': []}, {'id': '05590d82-2f1e-4e6c-bd02-047e9752635a', 'name': 'Germany', 'entity_type': 'LOC', 'locations': []}, {'id': 'dc9e7e19-c6bb-4132-a263-1fbe2374567c', 'name': 'India', 'entity_type': 'location', 'locations': [{'name': 'India', 'location_type': 'location', 'coordinates': [79.37036895751953, 22.687580108642578]}]}, {'id': 'b5f50229-961c-4152-ba62-f8d8884ac324', 'name': 'Germany', 'entity_type': 'location', 'locations': [{'name': 'Germany', 'location_type': 'location', 'coordinates': [9.687095642089844, 50.970096588134766]}]}], 'tags': [{'id': '278a37a2-cd94-4fba-bca8-f475b1f23bf5', 'name': 'geocoded'}], 'evaluation': {'thematic_locations': None, 'content_id': '06943537-23a2-4f25-8037-0e2807fc7fca', 'sociocultural_interest': 8, 'regional_political_impact': 2, 'regional_economic_impact': 4, 'event_subtype': 'Education', 'rhetoric': 'neutral', 'id': '23f8ebac-a38a-40d7-b168-536654665876', 'global_political_impact': 3, 'global_economic_impact': 5, 'event_type': 'Social', 'categories': ['Education', 'International Relations', 'Economy']}}\n",
      "{'id': '06e6b8d3-99fd-417c-b736-6ac8a625c9c2', 'url': 'https://www.dw.com/en//en/un-figure-appalled-by-israeli-strike-near-beirut-hospital/live-70563832', 'title': \"UN rights chief 'appalled' by Israeli strike near hospital\", 'source': None, 'insertion_date': '2024-11-27T01:28:24.293380', 'text_content': 'UN human rights chief Volker Türk condemned an Israeli strike near the Rafik Hariri Hospital, which killed 18. Israel said it wasn\\'t targeting the facility. DW has the latest.  Here are the latest developments from the Israel-Lebanon escalation, Gaza and the wider Middle East region on Tuesday, October 22: At least 18 people were killed and 60 wounded in an Israeli strike near the Rafik Hariri Hospital, located on the outskirts of southern Beirut, according to\\xa0Lebanon\\'s\\xa0Health Ministry. The Israel Defense Forces later claimed that a Hezbollah\\xa0target was located next to the hospital, which is a few kilometers from the center of Lebanon\\'s capital, Beirut. The hospital itself was not targeted, the IDF claimed. No further information was provided. Footage on social media appeared to show the strike hitting close to the hospital\\'s entrance, and the Health Ministry reported that the facility was damaged. UN human rights chief Volker Türk said he was \"appalled\" by the strike. \"The fundamental principles of international humanitarian law concerning the protection of civilians must be respected,\" Türk said. More than 1,550 people have been killed in bombardment by Israel since the country intensified its air campaign on Lebanon in September, according to the AFP news agency. To view this video please enable JavaScript, and consider upgrading to a web browser that supports HTML5 video Seven Palestinian residents of East Jerusalem were arrested on suspicion of planning to assassinate an Israeli scientist and a city mayor, on Iran\\'s\\xa0orders, Israeli\\xa0police said. The people\\xa0were also allegedly tasked with bombing a police car and throwing a grenade at a house with a promised payment of 200,000 Israeli shekels ($53,000, €49,000). \"This investigation underscores Iran\\'s efforts to recruit Israeli citizens for terrorism,\" the police statement said, quoting a security official. This comes a day after authorities dismantled a seven-member group of Israeli citizens accused of spying on military bases and energy infrastructure for Iran. Lebanese\\xa0militia group Hezbollah took responsibility for targeting Israeli Prime Minister Benjamin Netanyahu\\'s house in the town of Caesarea. \"If our hands didn\\'t reach you the previous time, then days, nights and the battlefield are still between us,\" said Mohammad Afif, head of the Iranian-backed militant group\\'s media office. A drone hit Netanyahu\\'s holiday home on Saturday, with Israeli media reporting that it hit the bedroom window, and that \"significant damage\" was caused to the house. Netanyahu was not there at the time. He\\xa0reacted by calling it an assassination attempt by \"Iran\\'s proxy Hezbollah\"\\xa0and called it a \"grave mistake.\" A spokesperson for the Israel Defense Forces (IDF) said intelligence agents had discovered a bunker belonging to former Hezbollah leader Hassan Nasrallah that is now being used as a vault — and contains millions of dollars in gold and cash. According to Israeli intelligence, the vault is located under a hospital in southern Beirut. The IDF did not provide any evidence for the claim. Lebanese parliament member and hospital director Fadi Alameh denied the IDF\\'s claims and said the hospital only had underground operating rooms. Alameh also invited the Lebanese army to look at the compound itself. He said the hospital was being evacuated in anticipation of strikes. Earlier Tuesday, the IDF said it had targeted Hezbollah targets in the area of another hospital, Rafik Hariri. The hospital itself was not targeted, according to the IDF. Social media footage, however, apparently showed the strike hit near the entrance of the hospital, with the Lebanese Health Ministry saying the buildling was damaged. The United Nations Palestinian refugee agency (UNRWA) called for a temporary ceasefire to allow people to leave areas of northern Gaza,\\xa0as Israel continues an offensive against Hamas militants in the area. \"In northern Gaza, people are just waiting to die,\"\\xa0said Philippe Lazzarini, the head of UNRWA. \"They feel deserted, hopeless and alone.\" Lazzarini called on both sides to allow a truce, \"even if for a few hours,\"\\xa0for the purpose of enabling safe humanitarian passage for those wishing to leave the area. Tens of thousands of people are estimated to have fled the assault on northern Gaza, and UNRWA says around 400,000 people were trapped in the area last week. To view this video please enable JavaScript, and consider upgrading to a web browser that supports HTML5 video At least 13 people were killed and 57 wounded in an Israeli\\xa0strike near the Rafik Hariri Hospital, Lebanon\\'s biggest public hospital, according to the Lebanese Health Ministry. The Israel Defense Forces (IDF) later said a Hezbollah target was located next to the hospital, which is a few kilometers from the center of the capital, Beirut. The hospital itself was not targeted, the IDF said. However, footage on social media appeared to show the strike hitting close to the hospital\\'s entrance and the Health Ministry said that the facility was damaged. The IDF added it also struck a Hezbollah naval base overnight, while Hezbollah says it hit an Israeli tank in Lebanon\\'s south. This comes as US Secretary of State Antony Blinken is visiting the region in an attempt to broker a ceasefire in the region. Overnight airstrikes also hit elsewhere in Beirut overnight, with images showing flames and smoke rise from an Israeli airstrike on the\\xa0Dahiyeh neigborhood. US Secretary of State Antony Blinken arrived in Israel, his first stop of a wider Middle East tour, in a bid to broker a cease-fire in the region. This is Blinken\\'s eleventh trip to the Middle East since the October 7 terrorist attacks and the war which followed. It comes as the Israeli military has intensified its campaign in the north of the Gaza Strip, as well as in southern Lebanon, where the Iranian-backed militia Hezbollah are based. US officials downplayed the chances of an immediate breakthrough. To view this video please enable JavaScript, and consider upgrading to a web browser that supports HTML5 video Air raid sirens blared in the Israeli city of Tel Aviv, with five incoming projectiles from Lebanon sent toward central Israel. Another 15 were fired toward northern Israel and the northern part of the Golan Heights. In posts on Telegram, the Israeli military said most of the objects were intercepted but one landed in an open area in central Israel. In the north, \"some\" were stopped and others fell in open areas.\\xa0 There were no initial reports of injuries. Lebanon-based Hezbollah says it has launched volleys of rockets at two key bases near Tel Aviv and a naval base west of Haifa. The Iran-backed militia group said it had attacked an Israeli military intelligence base near Tel Aviv, firing \"a salvo of rockets at the Glilot base\" in a suburb of the Mediterranean city. Israeli media says the military intelligence base also houses the headquarters of Israel\\'s foreign intelligence service Mossad. The group also said it had launched a \"salvo of rockets\" targeting the \"Stella Maris naval base northwest of Haifa,\" a coastal city in northern Israel. Hezbollah is considered a terrorist organization by the US, Germany and several Sunni Arab countries, while the EU lists its armed wing as a terrorist group. To view this video please enable JavaScript, and consider upgrading to a web browser that supports HTML5 video The United Nations on Monday condemned airstrikes that Israel claimed had targeted\\xa0the militant group\\xa0Hezbollah\\'s financial system in Lebanon. More than a dozen sites tied\\xa0to Al-Qard Al-Hassan, a financial firm linked to Hezbollah, were hit in strikes carried out across Lebanon on Sunday. Israel\\'s bombing campaign came two weeks after Israel assassinated an individual it called \"Hezbollah\\'s finance minister.\" Israel has said that it is now focused on Hezbollah\\'s finance system after having killed most of the group\\'s top political and military leaders. It said it struck around 300 Hezbollah targets in Lebanon over 24 hours, ramping up its offensive to hit the group\\'s finances. US envoy Amos Hochstein\\xa0visited Lebanon\\xa0in a bid to broker a cease-fire\\xa0between Israel and\\xa0Hezbollah. Lebanon\\'s\\xa0caretaker prime minister,\\xa0Najib Mikati,\\xa0said Monday\\xa0there was no alternative to UN Resolution 1701\\xa0but added that \"new understandings\" could be reached to implement it. The resolution, which ended the 2006 Israel-Hezbollah war, called for the Lebanese militant group to withdraw towards the north of the Litani River away from the Israel border\\xa0and mandated a UN peacekeeping mission to help the Lebanese army control the area free from the presence of Hezbollah or Israel. However, Israel maintains that\\xa0the resolution was never implemented, and that Hezbollah has built up extensive military infrastructure. rc,fmt/wmr (AFP, AP dpa, Reuters)', 'top_image': 'https://static.dw.com/image/70569872_6.jpg', 'entities': [{'id': '7d691edf-c905-4446-93ad-d46bcd5c1f9c', 'name': 'DW', 'entity_type': 'ORG', 'locations': []}, {'id': '1bb93299-3578-47c6-864c-44ad1eee68a1', 'name': 'Israel-Lebanon', 'entity_type': 'MISC', 'locations': []}, {'id': 'c9c64d75-7e30-4baa-a6b1-204b02c32d9a', 'name': 'Volker Türk', 'entity_type': 'PER', 'locations': []}, {'id': 'dfe01fed-45f9-44b9-9649-bd8031a2f791', 'name': 'Türk', 'entity_type': 'PER', 'locations': []}, {'id': 'b7d47a07-2332-45c9-81ca-69865d41eecf', 'name': 'East Jerusalem', 'entity_type': 'LOC', 'locations': []}, {'id': 'd85a2844-a115-4565-bfab-6e1aa3d95b62', 'name': 'Iran', 'entity_type': 'LOC', 'locations': []}, {'id': '5f593a62-e12e-4a21-a3c5-d31d5268e5d1', 'name': 'Benjamin Netanyahu', 'entity_type': 'PER', 'locations': []}, {'id': '4e4baa02-bac1-44cb-8632-a3619da7ecba', 'name': 'Caesarea', 'entity_type': 'LOC', 'locations': []}, {'id': '942a0590-1256-4dcb-bb47-2302bd6a0833', 'name': 'Mohammad Afif', 'entity_type': 'PER', 'locations': []}, {'id': '92293257-cf76-4be8-b93c-bdbce1bd444b', 'name': 'Netanyahu', 'entity_type': 'PER', 'locations': []}, {'id': '5f6136c6-278d-4dcf-93d8-8dd27c954f5e', 'name': 'Hassan Nasrallah', 'entity_type': 'PER', 'locations': []}, {'id': '1891ab44-5ae7-4cf0-8208-bbda8028e623', 'name': 'Fadi Alameh', 'entity_type': 'PER', 'locations': []}, {'id': '7dc15e5b-cc88-4569-8810-548b360f5571', 'name': 'Alameh', 'entity_type': 'PER', 'locations': []}, {'id': 'e5856a4d-a86f-45fd-ab12-3921c0b56b13', 'name': 'Rafik Hariri', 'entity_type': 'PER', 'locations': []}, {'id': 'ff434475-7a74-42f1-a9ef-1348ae6f11c4', 'name': 'Lebanese Health Ministry', 'entity_type': 'ORG', 'locations': []}, {'id': 'bae8b013-e05c-49bf-9280-478c7e8f83b8', 'name': 'Palestinian', 'entity_type': 'MISC', 'locations': []}, {'id': '97089de4-8de3-408d-bce8-7872215aca4e', 'name': 'UNRWA', 'entity_type': 'ORG', 'locations': []}, {'id': '9639d313-ca98-4f02-a79d-3a8197db81e8', 'name': 'Gaza Strip', 'entity_type': 'LOC', 'locations': []}, {'id': '984887a2-dde4-41d4-847a-bd355fffbd36', 'name': 'Hamas', 'entity_type': 'ORG', 'locations': []}, {'id': '453bba8d-eb6a-43a6-a101-e9dce3e13f1b', 'name': 'Philippe Lazzarini', 'entity_type': 'PER', 'locations': []}, {'id': 'a94baa21-8de6-4a72-9d06-d5eef084fede', 'name': 'Lazzarini', 'entity_type': 'PER', 'locations': []}, {'id': '72db28d8-9d82-4ac3-b02b-fd11f13afebf', 'name': 'Rafik Hariri Hospital', 'entity_type': 'LOC', 'locations': []}, {'id': '36481ff0-ad0c-496a-beeb-6f680443bf34', 'name': 'Israel Defense Forces', 'entity_type': 'ORG', 'locations': []}, {'id': '5d3ab00f-f024-46ae-b691-b6cb1322e209', 'name': 'Health Ministry', 'entity_type': 'ORG', 'locations': []}, {'id': '78b12943-5f04-49ab-aa70-809e94064f3d', 'name': 'IDF', 'entity_type': 'ORG', 'locations': []}, {'id': '053663c3-45df-44ac-b2b1-9428ba12e99e', 'name': 'Israeli', 'entity_type': 'MISC', 'locations': []}, {'id': '7e624e65-2775-41d0-806d-7172d7292876', 'name': 'United States', 'entity_type': 'LOC', 'locations': []}, {'id': '28792429-784b-47b4-87a1-5d1ceb9d9d8e', 'name': 'Antony Blinken', 'entity_type': 'PER', 'locations': []}, {'id': '507914c3-8892-4210-95dc-95b710c087a3', 'name': 'Beirut, Lebanon', 'entity_type': 'LOC', 'locations': []}, {'id': '2bd2e8ad-94d4-47cb-a613-16fe8b2060a2', 'name': 'Dahiyeh', 'entity_type': 'LOC', 'locations': []}, {'id': '5a92662e-de57-46ca-bd8d-c1e9d1e15aed', 'name': 'Middle East', 'entity_type': 'LOC', 'locations': []}, {'id': '210425a0-073d-461a-aebb-dc68e11fb80d', 'name': 'Blinken', 'entity_type': 'PER', 'locations': []}, {'id': '413effe9-3729-41e5-a634-c9eb5eb94c4b', 'name': 'Gaza Strip', 'entity_type': 'LOC', 'locations': []}, {'id': '28dafa0f-7429-4e09-a3e5-65bc2dabda26', 'name': 'Iranian-backed', 'entity_type': 'MISC', 'locations': []}, {'id': 'edf07ef4-b6a4-4dc8-9879-a97be0bb59d9', 'name': 'JavaScript', 'entity_type': 'MISC', 'locations': []}, {'id': '40aecd2f-cfd5-43ab-8645-0cead6bb2a40', 'name': 'HTML5', 'entity_type': 'MISC', 'locations': []}, {'id': 'd345dfb6-b8e8-428a-9579-2ee846d11a42', 'name': 'Tel Aviv', 'entity_type': 'LOC', 'locations': []}, {'id': '5be83e63-cfca-4eb1-98d4-1460fdf9b6f0', 'name': 'Golan Heights', 'entity_type': 'LOC', 'locations': []}, {'id': '948f6de0-97f1-4210-8734-9c13f2c3aff6', 'name': 'Telegram', 'entity_type': 'ORG', 'locations': []}, {'id': '7d9223d7-69c8-42d1-b899-e23857c4c423', 'name': 'Lebanon-based', 'entity_type': 'MISC', 'locations': []}, {'id': '81ab6f90-0a75-48f0-8f69-a261f73d5ebd', 'name': 'Haifa', 'entity_type': 'LOC', 'locations': []}, {'id': '00e2f79d-f6ed-47cc-904b-a927823274f1', 'name': 'Iran-backed', 'entity_type': 'MISC', 'locations': []}, {'id': 'ed478748-93ca-420e-89f0-9e73aa6b7457', 'name': 'Glilot', 'entity_type': 'LOC', 'locations': []}, {'id': 'faf09dc8-edfc-49e8-8b1a-4d7e16fd6db0', 'name': 'Mediterranean', 'entity_type': 'MISC', 'locations': []}, {'id': '0978f8e6-3848-4996-bd2b-770e685e358b', 'name': 'Mossad', 'entity_type': 'ORG', 'locations': []}, {'id': '23566982-ff7a-4850-9df7-8056013df656', 'name': 'Stella Maris', 'entity_type': 'ORG', 'locations': []}, {'id': '05590d82-2f1e-4e6c-bd02-047e9752635a', 'name': 'Germany', 'entity_type': 'LOC', 'locations': []}, {'id': '3c54483e-2565-4439-a5dc-b3c1152c9dce', 'name': 'Sunni Arab', 'entity_type': 'MISC', 'locations': []}, {'id': '5f8d1ff1-4537-4f33-bd11-2636b52302a5', 'name': 'EU', 'entity_type': 'ORG', 'locations': []}, {'id': '454fdb91-10e9-44d5-a0ca-407190836472', 'name': 'United Nations', 'entity_type': 'ORG', 'locations': []}, {'id': '848f65e7-9496-4eb1-a054-65f4efbaa744', 'name': 'Al-Qard Al-Hassan', 'entity_type': 'ORG', 'locations': []}, {'id': 'd20e9a97-e69b-4f84-be66-0b7af5764447', 'name': 'Amos Hochstein', 'entity_type': 'PER', 'locations': []}, {'id': '67e1343f-09a8-4c97-82c9-ace4e8f91d63', 'name': 'Hezbollah', 'entity_type': 'ORG', 'locations': []}, {'id': '68e48755-4833-48e9-9232-3e0bfadeea50', 'name': 'Greater Lebanon', 'entity_type': 'LOC', 'locations': []}, {'id': '05a2813c-0855-4e88-92c4-cfb3613fe897', 'name': 'Najib Mikati', 'entity_type': 'PER', 'locations': []}, {'id': '808a80db-e90c-47bf-8490-935e5a7aa7bd', 'name': 'UN', 'entity_type': 'ORG', 'locations': []}, {'id': '9ac0948d-0fb1-4ad5-afa3-931417a727b1', 'name': 'Israel-Hezbollah', 'entity_type': 'MISC', 'locations': []}, {'id': '820ceb6b-a10c-4665-9fe9-ced7d91d2b00', 'name': 'Lebanese', 'entity_type': 'MISC', 'locations': []}, {'id': 'a95f97b5-833e-4aca-bc75-eaedc4cadb14', 'name': 'Litani River', 'entity_type': 'LOC', 'locations': []}, {'id': 'a2661fd7-2e66-4c83-ad51-0050fa69bdbc', 'name': 'State of Israel', 'entity_type': 'LOC', 'locations': []}, {'id': 'c62a5f50-e31c-413b-8588-2e1abdea7766', 'name': 'AFP', 'entity_type': 'ORG', 'locations': []}, {'id': '40e5f31b-81b2-4adc-93a9-bf71a454d85c', 'name': 'AP', 'entity_type': 'ORG', 'locations': []}, {'id': '2d8787bc-5c46-4ed9-b596-a468994955ba', 'name': 'Reuters', 'entity_type': 'ORG', 'locations': []}, {'id': 'a4d94f04-223f-49b2-9681-398e9792f19d', 'name': 'Golan Heights', 'entity_type': 'location', 'locations': [{'name': 'Golan Heights', 'location_type': 'location', 'coordinates': [35.748191833496094, 32.98808670043945]}]}, {'id': 'bab1a63b-f815-4b6c-8fb7-0fe7f3233b57', 'name': 'Tel Aviv', 'entity_type': 'location', 'locations': [{'name': 'Tel Aviv', 'location_type': 'location', 'coordinates': [34.804786682128906, 32.07277297973633]}]}, {'id': '30ed6a48-4444-46ec-9722-d51d38e25c39', 'name': 'Haifa', 'entity_type': 'location', 'locations': [{'name': 'Haifa', 'location_type': 'location', 'coordinates': [34.97447204589844, 32.48847198486328]}]}, {'id': 'b5f50229-961c-4152-ba62-f8d8884ac324', 'name': 'Germany', 'entity_type': 'location', 'locations': [{'name': 'Germany', 'location_type': 'location', 'coordinates': [9.687095642089844, 50.970096588134766]}]}, {'id': 'ea8e467b-e3e2-43f4-a316-b69ab61c39fc', 'name': 'US', 'entity_type': 'location', 'locations': [{'name': 'US', 'location_type': 'location', 'coordinates': [-96.9992446899414, 39.71614074707031]}]}, {'id': 'd8c5e913-63a5-4ee8-af34-070682bc6708', 'name': 'Lebanon', 'entity_type': 'location', 'locations': [{'name': 'Lebanon', 'location_type': 'location', 'coordinates': [35.95655059814453, 34.095821380615234]}]}, {'id': 'ddb7a616-487e-448d-b003-f55137e2512e', 'name': 'Litani River', 'entity_type': 'location', 'locations': [{'name': 'Litani River', 'location_type': 'location', 'coordinates': [-98.96736145019531, 38.21795654296875]}]}, {'id': 'e9dc1782-c580-482f-8467-5c32870d3d47', 'name': 'Israel', 'entity_type': 'location', 'locations': [{'name': 'Israel', 'location_type': 'location', 'coordinates': [34.86083984375, 30.90296745300293]}]}, {'id': 'e26e2f1a-e32e-4967-80b0-8d34ca8f48d4', 'name': 'East Jerusalem', 'entity_type': 'location', 'locations': [{'name': 'East Jerusalem', 'location_type': 'location', 'coordinates': [35.21531677246094, 31.75959587097168]}]}, {'id': '31bc4457-2e73-4f6c-be6a-a876873d436f', 'name': 'Caesarea', 'entity_type': 'location', 'locations': [{'name': 'Caesarea', 'location_type': 'location', 'coordinates': [35.48527908325195, 38.73221969604492]}]}, {'id': 'cd85889a-a831-48c2-b3ca-07ed887cdee2', 'name': 'Iran', 'entity_type': 'location', 'locations': [{'name': 'Iran', 'location_type': 'location', 'coordinates': [55.245521545410156, 31.931472778320312]}]}, {'id': 'c1ab234a-8a9e-409e-80d0-81c96b58d99c', 'name': 'Gaza', 'entity_type': 'location', 'locations': [{'name': 'Gaza', 'location_type': 'location', 'coordinates': [34.30654525756836, 31.323537826538086]}]}, {'id': 'bb392203-05c7-4e56-8556-d3f99915da7c', 'name': 'Rafik Hariri Hospital', 'entity_type': 'location', 'locations': [{'name': 'Rafik Hariri Hospital', 'location_type': 'location', 'coordinates': [-96.95132446289062, 32.833160400390625]}]}, {'id': '9f33409a-c10d-4829-bac1-6dced7bf6f8f', 'name': 'Beirut', 'entity_type': 'location', 'locations': [{'name': 'Beirut', 'location_type': 'location', 'coordinates': [35.50152587890625, 33.88431930541992]}]}, {'id': 'efd14370-579a-433d-ba2e-a7eae6b92cac', 'name': 'Middle East', 'entity_type': 'location', 'locations': [{'name': 'Middle East', 'location_type': 'location', 'coordinates': [77.29412078857422, 28.62531852722168]}]}, {'id': '144b65ec-2563-4901-a402-267f7dd795cc', 'name': 'Gaza Strip', 'entity_type': 'location', 'locations': [{'name': 'Gaza Strip', 'location_type': 'location', 'coordinates': [34.30654525756836, 31.323537826538086]}]}, {'id': '910dafcb-48bc-416e-9ac0-6a1cc987bfa5', 'name': 'Beirut, Lebanon', 'entity_type': 'location', 'locations': [{'name': 'Beirut, Lebanon', 'location_type': 'location', 'coordinates': [35.50152587890625, 33.88431930541992]}]}, {'id': 'b2b022aa-722f-467f-85e4-98d9c7b2956f', 'name': 'United States', 'entity_type': 'location', 'locations': [{'name': 'United States', 'location_type': 'location', 'coordinates': [-96.9992446899414, 39.71614074707031]}]}, {'id': 'e3ff0bf5-7660-41b3-8f30-6325f0eaf721', 'name': 'Greater Lebanon', 'entity_type': 'location', 'locations': [{'name': 'Greater Lebanon', 'location_type': 'location', 'coordinates': [35.95655059814453, 34.095821380615234]}]}, {'id': '71cb9af7-39f1-4440-abf2-077c75632eb1', 'name': 'State of Israel', 'entity_type': 'location', 'locations': [{'name': 'State of Israel', 'location_type': 'location', 'coordinates': [34.87470245361328, 30.89512825012207]}]}], 'tags': [{'id': '278a37a2-cd94-4fba-bca8-f475b1f23bf5', 'name': 'geocoded'}], 'evaluation': {'thematic_locations': None, 'content_id': '06e6b8d3-99fd-417c-b736-6ac8a625c9c2', 'sociocultural_interest': 8, 'regional_political_impact': 9, 'regional_economic_impact': 6, 'event_subtype': 'Israeli-Palestinian conflict', 'rhetoric': 'neutral', 'id': 'af0ce258-6da6-4629-a187-fd3b3f51aa87', 'global_political_impact': 7, 'global_economic_impact': 4, 'event_type': 'War', 'categories': ['Politics', 'World News']}}\n",
      "{'id': '07d884ff-3856-4607-b1bd-7bd45d4355b1', 'url': 'https://www.bbc.com/news/articles/ce3yzq6px3eo', 'title': 'Smuggler reveals how he has helped more than 1,000 people cross Channel', 'source': None, 'insertion_date': '2024-11-27T01:38:26.564295', 'text_content': \"Smuggler reveals operation to help Vietnamese reach UK\\n\\nA prolific Vietnamese people smuggler, who entered the UK illegally this year in a small boat, has told the BBC he forges visa documents for other Vietnamese who plan to make the same crossing.\\n\\nThe man, whom we are calling Thanh, is now claiming UK asylum and told us he has spent almost 20 years - his entire adult life - in the smuggling industry.\\n\\nHe has been in prison, led a gang working on the northern coast of France, and claims to have helped more than 1,000 people to risk their lives to cross the Channel.\\n\\nThe self-confessed criminal met the BBC at a secret location to share detailed information about the mechanics of the international smuggling industry.\\n\\n‘A very lucrative business’\\n\\nThanh walks into the room cautiously, dark eyes moving fast as if searching for possible exit routes. A small, neat, quietly authoritative figure in a black polo neck.\\n\\nThere are handshakes and he says “hello” in a soft, strongly accented voice. Beyond that, we speak almost exclusively through a Vietnamese translator.\\n\\nAfter months of phone calls and one brief meeting, the interview takes place on a grey day in a small hotel room, in a northern English town that we are choosing not to name here.\\n\\nWe decided there was a strong public interest in hearing about Thanh’s life in the smuggling trade, which could only be secured in return for agreeing to keep his identity confidential. He fears being recognised not only by the British authorities but by Vietnamese criminals in the UK.\\n\\nVietnam emerged in the first months of this year - suddenly and unexpectedly - as the largest single source of migrants seeking to cross the Channel to the UK illegally in small boats.\\n\\nMany Vietnamese migrants have cited failing businesses and debts at home for their decision to seek work in the UK. Their first step, experts have suggested, is often to access Europe by taking advantage of a legal work visa system in Hungary and other parts of Eastern Europe.\\n\\nThis is where Thanh’s forgery operation comes in, he says. He helps create the fake paperwork needed to get the legitimate work visas.\\n\\n“I can’t justify breaking the law. But it’s a very lucrative business,” Thanh said calmly, insisting he doesn’t provide forgeries for people seeking UK visas.\\n\\nWe know from our interviews with Vietnamese smugglers and their clients that people pay between $15,000 (£11,570) and $20,000 (£15,470) to travel from Vietnam to mainland Europe and then to cross the Channel.\\n\\nIt is a dangerous business. More than 50 people have been killed crossing the Channel in small boats already this year, making 2024 the deadliest on record. For the first time, the figures include one Vietnamese.\\n\\nWhen our team first made contact with Thanh in mainland Europe earlier this year, we knew he was going to attempt to get to the UK with other Vietnamese. He later let us know he had crossed the Channel from northern France, in a small boat.\\n\\nThanh told us he had first flown from Vietnam to Hungary on a legitimate visa - although he had acquired it using forged documents.\\n\\nHow many people cross the Channel in small boats and how many claim asylum?\\n\\nHe had then flown on to Paris and stayed for a few days in a “safe house”, organised by a Vietnamese smuggling gang on the city’s outskirts. Soon after then, he was taken in a group by minibus to the coast and, finally, put in the hands of one of the Kurdish gangs that control the small boat crossings.\\n\\n“Once you’re on the boat, you get treated like everyone else,” he said. “It’s overcrowded.”\\n\\nBut the Vietnamese passengers pay three or four times more money to the gangs handling the crossing routes, he told us, “so we get the advantage of being given a place more quickly”.\\n\\nIn fact, our sources suggest the Vietnamese pay roughly twice the usual rate.\\n\\nThe journey Thanh described is now an established route from Vietnam to the UK - a path heavily promoted by smugglers on Facebook, who charge clients for forged documents, flights, buses, and a place on a flimsy rubber boat. Payment for a successful Channel crossing is only made after arrival in the UK.\\n\\nAnd Thanh had been lucky, he told us, evading French police patrolling the beaches near Calais, and crossing in an inflatable boat on his first attempt.\\n\\nOr perhaps he tried several times. Over the months that we were in contact with him, he changed elements of the story he told us - perhaps to cover his tracks and to avoid giving potential clues about his identity to the UK authorities.\\n\\n‘Yes. A lie. I was not trafficked’\\n\\nThanh asked for asylum when he was interviewed by a British immigration official - explaining he had left Vietnam because he had got into debt to gangsters when his business failed. His life, he said, was in danger.\\n\\nHe told the official he had been trafficked to the UK in order to work for a gang to pay off his debt.\\n\\nWe had heard similar stories from the Vietnamese we encountered in northern France.\\n\\nWhen we first established contact with Thanh, he portrayed himself as a desperate migrant, first stuck in France, and then trapped in the UK’s asylum system, living in a crowded hotel, unable to work, and waiting to learn his fate.\\n\\nBut over time, we began to learn the truth. Or rather, Thanh began to reveal the extent to which his extraordinary life story has been built on a series of elaborate, even outrageous, lies.\\n\\nSitting opposite me on a sofa, Thanh admitted that he had not been trafficked to the UK. He had made up that story as part of his asylum claim. And he went much further, claiming that all the Vietnamese migrants he knew of had been told to offer a version of the same lie.\\n\\n“Yes. A lie. I was not trafficked,” he said.\\n\\nMigration experts and NGOs have a range of views about the scale of trafficking from Vietnam.\\n\\nOne French prosecutor told us that many Vietnamese were in debt to the smugglers and ended up working in UK cannabis farms. But he played down the idea of an organised supply chain, insisting the smuggling system was more like a haphazard series of stepping stones, with each stage controlled by separate gangs. Finding work in the UK was, he said, about luck and opportunism.\\n\\nOther experts insist that many, if not most, Vietnamese migrants are victims of trafficking, and that those being taken across the Channel are in fact a cheap and easy source of labour for criminal gangs in the UK. A government registry of people suspected of being victims of modern slavery has consistently shown a high number of Vietnamese.\\n\\n“It is often not possible, or helpful, to differentiate when a person has been trafficked or smuggled, especially as exploitation can happen at any time,” said Jamie Fookes, UK and Europe advocacy manager at Anti-Slavery International.\\n\\n“Those crossing will often have to pay either through extortion, or from being exploited in some form of forced labour or criminality on the other side.”\\n\\nSafe migration routes, he added, would be the only way to prevent traffickers taking advantage of people’s desperation.\\n\\nBut Thanh maintains that most Vietnamese migrants aren’t trafficked, and that it is just a line used to claim asylum.\\n\\n“That’s the way it’s done. [People lie about being trafficked] in order to continue the asylum process safely,” he said.\\n\\nThanh clearly has a motive to lie about this. If he were to be caught forging documents for people who went on to be trafficked, the penalties would be far more serious than for smuggling.\\n\\nIn our reporting we have sought to corroborate the details of Thanh’s story - and in many instances have done so successfully. But a cloud of doubt hangs, inevitably, over elements of it.\\n\\n‘I claimed I was still a child’\\n\\nThanh says he first left Vietnam in 2007. He was in his late teens or early twenties. He had already dropped out of school to work in a textile factory in the south of the country. But his family wanted him to head abroad, to Europe, in search of higher wages.\\n\\n“I borrowed $6,000 (£4,624) from relatives and neighbours [to pay for the trip]. A lot of people had already made the same journey. We Vietnamese have always travelled like this - to wherever it is easier to make money,” he told me.\\n\\nThat journey first took him to a farm outside Prague, in the Czech Republic. He spent more than a year picking spring onions and other vegetables before deciding he could do better in Germany. Crossing the border illegally in a minibus, Thanh says he threw away his passport and other documents, and chose a new name.\\n\\nAnd he went a step further.\\n\\nWhen he arrived in Berlin, he told the authorities he was 14 years old.\\n\\nThe smugglers who had charged him $1,000 (£771) to get him into Germany had advised him it would be easier if he claimed he was under 16.\\n\\n“I looked young in those days. Nobody challenged me on that.”\\n\\nAnd so, the German authorities promptly sent a man they took to be a boy to a children’s home 45 minutes’ drive from the German capital, where Thanh quickly got to work, selling black-market cigarettes in the local town.\\n\\nThanh says he stayed in Germany for about two years. He left the children’s home, found a girlfriend, and soon became a father. But a police crackdown started to affect his income from selling cigarettes. And so, in 2010, he decided to try to reach the UK.\\n\\nCrossing into France without his new family, he tells us, he threw away his German documents and invented yet another false identity.\\n\\nBy then, thousands of migrants were trying to cross the Channel to the UK by hiding in lorries and shipping containers. Thanh says he made several attempts but was unsuccessful.\\n\\n“I had bad luck. The patrols were very strict. They used dogs to detect us hiding in a container.” He claims to have reached Dover at one point, only for the truck to be returned with him and a group of other migrants still inside.\\n\\nStuck in France, camping in a forest near Dunkirk, Thanh was offered work by Vietnamese people smugglers. It was a job at which, he says, he soon excelled.\\n\\n“I had to provide food and supplies and arrange to send people to the lorries at particular times. I did not recruit people, but I was paid €300 (£250) for each successful crossing,” said Thanh, insisting that none of his passengers were being trafficked or exploited.\\n\\n“We just provided a service. No-one was forced. It was illegal, but it was very, very profitable.”\\n\\nA few years later, the same gang - no longer linked to Thanh, he says - would be involved in the deaths of 39 Vietnamese migrants who were discovered, suffocated, inside a lorry trailer in Essex.\\n\\nWe need to gloss over some details of what Thanh says happened to him over the next few years in order to continue to hide his identity. He rose within a gang to become one of its senior members. But eventually, after being arrested, tried, and imprisoned for several years in Europe, he returned to Vietnam.\\n\\nAt which point, he might have left the smuggling world behind him. But, as he puts it now, his own reputation pulled him back in.\\n\\n“People in Europe contacted me asking for help,” he told us.\\n\\n“I’d already helped about 1,000 people to get to the UK successfully, so I was well known for that success.”\\n\\nIn 2017, he says he re-entered the smuggling trade - only this time, Thanh wasn’t smuggling people, he was forging documents for them.\\n\\nBank statements, payslips, tax invoices, anything that European embassies required to prove that people applying for student, or work, or business visas had the necessary funds to ensure they planned to return to Vietnam.\\n\\n“I had a lot of clients. Depending on which embassy it was, we would provide forged bank statements or other documents.\\n\\n“First, we would submit these online. If certain embassies needed to check with banks, then we’d put real cash into a bank account. We had arrangements with staff at certain banks,” Thanh explained.\\n\\n“The clients couldn’t access the money themselves, but the bank staff would show the [falsified] details to embassy staff. We worked with lots of different types of Vietnamese banks.”\\n\\nAn expert in Vietnam told us that banking fraud is “quite common”, and there were instances of bank staff colluding with criminals to forge documents.\\n\\nThanh tells us he is not proud of his work as a forger - that he had known it was illegal and that he had done it simply to support his family. But at times he sounds boastful, observing that “people trust me, I have never failed”, and insisting his work was “not a serious crime in Vietnam”.\\n\\nBy now, Thanh had a new family in Vietnam. But earlier this year, he decided to leave.\\n\\nIt is not entirely clear why. At one point, he tells us his business had been struggling. He also mentions problems with the Vietnamese police - but he plays them down. Perhaps it is caution. But it strikes us that a lifetime of deception might have affected his ability, or his desire, to distinguish truth from fiction.\\n\\nSo why talk to us? Why risk blowing his cover in the UK? And why continue with his forgery business here, even now?\\n\\nThanh portrays himself as a repentant figure who now regrets his life of crime and wants to speak out to prevent other Vietnamese people from making the same mistakes. Above all, he wants to warn them against coming to the UK illegally, saying it is simply not worth it.\\n\\n“I just want people in Vietnam to understand that it’s not worth borrowing lots of money to travel here. It’s not so easy for illegal arrivals to find work or make money.\\n\\n“And when they do make money it’s less than in the past. It’s no better than in Germany or other European countries. I’ve been trying to find work in the grey economy, but I’ve not been successful,” he told us.\\n\\n“If you want to work on a cannabis farm, there are opportunities, but I don’t want to get involved in more illegal activities now. I don’t want to land up in prison.”\\n\\nThanh urges the UK and European governments to make a bigger effort to publicise the fact there are no jobs here for illegal migrants. He also blames smuggling gangs for lying to their clients about the realities and opportunities.\\n\\nHome Office launches 'stop the boats' ad campaign in Vietnam\\n\\nBut he says people back in Vietnam are hard to dissuade, suspecting those trying to warn against travelling to Europe are “being selfish and trying to keep the job opportunities for themselves”.\\n\\nWhen we confront Thanh, repeatedly, about his hypocrisy and his own continued involvement in the elements of smuggling industry, he shrugs. It is just business.\\n\\n“We don’t force anyone to do what they do. They ask us for help, as they would from any business. There’s no trafficking involved. If you have a good reputation, the clients come to you, without threats or violence.”\\n\\nBut what about the dangers involved - the surging number of deaths in the Channel?\\n\\n“My role is just a small one in a much bigger process.”\\n\\nThanh acknowledges that his life, and that of his family back in Vietnam, would be in danger if the smuggling gangs found out he had been talking to us. When pushed, he admits to some regrets.\\n\\n“If I could start again, I would not leave Vietnam. I think my life would be much better if I had stayed at home. I’ve faced so many struggles. I don’t have a bright future.”\\n\\nWas he telling the truth?\\n\\nAt the end of our interview, he stands up, ready to leave, and for the first time, a flicker of concern, or perhaps irritation, seems to flit across his face.\\n\\nPerhaps he had said too much.\\n\\nAdditional reporting by Kathy Long\", 'top_image': 'https://ichef.bbci.co.uk/news/1024/branded_news/6ae8/live/bc0321f0-92e6-11ef-89ae-5575c76d98e6.jpg', 'entities': [{'id': '4f3d66a6-f64f-4d2a-894f-7d5f02306206', 'name': 'Channel Smuggler', 'entity_type': 'ORG', 'locations': []}, {'id': '9c397930-bf59-499c-8cb6-fe583b6d2630', 'name': 'BBC', 'entity_type': 'ORG', 'locations': []}, {'id': 'c22c4eb5-421d-41ff-b6af-1e56e69efd5a', 'name': 'English', 'entity_type': 'MISC', 'locations': []}, {'id': 'fb64e947-ac09-4dd3-bab4-82e17a4eb798', 'name': 'Hungary', 'entity_type': 'LOC', 'locations': []}, {'id': '553104d6-41e4-4c9c-a0c6-61e1e0e6c24b', 'name': 'Eastern Europe', 'entity_type': 'LOC', 'locations': []}, {'id': '67143cf5-a5da-46f1-bc19-b2b723d92d85', 'name': 'Paris', 'entity_type': 'LOC', 'locations': []}, {'id': 'a962bf1a-9a5c-4a57-a1ca-3b6cd54e8e7c', 'name': 'Kurdish', 'entity_type': 'MISC', 'locations': []}, {'id': '53dec00a-7a25-49c4-b8b6-d15dafc11610', 'name': 'Facebook', 'entity_type': 'ORG', 'locations': []}, {'id': '170a7679-73a9-4d92-bc58-a23a2ec65b11', 'name': 'Calais', 'entity_type': 'LOC', 'locations': []}, {'id': '79a2a964-340c-49f5-8290-474143c9472a', 'name': 'British', 'entity_type': 'MISC', 'locations': []}, {'id': 'dadab4b1-a287-4d3d-99b7-6d063eca8550', 'name': 'NGOs', 'entity_type': 'ORG', 'locations': []}, {'id': '547fcb7b-9888-4d42-8341-7de32f030ba6', 'name': 'Vietnam', 'entity_type': 'LOC', 'locations': []}, {'id': 'df15946e-7319-4742-a6e5-410c4c779865', 'name': 'French', 'entity_type': 'MISC', 'locations': []}, {'id': '97f94f10-1cbd-446e-86ba-4edaaee946ef', 'name': 'Vietnamese', 'entity_type': 'MISC', 'locations': []}, {'id': 'b4f7d360-c325-43ef-b587-056d5696d254', 'name': 'UK', 'entity_type': 'LOC', 'locations': []}, {'id': 'cd4edc75-11b6-48d8-9e87-02c8a5dae92d', 'name': 'Jamie Fookes', 'entity_type': 'PER', 'locations': []}, {'id': '12699d7c-36d0-4a9e-a4ba-a4d16eea6ce7', 'name': 'Europe', 'entity_type': 'LOC', 'locations': []}, {'id': '3a5e66bd-502a-4af5-a62b-d0209e8da76e', 'name': 'Anti-Slavery International', 'entity_type': 'ORG', 'locations': []}, {'id': 'c8c7de18-684b-4e42-874d-9b2c8e08b252', 'name': 'Thanh', 'entity_type': 'PER', 'locations': []}, {'id': '1e4e91f9-314b-46a6-8e97-1770e6a1e771', 'name': 'Prague', 'entity_type': 'LOC', 'locations': []}, {'id': 'ab021223-9ab2-45a4-9024-dd0438d36d33', 'name': 'Czech Republic', 'entity_type': 'LOC', 'locations': []}, {'id': '05590d82-2f1e-4e6c-bd02-047e9752635a', 'name': 'Germany', 'entity_type': 'LOC', 'locations': []}, {'id': '0255f442-c4f4-4743-a02e-3c151aaa42c4', 'name': 'Berlin', 'entity_type': 'LOC', 'locations': []}, {'id': '5e5e54be-e274-4369-9013-3d3e8fbfabf3', 'name': 'German', 'entity_type': 'MISC', 'locations': []}, {'id': '9245d1c5-361b-42de-a601-57e08fb35d67', 'name': 'France', 'entity_type': 'LOC', 'locations': []}, {'id': '778d028a-5d6e-40a5-abd4-c6ffb7a707f1', 'name': 'Dover', 'entity_type': 'LOC', 'locations': []}, {'id': '3548fb2f-3569-4063-93ca-cfaf8dff5e49', 'name': 'Dunkirk', 'entity_type': 'LOC', 'locations': []}, {'id': '69d370ff-68da-4295-92bb-5e8b8f1db50d', 'name': 'Thanh', 'entity_type': 'LOC', 'locations': []}, {'id': 'b9ceece4-4c7e-4ce5-af57-961c48c90f47', 'name': 'Essex', 'entity_type': 'LOC', 'locations': []}, {'id': 'f28630a2-2d8a-4358-a95d-e6f6b174b2ec', 'name': 'European', 'entity_type': 'MISC', 'locations': []}, {'id': '03770fc8-840b-465b-a0e6-5bba1e23b439', 'name': 'Home Office', 'entity_type': 'ORG', 'locations': []}, {'id': '6d522e23-ff24-4ee1-91b5-5ae34c535397', 'name': 'Kathy Long', 'entity_type': 'PER', 'locations': []}, {'id': '388f4f0a-15aa-4fae-a3aa-cf15df0d5084', 'name': 'Thanh', 'entity_type': 'location', 'locations': [{'name': 'Thanh', 'location_type': 'location', 'coordinates': [3.0435678958892822, 48.76226806640625]}]}, {'id': '5f8cd87c-9d16-406f-be71-47b20c0c2b52', 'name': 'Essex', 'entity_type': 'location', 'locations': [{'name': 'Essex', 'location_type': 'location', 'coordinates': [0.5168319940567017, 51.79324722290039]}]}, {'id': 'b5f50229-961c-4152-ba62-f8d8884ac324', 'name': 'Germany', 'entity_type': 'location', 'locations': [{'name': 'Germany', 'location_type': 'location', 'coordinates': [9.687095642089844, 50.970096588134766]}]}, {'id': '3e186368-1db6-45b8-b0e1-b8b5ac4d73d6', 'name': 'UK', 'entity_type': 'location', 'locations': [{'name': 'UK', 'location_type': 'location', 'coordinates': [-1.580325961112976, 52.66364288330078]}]}, {'id': '606d88bf-4aeb-46a3-abb6-f8fdd7d0e879', 'name': 'Europe', 'entity_type': 'location', 'locations': [{'name': 'Europe', 'location_type': 'location', 'coordinates': [13.404999732971191, 52.52000045776367]}]}, {'id': 'dfc7462a-54e9-4f8b-bde7-d9b756456396', 'name': 'Vietnam', 'entity_type': 'location', 'locations': [{'name': 'Vietnam', 'location_type': 'location', 'coordinates': [105.39667510986328, 21.732568740844727]}]}, {'id': '05ae0e1c-ec2a-4882-b279-d9e2b27cae1c', 'name': 'Eastern Europe', 'entity_type': 'location', 'locations': [{'name': 'Eastern Europe', 'location_type': 'location', 'coordinates': [10.784000396728516, 47.64910125732422]}]}, {'id': 'b544532c-315f-4824-996d-c5474b5b9bbe', 'name': 'Hungary', 'entity_type': 'location', 'locations': [{'name': 'Hungary', 'location_type': 'location', 'coordinates': [19.447898864746094, 47.086856842041016]}]}, {'id': 'e560ff61-ecd9-4d29-ab73-c45675a87836', 'name': 'Paris', 'entity_type': 'location', 'locations': [{'name': 'Paris', 'location_type': 'location', 'coordinates': [2.340395927429199, 48.858848571777344]}]}, {'id': 'ef8505f0-3c5f-424b-bf92-94827b81a916', 'name': 'Calais', 'entity_type': 'location', 'locations': [{'name': 'Calais', 'location_type': 'location', 'coordinates': [1.8713610172271729, 50.953617095947266]}]}, {'id': '851fd8a0-8cd0-45b0-898d-c91d812c17b8', 'name': 'Prague', 'entity_type': 'location', 'locations': [{'name': 'Prague', 'location_type': 'location', 'coordinates': [14.465928077697754, 50.07381820678711]}]}, {'id': '2a143222-8ec8-4f33-a800-c90478863d38', 'name': 'Czech Republic', 'entity_type': 'location', 'locations': [{'name': 'Czech Republic', 'location_type': 'location', 'coordinates': [15.377704620361328, 49.88233184814453]}]}, {'id': '3f6e21de-a381-4d75-a58d-8311c926f833', 'name': 'Berlin', 'entity_type': 'location', 'locations': [{'name': 'Berlin', 'location_type': 'location', 'coordinates': [13.407032012939453, 52.524932861328125]}]}, {'id': '134a7cbf-6745-4ac1-9f30-da0abda9dd19', 'name': 'Dover', 'entity_type': 'location', 'locations': [{'name': 'Dover', 'location_type': 'location', 'coordinates': [-75.52618408203125, 39.16621780395508]}]}, {'id': '3273bc0f-a523-4769-91f0-9a4623674f47', 'name': 'France', 'entity_type': 'location', 'locations': [{'name': 'France', 'location_type': 'location', 'coordinates': [2.4644830226898193, 46.71484375]}]}, {'id': '62f0f22a-1c23-4973-954c-3ba91e85a11f', 'name': 'Dunkirk', 'entity_type': 'location', 'locations': [{'name': 'Dunkirk', 'location_type': 'location', 'coordinates': [2.3718481063842773, 51.03730010986328]}]}], 'tags': [{'id': '278a37a2-cd94-4fba-bca8-f475b1f23bf5', 'name': 'geocoded'}], 'evaluation': {'thematic_locations': None, 'content_id': '07d884ff-3856-4607-b1bd-7bd45d4355b1', 'sociocultural_interest': 5, 'regional_political_impact': 3, 'regional_economic_impact': 2, 'event_subtype': 'People smuggling', 'rhetoric': 'neutral', 'id': '75edddd5-8e12-4f4d-8aa6-f97a3cbc4368', 'global_political_impact': 2, 'global_economic_impact': 1, 'event_type': 'Other', 'categories': ['Immigration', 'Crime']}}\n"
     ]
    }
   ],
   "source": [
    "from opol.main import OPOL\n",
    "\n",
    "opol = OPOL(mode=\"remote\", api_key=\"\")\n",
    "\n",
    "articles = opol.articles.by_entity(\"Germany\")\n",
    "for article in articles:\n",
    "    print(article) "
   ]
  },
  {
   "cell_type": "code",
   "execution_count": null,
   "metadata": {},
   "outputs": [],
   "source": []
  },
  {
   "cell_type": "code",
   "execution_count": null,
   "metadata": {},
   "outputs": [],
   "source": []
  }
 ],
 "metadata": {
  "kernelspec": {
   "display_name": "Python 3",
   "language": "python",
   "name": "python3"
  },
  "language_info": {
   "codemirror_mode": {
    "name": "ipython",
    "version": 3
   },
   "file_extension": ".py",
   "mimetype": "text/x-python",
   "name": "python",
   "nbconvert_exporter": "python",
   "pygments_lexer": "ipython3",
   "version": "3.10.12"
  }
 },
 "nbformat": 4,
 "nbformat_minor": 2
}
